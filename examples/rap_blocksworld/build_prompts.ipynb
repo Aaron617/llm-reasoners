{
 "cells": [
  {
   "cell_type": "code",
   "execution_count": 1,
   "metadata": {},
   "outputs": [],
   "source": [
    "import reasoners.benchmark.bw_utils as utils\n",
    "import sys\n",
    "import os\n",
    "os.chdir('../..')"
   ]
  },
  {
   "cell_type": "code",
   "execution_count": 2,
   "metadata": {},
   "outputs": [],
   "source": [
    "config_file: str = \"examples/rap_blocksworld/data/bw_config.yaml\"\n",
    "domain_file: str = \"examples/rap_blocksworld/data/generated_domain.pddl\"\n",
    "prompt_path: str = 'examples/rap_blocksworld/prompts/prompt.json'\n",
    "data_path: str = '/data/shibo/LLM-search/examples/rap_blocksworld/data/new_data/step_4.json'"
   ]
  },
  {
   "cell_type": "code",
   "execution_count": 3,
   "metadata": {},
   "outputs": [],
   "source": [
    "import json"
   ]
  },
  {
   "cell_type": "code",
   "execution_count": null,
   "metadata": {},
   "outputs": [],
   "source": [
    "for i in [2,4,6,8,10,12]:\n",
    "    data_path: str = f'/data/shibo/LLM-search/examples/rap_blocksworld/data/new_data/step_{i}.json'\n",
    "    data_list = json.load(open(data_path, 'r'))\n",
    "    "
   ]
  },
  {
   "cell_type": "code",
   "execution_count": 3,
   "metadata": {},
   "outputs": [],
   "source": [
    "\n",
    "# prompt = json.load(open(prompt_path, 'r'))"
   ]
  },
  {
   "cell_type": "code",
   "execution_count": 4,
   "metadata": {},
   "outputs": [],
   "source": [
    "data_list = json.load(open(data_path, 'r'))"
   ]
  },
  {
   "cell_type": "code",
   "execution_count": 5,
   "metadata": {},
   "outputs": [
    {
     "data": {
      "text/plain": [
       "86"
      ]
     },
     "execution_count": 5,
     "metadata": {},
     "output_type": "execute_result"
    }
   ],
   "source": [
    "len(data_list)"
   ]
  },
  {
   "cell_type": "code",
   "execution_count": 6,
   "metadata": {},
   "outputs": [],
   "source": [
    "import random\n",
    "random.shuffle(data_list)"
   ]
  },
  {
   "cell_type": "code",
   "execution_count": 7,
   "metadata": {},
   "outputs": [
    {
     "name": "stdout",
     "output_type": "stream",
     "text": [
      "[4, 4, 4, 4, 4, 4, 4, 4, 4, 4]\n"
     ]
    }
   ],
   "source": [
    "print([d[-1] for d in data_list[:10]])"
   ]
  },
  {
   "cell_type": "code",
   "execution_count": 8,
   "metadata": {},
   "outputs": [],
   "source": [
    "prompt_set = utils.load_blocksworld(config_file, domain_file, data_list=data_list[:10], return_intermediate=True)"
   ]
  },
  {
   "cell_type": "code",
   "execution_count": 9,
   "metadata": {},
   "outputs": [],
   "source": [
    "dataset = utils.load_blocksworld(config_file, domain_file, data_list=data_list[10:], return_intermediate=False)"
   ]
  },
  {
   "cell_type": "code",
   "execution_count": 10,
   "metadata": {},
   "outputs": [],
   "source": [
    "import random\n",
    "\n",
    "pool = [\n",
    "    {\"init\": p[\"init\"], \"goal\": p[\"goal\"], \"plan\": p[\"plan\"], \"states\": p[\"states\"]}\n",
    "    for p in prompt_set]"
   ]
  },
  {
   "cell_type": "code",
   "execution_count": 11,
   "metadata": {},
   "outputs": [],
   "source": [
    "prompt_dict = json.load(open(\"/data/shibo/LLM-search/examples/rap_blocksworld/prompts/pool_prompt.json\"))"
   ]
  },
  {
   "cell_type": "code",
   "execution_count": 55,
   "metadata": {},
   "outputs": [],
   "source": [
    "prompt_dict[\"example_pool\"] = pool\n",
    "json.dump(prompt_dict, open('examples/rap_blocksworld/prompts/pool_prompt_v1.json', 'w'))"
   ]
  },
  {
   "cell_type": "code",
   "execution_count": 60,
   "metadata": {},
   "outputs": [
    {
     "data": {
      "text/plain": [
       "[7, 9, 9, 13, 13, 9, 7, 13, 13, 9]"
      ]
     },
     "execution_count": 60,
     "metadata": {},
     "output_type": "execute_result"
    }
   ],
   "source": [
    "[len(ex[\"plan\"].split(\"\\n\")) for ex in prompt_dict[\"example_pool\"]]"
   ]
  },
  {
   "cell_type": "code",
   "execution_count": 61,
   "metadata": {},
   "outputs": [
    {
     "data": {
      "text/plain": [
       "['\\npick up the blue block\\nstack the blue block on top of the yellow block\\npick up the orange block\\nstack the orange block on top of the red block\\n[PLAN END]\\n',\n",
       " '\\nunstack the red block from on top of the yellow block\\nstack the red block on top of the orange block\\nunstack the yellow block from on top of the blue block\\nstack the yellow block on top of the red block\\npick up the blue block\\nstack the blue block on top of the yellow block\\n[PLAN END]\\n',\n",
       " '\\nunstack the red block from on top of the blue block\\nstack the red block on top of the yellow block\\nunstack the blue block from on top of the orange block\\nput down the blue block\\npick up the orange block\\nstack the orange block on top of the red block\\n[PLAN END]\\n',\n",
       " '\\nunstack the orange block from on top of the red block\\nput down the orange block\\nunstack the yellow block from on top of the blue block\\nstack the yellow block on top of the red block\\npick up the blue block\\nstack the blue block on top of the orange block\\nunstack the yellow block from on top of the red block\\nstack the yellow block on top of the blue block\\npick up the red block\\nstack the red block on top of the yellow block\\n[PLAN END]\\n',\n",
       " '\\nunstack the orange block from on top of the yellow block\\nput down the orange block\\nunstack the yellow block from on top of the red block\\nput down the yellow block\\npick up the red block\\nstack the red block on top of the yellow block\\npick up the blue block\\nstack the blue block on top of the red block\\npick up the orange block\\nstack the orange block on top of the blue block\\n[PLAN END]\\n',\n",
       " '\\nunstack the yellow block from on top of the blue block\\nstack the yellow block on top of the orange block\\nunstack the blue block from on top of the red block\\nput down the blue block\\npick up the red block\\nstack the red block on top of the blue block\\n[PLAN END]\\n',\n",
       " '\\nunstack the blue block from on top of the yellow block\\nput down the blue block\\nunstack the yellow block from on top of the red block\\nstack the yellow block on top of the orange block\\n[PLAN END]\\n',\n",
       " '\\nunstack the yellow block from on top of the red block\\nput down the yellow block\\nunstack the red block from on top of the orange block\\nstack the red block on top of the yellow block\\nunstack the orange block from on top of the blue block\\nput down the orange block\\nunstack the red block from on top of the yellow block\\nstack the red block on top of the blue block\\npick up the yellow block\\nstack the yellow block on top of the orange block\\n[PLAN END]\\n',\n",
       " '\\nunstack the blue block from on top of the orange block\\nput down the blue block\\nunstack the orange block from on top of the yellow block\\nput down the orange block\\nunstack the yellow block from on top of the red block\\nstack the yellow block on top of the blue block\\npick up the red block\\nstack the red block on top of the orange block\\nunstack the yellow block from on top of the blue block\\nstack the yellow block on top of the red block\\n[PLAN END]\\n',\n",
       " '\\nunstack the blue block from on top of the orange block\\nput down the blue block\\nunstack the orange block from on top of the yellow block\\nput down the orange block\\npick up the red block\\nstack the red block on top of the yellow block\\n[PLAN END]\\n']"
      ]
     },
     "execution_count": 61,
     "metadata": {},
     "output_type": "execute_result"
    }
   ],
   "source": [
    "[(ex[\"plan\"]) for ex in prompt_dict[\"example_pool\"]]"
   ]
  },
  {
   "cell_type": "code",
   "execution_count": 75,
   "metadata": {},
   "outputs": [
    {
     "data": {
      "text/plain": [
       "'\\npick up the orange block\\n'"
      ]
     },
     "execution_count": 75,
     "metadata": {},
     "output_type": "execute_result"
    }
   ],
   "source": [
    "x = \"\\npick up the blue block\\nstack the blue block on top of the yellow block\\npick up the orange block\\n\"\n",
    "\"\\n\" + \"\\n\".join(x.split(\"\\n\")[3:])"
   ]
  },
  {
   "cell_type": "code",
   "execution_count": null,
   "metadata": {},
   "outputs": [],
   "source": []
  }
 ],
 "metadata": {
  "kernelspec": {
   "display_name": "default",
   "language": "python",
   "name": "python3"
  },
  "language_info": {
   "codemirror_mode": {
    "name": "ipython",
    "version": 3
   },
   "file_extension": ".py",
   "mimetype": "text/x-python",
   "name": "python",
   "nbconvert_exporter": "python",
   "pygments_lexer": "ipython3",
   "version": "3.10.6"
  },
  "orig_nbformat": 4
 },
 "nbformat": 4,
 "nbformat_minor": 2
}
