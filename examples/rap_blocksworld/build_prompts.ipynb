{
 "cells": [
  {
   "cell_type": "code",
   "execution_count": 1,
   "metadata": {},
   "outputs": [],
   "source": [
    "import utils\n",
    "import sys\n",
    "import os\n",
    "os.chdir('../..')"
   ]
  },
  {
   "cell_type": "code",
   "execution_count": 2,
   "metadata": {},
   "outputs": [],
   "source": [
    "config_file: str = \"examples/rap_blocksworld/data/bw_config.yaml\"\n",
    "domain_file: str = \"examples/rap_blocksworld/data/generated_domain.pddl\"\n",
    "prompt_path: str = 'examples/rap_blocksworld/prompts/prompt.json'\n",
    "data_path: str = 'examples/rap_blocksworld/data/under_8.json'"
   ]
  },
  {
   "cell_type": "code",
   "execution_count": 3,
   "metadata": {},
   "outputs": [],
   "source": [
    "import json\n",
    "prompt = json.load(open(prompt_path, 'r'))"
   ]
  },
  {
   "cell_type": "code",
   "execution_count": 4,
   "metadata": {},
   "outputs": [],
   "source": [
    "dataset = utils.load_blocksworld(config_file, domain_file, data_path, prompt)"
   ]
  },
  {
   "cell_type": "code",
   "execution_count": 7,
   "metadata": {},
   "outputs": [],
   "source": [
    "dataset = list(dataset)"
   ]
  },
  {
   "cell_type": "code",
   "execution_count": 12,
   "metadata": {},
   "outputs": [],
   "source": [
    "import random\n",
    "\n",
    "pool = [\n",
    "    {\"init\": p[\"init\"], \"goal\": p[\"goal\"], \"plan\": p[\"plan\"]}\n",
    "    for p in random.sample(dataset, 10)]"
   ]
  },
  {
   "cell_type": "code",
   "execution_count": 13,
   "metadata": {},
   "outputs": [
    {
     "data": {
      "text/plain": [
       "[{'init': 'the red block is clear, the orange block is clear, the hand is empty, the red block is on top of the yellow block, the yellow block is on top of the blue block, the blue block is on the table and the orange block is on the table',\n",
       "  'goal': 'the red block is on top of the blue block and the yellow block is on top of the orange block',\n",
       "  'plan': '\\nunstack the red block from on top of the yellow block\\nput down the red block\\nunstack the yellow block from on top of the blue block\\nstack the yellow block on top of the orange block\\npick up the red block\\nstack the red block on top of the blue block\\n[PLAN END]\\n'},\n",
       " {'init': 'the red block is clear, the orange block is clear, the hand is empty, the orange block is on top of the blue block, the red block is on the table and the blue block is on the table',\n",
       "  'goal': 'the red block is on top of the blue block',\n",
       "  'plan': '\\nunstack the orange block from on top of the blue block\\nput down the orange block\\npick up the red block\\nstack the red block on top of the blue block\\n[PLAN END]\\n'},\n",
       " {'init': 'the blue block is clear, the yellow block is clear, the hand is empty, the blue block is on top of the orange block, the orange block is on top of the red block, the red block is on the table and the yellow block is on the table',\n",
       "  'goal': 'the red block is on top of the yellow block and the yellow block is on top of the blue block',\n",
       "  'plan': '\\nunstack the blue block from on top of the orange block\\nput down the blue block\\npick up the yellow block\\nstack the yellow block on top of the blue block\\nunstack the orange block from on top of the red block\\nput down the orange block\\npick up the red block\\nstack the red block on top of the yellow block\\n[PLAN END]\\n'},\n",
       " {'init': 'the blue block is clear, the orange block is clear, the yellow block is clear, the hand is empty, the blue block is on top of the red block, the red block is on the table, the orange block is on the table and the yellow block is on the table',\n",
       "  'goal': 'the red block is on top of the yellow block and the yellow block is on top of the blue block',\n",
       "  'plan': '\\nunstack the blue block from on top of the red block\\nput down the blue block\\npick up the yellow block\\nstack the yellow block on top of the blue block\\npick up the red block\\nstack the red block on top of the yellow block\\n[PLAN END]\\n'},\n",
       " {'init': 'the red block is clear, the blue block is clear, the yellow block is clear, the hand is empty, the blue block is on top of the orange block, the red block is on the table, the orange block is on the table and the yellow block is on the table',\n",
       "  'goal': 'the red block is on top of the yellow block, the blue block is on top of the red block and the orange block is on top of the blue block',\n",
       "  'plan': '\\npick up the red block\\nstack the red block on top of the yellow block\\nunstack the blue block from on top of the orange block\\nstack the blue block on top of the red block\\npick up the orange block\\nstack the orange block on top of the blue block\\n[PLAN END]\\n'},\n",
       " {'init': 'the yellow block is clear, the hand is empty, the red block is on top of the white block, the blue block is on top of the orange block, the yellow block is on top of the red block, the white block is on top of the blue block and the orange block is on the table',\n",
       "  'goal': 'the yellow block is on top of the white block',\n",
       "  'plan': '\\nunstack the yellow block from on top of the red block\\nput down the yellow block\\nunstack the red block from on top of the white block\\nput down the red block\\npick up the yellow block\\nstack the yellow block on top of the white block\\n[PLAN END]\\n'},\n",
       " {'init': 'the yellow block is clear, the hand is empty, the blue block is on top of the orange block, the orange block is on top of the red block, the yellow block is on top of the blue block and the red block is on the table',\n",
       "  'goal': 'the blue block is on top of the yellow block and the orange block is on top of the blue block',\n",
       "  'plan': '\\nunstack the yellow block from on top of the blue block\\nput down the yellow block\\nunstack the blue block from on top of the orange block\\nstack the blue block on top of the yellow block\\nunstack the orange block from on top of the red block\\nstack the orange block on top of the blue block\\n[PLAN END]\\n'},\n",
       " {'init': 'the red block is clear, the yellow block is clear, the hand is empty, the red block is on top of the blue block, the blue block is on top of the orange block, the orange block is on the table and the yellow block is on the table',\n",
       "  'goal': 'the blue block is on top of the yellow block and the yellow block is on top of the red block',\n",
       "  'plan': '\\nunstack the red block from on top of the blue block\\nput down the red block\\npick up the yellow block\\nstack the yellow block on top of the red block\\nunstack the blue block from on top of the orange block\\nstack the blue block on top of the yellow block\\n[PLAN END]\\n'},\n",
       " {'init': 'the red block is clear, the blue block is clear, the hand is empty, the blue block is on top of the orange block, the red block is on the table and the orange block is on the table',\n",
       "  'goal': 'the blue block is on top of the red block and the orange block is on top of the blue block',\n",
       "  'plan': '\\nunstack the blue block from on top of the orange block\\nstack the blue block on top of the red block\\npick up the orange block\\nstack the orange block on top of the blue block\\n[PLAN END]\\n'},\n",
       " {'init': 'the red block is clear, the hand is empty, the red block is on top of the orange block, the orange block is on top of the yellow block, the yellow block is on top of the blue block and the blue block is on the table',\n",
       "  'goal': 'the blue block is on top of the yellow block, the orange block is on top of the red block and the yellow block is on top of the orange block',\n",
       "  'plan': '\\nunstack the red block from on top of the orange block\\nput down the red block\\nunstack the orange block from on top of the yellow block\\nstack the orange block on top of the red block\\nunstack the yellow block from on top of the blue block\\nstack the yellow block on top of the orange block\\npick up the blue block\\nstack the blue block on top of the yellow block\\n[PLAN END]\\n'}]"
      ]
     },
     "execution_count": 13,
     "metadata": {},
     "output_type": "execute_result"
    }
   ],
   "source": [
    "pool"
   ]
  },
  {
   "cell_type": "code",
   "execution_count": 14,
   "metadata": {},
   "outputs": [],
   "source": [
    "prompt_dic = {\n",
    "    \"example_pool\": pool\n",
    "}\n",
    "json.dump(prompt_dic, open('examples/rap_blocksworld/prompts/pool_prompt_new.json', 'w'))"
   ]
  },
  {
   "cell_type": "code",
   "execution_count": null,
   "metadata": {},
   "outputs": [],
   "source": []
  }
 ],
 "metadata": {
  "kernelspec": {
   "display_name": "default",
   "language": "python",
   "name": "python3"
  },
  "language_info": {
   "codemirror_mode": {
    "name": "ipython",
    "version": 3
   },
   "file_extension": ".py",
   "mimetype": "text/x-python",
   "name": "python",
   "nbconvert_exporter": "python",
   "pygments_lexer": "ipython3",
   "version": "3.10.6"
  },
  "orig_nbformat": 4
 },
 "nbformat": 4,
 "nbformat_minor": 2
}
