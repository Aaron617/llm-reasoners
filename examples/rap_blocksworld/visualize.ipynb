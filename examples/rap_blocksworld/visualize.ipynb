{
 "cells": [
  {
   "cell_type": "code",
   "execution_count": 31,
   "metadata": {},
   "outputs": [],
   "source": [
    "import pickle"
   ]
  },
  {
   "cell_type": "code",
   "execution_count": 32,
   "metadata": {},
   "outputs": [],
   "source": [
    "# add path\n",
    "import sys\n",
    "sys.path.append('..')"
   ]
  },
  {
   "cell_type": "code",
   "execution_count": 33,
   "metadata": {},
   "outputs": [],
   "source": [
    "from reasoners.visualization import TreeLog"
   ]
  },
  {
   "cell_type": "code",
   "execution_count": 34,
   "metadata": {},
   "outputs": [],
   "source": [
    "node_translator = lambda node: {\"blocks_state\": node.state.blocks_state}"
   ]
  },
  {
   "cell_type": "code",
   "execution_count": 35,
   "metadata": {},
   "outputs": [],
   "source": [
    "def get_reward(node):\n",
    "    if hasattr(node, \"reward_details\"):\n",
    "        return node.reward_details\n",
    "    else:\n",
    "        return node.fast_reward_details"
   ]
  },
  {
   "cell_type": "code",
   "execution_count": 44,
   "metadata": {},
   "outputs": [],
   "source": [
    "log = TreeLog.from_MCTSResults(\"/home/shibo/LLM-search/logs/bw_MCTS/07202023-033526/algo_output/2.pkl\", lambda node: {\"blocks_state\": node.state.blocks_state if node.state else None}, lambda node: {\"Q\": node.Q, **get_reward(node)})"
   ]
  },
  {
   "cell_type": "code",
   "execution_count": 45,
   "metadata": {},
   "outputs": [
    {
     "data": {
      "application/vnd.plotly.v1+json": {
       "config": {
        "plotlyServerURL": "https://plot.ly"
       },
       "data": [
        {
         "hoverinfo": "none",
         "line": {
          "color": "rgb(210,210,210)",
          "width": 1
         },
         "mode": "lines",
         "type": "scatter",
         "x": [
          18.25,
          16.9375,
          null,
          16.9375,
          27,
          null,
          16.9375,
          6.875,
          null,
          6.875,
          8,
          null,
          6.875,
          5.75,
          null,
          5.75,
          4.5,
          null,
          4.5,
          5,
          null,
          4.5,
          4,
          null,
          5.75,
          7,
          null,
          5.75,
          6,
          null,
          16.9375,
          24,
          null,
          24,
          26,
          null,
          24,
          25,
          null,
          24,
          22,
          null,
          22,
          24,
          null,
          22,
          23,
          null,
          22,
          20,
          null,
          20,
          21,
          null,
          20,
          20,
          null,
          20,
          19,
          null,
          22,
          22,
          null,
          18.25,
          19.5625,
          null,
          19.5625,
          11.875,
          null,
          11.875,
          13,
          null,
          11.875,
          10.75,
          null,
          10.75,
          12,
          null,
          10.75,
          9.5,
          null,
          9.5,
          10,
          null,
          9.5,
          9,
          null,
          10.75,
          11,
          null,
          19.5625,
          29.25,
          null,
          29.25,
          28.5,
          null,
          28.5,
          28,
          null,
          28,
          28,
          null,
          28.5,
          29,
          null,
          29.25,
          30,
          null,
          19.5625,
          9.875,
          null,
          9.875,
          1.75,
          null,
          1.75,
          0.5,
          null,
          0.5,
          1,
          null,
          0.5,
          0,
          null,
          1.75,
          3,
          null,
          1.75,
          2,
          null,
          9.875,
          18,
          null,
          9.875,
          15.75,
          null,
          15.75,
          14.5,
          null,
          14.5,
          15,
          null,
          14.5,
          14,
          null,
          15.75,
          17,
          null,
          15.75,
          16,
          null
         ],
         "y": [
          0,
          -1,
          null,
          -1,
          -2,
          null,
          -1,
          -2,
          null,
          -2,
          -3,
          null,
          -2,
          -3,
          null,
          -3,
          -4,
          null,
          -4,
          -5,
          null,
          -4,
          -5,
          null,
          -3,
          -4,
          null,
          -3,
          -4,
          null,
          -1,
          -2,
          null,
          -2,
          -3,
          null,
          -2,
          -3,
          null,
          -2,
          -3,
          null,
          -3,
          -4,
          null,
          -3,
          -4,
          null,
          -3,
          -4,
          null,
          -4,
          -5,
          null,
          -4,
          -5,
          null,
          -4,
          -5,
          null,
          -3,
          -4,
          null,
          0,
          -1,
          null,
          -1,
          -2,
          null,
          -2,
          -3,
          null,
          -2,
          -3,
          null,
          -3,
          -4,
          null,
          -3,
          -4,
          null,
          -4,
          -5,
          null,
          -4,
          -5,
          null,
          -3,
          -4,
          null,
          -1,
          -2,
          null,
          -2,
          -3,
          null,
          -3,
          -4,
          null,
          -4,
          -5,
          null,
          -3,
          -4,
          null,
          -2,
          -3,
          null,
          -1,
          -2,
          null,
          -2,
          -3,
          null,
          -3,
          -4,
          null,
          -4,
          -5,
          null,
          -4,
          -5,
          null,
          -3,
          -4,
          null,
          -3,
          -4,
          null,
          -2,
          -3,
          null,
          -2,
          -3,
          null,
          -3,
          -4,
          null,
          -4,
          -5,
          null,
          -4,
          -5,
          null,
          -3,
          -4,
          null,
          -3,
          -4,
          null
         ]
        },
        {
         "hoverinfo": "text",
         "marker": {
          "color": "#6175c1",
          "line": {
           "color": "rgb(50,50,50)",
           "width": 1
          },
          "size": 18,
          "symbol": "circle-dot"
         },
         "mode": "markers",
         "name": "bla",
         "opacity": 0.8,
         "text": [
          "{<br>    \"blocks_state\": \"the red block is clear, the yellow block is<br>clear, the hand is empty, the red block is on top of the blue block,<br>the yellow block is on top of the orange block, the blue block is on<br>the table and the orange block is on the table.\"<br>}",
          "{<br>    \"blocks_state\": \"the blue block is clear, the red block is in the<br>hand, the yellow block is clear, the hand is holding the red block,<br>the yellow block is on top of the orange block, the blue block is on<br>the table, and the orange block is on the table.\",<br>    \"Q\": \"-4.1643548011779785\",<br>    \"intuition\": \"-3.693118\",<br>    \"goal_reached\": \"(False, 0.0)\"<br>}",
          "{<br>    \"blocks_state\": \"the orange block is clear, the red block is<br>clear, the yellow block is in the hand, the hand is holding the yellow<br>block, the red block is on top of the blue block, the blue block is on<br>the table, and the orange block is on the table.\",<br>    \"Q\": \"28.53937017917633\",<br>    \"intuition\": \"-1.0813293\",<br>    \"goal_reached\": \"(False, 0.0)\"<br>}",
          "{<br>    \"blocks_state\": \"the red block is clear, the yellow block is<br>clear, the hand is empty, the red block is on top of the blue block,<br>the yellow block is on top of the orange block, the blue block is on<br>the table, and the orange block is on the table.\",<br>    \"Q\": \"-3.0295276641845703\",<br>    \"intuition\": \"-3.9617615\",<br>    \"goal_reached\": \"(False, 0.0)\"<br>}",
          "{<br>    \"blocks_state\": \"the orange block is clear, the yellow block is<br>clear, the hand is empty, the red block is on top of the blue block,<br>the yellow block is on top of the red block, the blue block is on the<br>table, and the orange block is on the table.\",<br>    \"Q\": \"-2.5891613960266113\",<br>    \"intuition\": \"-1.0396423\",<br>    \"goal_reached\": \"(False, 0.0)\"<br>}",
          "{<br>    \"blocks_state\": \"the orange block is clear, the red block is<br>clear, the yellow block is clear, the hand is empty, the red block is<br>on top of the blue block, the blue block is on the table, the orange<br>block is on the table, and the yellow block is on the table.\",<br>    \"Q\": \"39.70982797940572\",<br>    \"intuition\": \"-1.1757851\",<br>    \"goal_reached\": \"(False, 0.0)\"<br>}",
          "{<br>    \"blocks_state\": \"the orange block is in the hand, the yellow block<br>is clear, the hand is holding the orange block, the red block is on<br>top of the blue block, the yellow block is on top of the red block,<br>and the blue block is on the table.\",<br>    \"Q\": \"-2.069340229034424\",<br>    \"intuition\": \"-2.0014668\",<br>    \"goal_reached\": \"(False, 0.0)\"<br>}",
          "{<br>    \"blocks_state\": \"None\",<br>    \"Q\": \"-1.1231088638305664\",<br>    \"intuition\": \"-2.2462177\"<br>}",
          "{<br>    \"blocks_state\": \"the orange block is clear, the hand is empty, the<br>orange block is on top of the yellow block, the red block is on top of<br>the blue block, the yellow block is on top of the red block, and the<br>blue block is on the table.\",<br>    \"Q\": \"-1.0686068534851074\",<br>    \"intuition\": \"-2.1372137\",<br>    \"goal_reached\": \"(False, 0.0)\"<br>}",
          "{<br>    \"blocks_state\": \"None\",<br>    \"Q\": \"-1.1550326347351074\",<br>    \"intuition\": \"-2.3100653\"<br>}",
          "{<br>    \"blocks_state\": \"None\",<br>    \"Q\": \"-0.9959292411804199\",<br>    \"intuition\": \"-1.9918585\"<br>}",
          "{<br>    \"blocks_state\": \"None\",<br>    \"Q\": \"-3.0027499198913574\",<br>    \"intuition\": \"-6.0055\"<br>}",
          "{<br>    \"blocks_state\": \"the blue block is clear, the red block is clear,<br>the hand is empty, the red block is on top of the yellow block, the<br>yellow block is on top of the orange block, the blue block is on the<br>table, and the orange block is on the table.\",<br>    \"Q\": \"-2.9530892372131348\",<br>    \"intuition\": \"-1.8888006\",<br>    \"goal_reached\": \"(False, 0.0)\"<br>}",
          "{<br>    \"blocks_state\": \"the blue block is clear, the red block is clear,<br>the yellow block is clear, the hand is empty, the yellow block is on<br>top of the orange block, the blue block is on the table, the orange<br>block is on the table, and the red block is on the table.\",<br>    \"Q\": \"-1.682502269744873\",<br>    \"intuition\": \"-1.3079224\",<br>    \"goal_reached\": \"(False, 0.0)\"<br>}",
          "{<br>    \"blocks_state\": \"None\",<br>    \"Q\": \"-2.1286630630493164\",<br>    \"intuition\": \"-4.257326\"<br>}",
          "{<br>    \"blocks_state\": \"None\",<br>    \"Q\": \"-1.2539072036743164\",<br>    \"intuition\": \"-2.5078144\"<br>}",
          "{<br>    \"blocks_state\": \"the blue block is clear, the orange block is<br>clear, the red block is clear, the yellow block is in the hand, the<br>hand is holding the yellow block, the blue block is on the table, the<br>orange block is on the table, and the red block is on the table.\",<br>    \"Q\": \"-1.028541088104248\",<br>    \"intuition\": \"-1.192152\",<br>    \"goal_reached\": \"(False, 0.0)\"<br>}",
          "{<br>    \"blocks_state\": \"None\",<br>    \"Q\": \"-0.9642033576965332\",<br>    \"intuition\": \"-1.9284067\"<br>}",
          "{<br>    \"blocks_state\": \"None\",<br>    \"Q\": \"-2.182465076446533\",<br>    \"intuition\": \"-4.36493\"<br>}",
          "{<br>    \"blocks_state\": \"the blue block is clear, the orange block is<br>clear, the yellow block is clear, the hand is empty, the yellow block<br>is on top of the red block, the blue block is on the table, the orange<br>block is on the table, and the red block is on the table.\",<br>    \"Q\": \"-0.4324650764465332\",<br>    \"intuition\": \"-0.86493015\",<br>    \"goal_reached\": \"(False, 0.0)\"<br>}",
          "{<br>    \"blocks_state\": \"None\",<br>    \"Q\": \"-0.9167523384094238\",<br>    \"intuition\": \"-1.8335047\"<br>}",
          "{<br>    \"blocks_state\": \"None\",<br>    \"Q\": \"-2.0739755630493164\",<br>    \"intuition\": \"-4.147951\"<br>}",
          "{<br>    \"blocks_state\": \"None\",<br>    \"Q\": \"-1.0427255630493164\",<br>    \"intuition\": \"-2.0854511\"<br>}",
          "{<br>    \"blocks_state\": \"None\",<br>    \"Q\": \"-0.9384775161743164\",<br>    \"intuition\": \"-1.876955\"<br>}",
          "{<br>    \"blocks_state\": \"the orange block is in the hand, the red block is<br>clear, the yellow block is clear, the hand is holding the orange<br>block, the red block is on top of the blue block, the blue block is on<br>the table, and the yellow block is on the table.\",<br>    \"Q\": \"48.639249324798584\",<br>    \"intuition\": \"-2.0756855\",<br>    \"goal_reached\": \"(False, 0.0)\"<br>}",
          "{<br>    \"blocks_state\": \"None\",<br>    \"Q\": \"-1.3657245635986328\",<br>    \"intuition\": \"-2.7314491\"<br>}",
          "{<br>    \"blocks_state\": \"the orange block is clear, the red block is<br>clear, the yellow block is in the hand, the hand is holding the yellow<br>block, the red block is on top of the blue block, the blue block is on<br>the table, and the orange block is on the table.\",<br>    \"Q\": \"-1.4099235534667969\",<br>    \"intuition\": \"-1.8886738\",<br>    \"goal_reached\": \"(False, 0.0)\"<br>}",
          "{<br>    \"blocks_state\": \"the red block is clear, the yellow block is<br>clear, the hand is empty, the red block is on top of the blue block,<br>the yellow block is on top of the orange block, the blue block is on<br>the table, and the orange block is on the table.\",<br>    \"Q\": \"-0.46558666229248047\",<br>    \"intuition\": \"-0.9311733\",<br>    \"goal_reached\": \"(False, 0.0)\"<br>}",
          "{<br>    \"blocks_state\": \"None\",<br>    \"Q\": \"-0.7387800216674805\",<br>    \"intuition\": \"-1.47756\"<br>}",
          "{<br>    \"blocks_state\": \"None\",<br>    \"Q\": \"-1.0481152534484863\",<br>    \"intuition\": \"-2.0962305\"<br>}",
          "{<br>    \"blocks_state\": \"None\",<br>    \"Q\": \"-1.8111600875854492\",<br>    \"intuition\": \"-3.6223202\"<br>}",
          "{<br>    \"blocks_state\": \"None\",<br>    \"Q\": \"-0.5522089004516602\",<br>    \"intuition\": \"-1.1044178\"<br>}",
          "{<br>    \"blocks_state\": \"None\",<br>    \"Q\": \"-1.8111600875854492\",<br>    \"intuition\": \"-3.6223202\"<br>}",
          "{<br>    \"blocks_state\": \"the orange block is clear, the red block is<br>clear, the yellow block is in the hand, the hand is holding the yellow<br>block, the red block is on top of the blue block, the blue block is on<br>the table, and the orange block is on the table.\",<br>    \"Q\": \"-1.0486469268798828\",<br>    \"intuition\": \"-1.1044178\",<br>    \"goal_reached\": \"(False, 0.0)\"<br>}",
          "{<br>    \"blocks_state\": \"None\",<br>    \"Q\": \"-2.0587549209594727\",<br>    \"intuition\": \"-4.11751\"<br>}",
          "{<br>    \"blocks_state\": \"the orange block is clear, the yellow block is<br>clear, the hand is empty, the red block is on top of the blue block,<br>the yellow block is on top of the red block, the blue block is on the<br>table, and the orange block is on the table.\",<br>    \"Q\": \"-0.49643802642822266\",<br>    \"intuition\": \"-0.99287605\",<br>    \"goal_reached\": \"(False, 0.0)\"<br>}",
          "{<br>    \"blocks_state\": \"None\",<br>    \"Q\": \"-0.6210970878601074\",<br>    \"intuition\": \"-1.2421942\"<br>}",
          "{<br>    \"blocks_state\": \"None\",<br>    \"Q\": \"-1.0007333755493164\",<br>    \"intuition\": \"-2.0014668\"<br>}",
          "{<br>    \"blocks_state\": \"None\",<br>    \"Q\": \"-1.1231088638305664\",<br>    \"intuition\": \"-2.2462177\"<br>}",
          "{<br>    \"blocks_state\": \"None\",<br>    \"Q\": \"-1.5964365005493164\",<br>    \"intuition\": \"-3.192873\"<br>}",
          "{<br>    \"blocks_state\": \"the blue block is clear, the red block is in the<br>hand, the yellow block is clear, the hand is holding the red block,<br>the yellow block is on top of the orange block, the blue block is on<br>the table, and the orange block is on the table.\",<br>    \"Q\": \"-2.0086889266967773\",<br>    \"intuition\": \"-2.936283\",<br>    \"goal_reached\": \"(False, 0.0)\"<br>}",
          "{<br>    \"blocks_state\": \"the red block is clear, the yellow block is<br>clear, the hand is empty, the red block is on top of the blue block,<br>the yellow block is on top of the orange block, the blue block is on<br>the table, and the orange block is on the table.\",<br>    \"Q\": \"-0.5405473709106445\",<br>    \"intuition\": \"-1.0810947\",<br>    \"goal_reached\": \"(False, 0.0)\"<br>}",
          "{<br>    \"blocks_state\": \"None\",<br>    \"Q\": \"-3.2361040115356445\",<br>    \"intuition\": \"-6.472208\"<br>}",
          "{<br>    \"blocks_state\": \"None\",<br>    \"Q\": \"-0.7429890632629395\",<br>    \"intuition\": \"-1.4859781\"<br>}",
          "{<br>    \"blocks_state\": \"None\",<br>    \"Q\": \"-1.8111600875854492\",<br>    \"intuition\": \"-3.6223202\"<br>}",
          "{<br>    \"blocks_state\": \"None\",<br>    \"Q\": \"-0.5522089004516602\",<br>    \"intuition\": \"-1.1044178\"<br>}",
          "{<br>    \"blocks_state\": \"the orange block is clear, the yellow block is<br>clear, the hand is empty, the orange block is on top of the red block,<br>the red block is on top of the blue block, the blue block is on the<br>table, and the yellow block is on the table.\",<br>    \"Q\": \"49.6770920753479\",<br>    \"intuition\": \"-0.64581585\",<br>    \"goal_reached\": \"(True, 1.0)\"<br>}",
          "{<br>    \"blocks_state\": \"None\",<br>    \"Q\": \"-1.5727553367614746\",<br>    \"intuition\": \"-3.1455107\"<br>}",
          "{<br>    \"blocks_state\": \"None\",<br>    \"Q\": \"-1.0844793319702148\",<br>    \"intuition\": \"-2.1689587\"<br>}",
          "{<br>    \"blocks_state\": \"None\",<br>    \"Q\": \"-1.026904582977295\",<br>    \"intuition\": \"-2.0538092\"<br>}",
          "{<br>    \"blocks_state\": \"None\",<br>    \"Q\": \"-1.1374521255493164\",<br>    \"intuition\": \"-2.2749043\"<br>}"
         ],
         "type": "scatter",
         "x": [
          18.25,
          16.9375,
          19.5625,
          11.875,
          29.25,
          9.875,
          28.5,
          30,
          28,
          29,
          28,
          27,
          6.875,
          24,
          26,
          25,
          22,
          24,
          23,
          20,
          22,
          21,
          20,
          19,
          1.75,
          18,
          15.75,
          14.5,
          17,
          16,
          15,
          14,
          13,
          10.75,
          12,
          9.5,
          11,
          10,
          9,
          8,
          5.75,
          4.5,
          7,
          6,
          5,
          4,
          0.5,
          3,
          2,
          1,
          0
         ],
         "y": [
          0,
          -1,
          -1,
          -2,
          -2,
          -2,
          -3,
          -3,
          -4,
          -4,
          -5,
          -2,
          -2,
          -2,
          -3,
          -3,
          -3,
          -4,
          -4,
          -4,
          -4,
          -5,
          -5,
          -5,
          -3,
          -3,
          -3,
          -4,
          -4,
          -4,
          -5,
          -5,
          -3,
          -3,
          -4,
          -4,
          -4,
          -5,
          -5,
          -3,
          -3,
          -4,
          -4,
          -4,
          -5,
          -5,
          -4,
          -4,
          -4,
          -5,
          -5
         ]
        }
       ],
       "layout": {
        "annotations": [
         {
          "font": {
           "color": "rgb(250,250,250)",
           "size": 10
          },
          "showarrow": false,
          "text": "0",
          "x": 18.25,
          "xref": "x",
          "y": 0,
          "yref": "y"
         },
         {
          "font": {
           "color": "rgb(250,250,250)",
           "size": 10
          },
          "showarrow": false,
          "text": "1",
          "x": 16.9375,
          "xref": "x",
          "y": -1,
          "yref": "y"
         },
         {
          "font": {
           "color": "rgb(250,250,250)",
           "size": 10
          },
          "showarrow": false,
          "text": "2",
          "x": 19.5625,
          "xref": "x",
          "y": -1,
          "yref": "y"
         },
         {
          "font": {
           "color": "rgb(250,250,250)",
           "size": 10
          },
          "showarrow": false,
          "text": "3",
          "x": 11.875,
          "xref": "x",
          "y": -2,
          "yref": "y"
         },
         {
          "font": {
           "color": "rgb(250,250,250)",
           "size": 10
          },
          "showarrow": false,
          "text": "4",
          "x": 29.25,
          "xref": "x",
          "y": -2,
          "yref": "y"
         },
         {
          "font": {
           "color": "rgb(250,250,250)",
           "size": 10
          },
          "showarrow": false,
          "text": "5",
          "x": 9.875,
          "xref": "x",
          "y": -2,
          "yref": "y"
         },
         {
          "font": {
           "color": "rgb(250,250,250)",
           "size": 10
          },
          "showarrow": false,
          "text": "6",
          "x": 28.5,
          "xref": "x",
          "y": -3,
          "yref": "y"
         },
         {
          "font": {
           "color": "rgb(250,250,250)",
           "size": 10
          },
          "showarrow": false,
          "text": "7",
          "x": 30,
          "xref": "x",
          "y": -3,
          "yref": "y"
         },
         {
          "font": {
           "color": "rgb(250,250,250)",
           "size": 10
          },
          "showarrow": false,
          "text": "8",
          "x": 28,
          "xref": "x",
          "y": -4,
          "yref": "y"
         },
         {
          "font": {
           "color": "rgb(250,250,250)",
           "size": 10
          },
          "showarrow": false,
          "text": "9",
          "x": 29,
          "xref": "x",
          "y": -4,
          "yref": "y"
         },
         {
          "font": {
           "color": "rgb(250,250,250)",
           "size": 10
          },
          "showarrow": false,
          "text": "10",
          "x": 28,
          "xref": "x",
          "y": -5,
          "yref": "y"
         },
         {
          "font": {
           "color": "rgb(250,250,250)",
           "size": 10
          },
          "showarrow": false,
          "text": "11",
          "x": 27,
          "xref": "x",
          "y": -2,
          "yref": "y"
         },
         {
          "font": {
           "color": "rgb(250,250,250)",
           "size": 10
          },
          "showarrow": false,
          "text": "12",
          "x": 6.875,
          "xref": "x",
          "y": -2,
          "yref": "y"
         },
         {
          "font": {
           "color": "rgb(250,250,250)",
           "size": 10
          },
          "showarrow": false,
          "text": "13",
          "x": 24,
          "xref": "x",
          "y": -2,
          "yref": "y"
         },
         {
          "font": {
           "color": "rgb(250,250,250)",
           "size": 10
          },
          "showarrow": false,
          "text": "14",
          "x": 26,
          "xref": "x",
          "y": -3,
          "yref": "y"
         },
         {
          "font": {
           "color": "rgb(250,250,250)",
           "size": 10
          },
          "showarrow": false,
          "text": "15",
          "x": 25,
          "xref": "x",
          "y": -3,
          "yref": "y"
         },
         {
          "font": {
           "color": "rgb(250,250,250)",
           "size": 10
          },
          "showarrow": false,
          "text": "16",
          "x": 22,
          "xref": "x",
          "y": -3,
          "yref": "y"
         },
         {
          "font": {
           "color": "rgb(250,250,250)",
           "size": 10
          },
          "showarrow": false,
          "text": "17",
          "x": 24,
          "xref": "x",
          "y": -4,
          "yref": "y"
         },
         {
          "font": {
           "color": "rgb(250,250,250)",
           "size": 10
          },
          "showarrow": false,
          "text": "18",
          "x": 23,
          "xref": "x",
          "y": -4,
          "yref": "y"
         },
         {
          "font": {
           "color": "rgb(250,250,250)",
           "size": 10
          },
          "showarrow": false,
          "text": "19",
          "x": 20,
          "xref": "x",
          "y": -4,
          "yref": "y"
         },
         {
          "font": {
           "color": "rgb(250,250,250)",
           "size": 10
          },
          "showarrow": false,
          "text": "20",
          "x": 22,
          "xref": "x",
          "y": -4,
          "yref": "y"
         },
         {
          "font": {
           "color": "rgb(250,250,250)",
           "size": 10
          },
          "showarrow": false,
          "text": "21",
          "x": 21,
          "xref": "x",
          "y": -5,
          "yref": "y"
         },
         {
          "font": {
           "color": "rgb(250,250,250)",
           "size": 10
          },
          "showarrow": false,
          "text": "22",
          "x": 20,
          "xref": "x",
          "y": -5,
          "yref": "y"
         },
         {
          "font": {
           "color": "rgb(250,250,250)",
           "size": 10
          },
          "showarrow": false,
          "text": "23",
          "x": 19,
          "xref": "x",
          "y": -5,
          "yref": "y"
         },
         {
          "font": {
           "color": "rgb(250,250,250)",
           "size": 10
          },
          "showarrow": false,
          "text": "24",
          "x": 1.75,
          "xref": "x",
          "y": -3,
          "yref": "y"
         },
         {
          "font": {
           "color": "rgb(250,250,250)",
           "size": 10
          },
          "showarrow": false,
          "text": "25",
          "x": 18,
          "xref": "x",
          "y": -3,
          "yref": "y"
         },
         {
          "font": {
           "color": "rgb(250,250,250)",
           "size": 10
          },
          "showarrow": false,
          "text": "26",
          "x": 15.75,
          "xref": "x",
          "y": -3,
          "yref": "y"
         },
         {
          "font": {
           "color": "rgb(250,250,250)",
           "size": 10
          },
          "showarrow": false,
          "text": "27",
          "x": 14.5,
          "xref": "x",
          "y": -4,
          "yref": "y"
         },
         {
          "font": {
           "color": "rgb(250,250,250)",
           "size": 10
          },
          "showarrow": false,
          "text": "28",
          "x": 17,
          "xref": "x",
          "y": -4,
          "yref": "y"
         },
         {
          "font": {
           "color": "rgb(250,250,250)",
           "size": 10
          },
          "showarrow": false,
          "text": "29",
          "x": 16,
          "xref": "x",
          "y": -4,
          "yref": "y"
         },
         {
          "font": {
           "color": "rgb(250,250,250)",
           "size": 10
          },
          "showarrow": false,
          "text": "30",
          "x": 15,
          "xref": "x",
          "y": -5,
          "yref": "y"
         },
         {
          "font": {
           "color": "rgb(250,250,250)",
           "size": 10
          },
          "showarrow": false,
          "text": "31",
          "x": 14,
          "xref": "x",
          "y": -5,
          "yref": "y"
         },
         {
          "font": {
           "color": "rgb(250,250,250)",
           "size": 10
          },
          "showarrow": false,
          "text": "32",
          "x": 13,
          "xref": "x",
          "y": -3,
          "yref": "y"
         },
         {
          "font": {
           "color": "rgb(250,250,250)",
           "size": 10
          },
          "showarrow": false,
          "text": "33",
          "x": 10.75,
          "xref": "x",
          "y": -3,
          "yref": "y"
         },
         {
          "font": {
           "color": "rgb(250,250,250)",
           "size": 10
          },
          "showarrow": false,
          "text": "34",
          "x": 12,
          "xref": "x",
          "y": -4,
          "yref": "y"
         },
         {
          "font": {
           "color": "rgb(250,250,250)",
           "size": 10
          },
          "showarrow": false,
          "text": "35",
          "x": 9.5,
          "xref": "x",
          "y": -4,
          "yref": "y"
         },
         {
          "font": {
           "color": "rgb(250,250,250)",
           "size": 10
          },
          "showarrow": false,
          "text": "36",
          "x": 11,
          "xref": "x",
          "y": -4,
          "yref": "y"
         },
         {
          "font": {
           "color": "rgb(250,250,250)",
           "size": 10
          },
          "showarrow": false,
          "text": "37",
          "x": 10,
          "xref": "x",
          "y": -5,
          "yref": "y"
         },
         {
          "font": {
           "color": "rgb(250,250,250)",
           "size": 10
          },
          "showarrow": false,
          "text": "38",
          "x": 9,
          "xref": "x",
          "y": -5,
          "yref": "y"
         },
         {
          "font": {
           "color": "rgb(250,250,250)",
           "size": 10
          },
          "showarrow": false,
          "text": "39",
          "x": 8,
          "xref": "x",
          "y": -3,
          "yref": "y"
         },
         {
          "font": {
           "color": "rgb(250,250,250)",
           "size": 10
          },
          "showarrow": false,
          "text": "40",
          "x": 5.75,
          "xref": "x",
          "y": -3,
          "yref": "y"
         },
         {
          "font": {
           "color": "rgb(250,250,250)",
           "size": 10
          },
          "showarrow": false,
          "text": "41",
          "x": 4.5,
          "xref": "x",
          "y": -4,
          "yref": "y"
         },
         {
          "font": {
           "color": "rgb(250,250,250)",
           "size": 10
          },
          "showarrow": false,
          "text": "42",
          "x": 7,
          "xref": "x",
          "y": -4,
          "yref": "y"
         },
         {
          "font": {
           "color": "rgb(250,250,250)",
           "size": 10
          },
          "showarrow": false,
          "text": "43",
          "x": 6,
          "xref": "x",
          "y": -4,
          "yref": "y"
         },
         {
          "font": {
           "color": "rgb(250,250,250)",
           "size": 10
          },
          "showarrow": false,
          "text": "44",
          "x": 5,
          "xref": "x",
          "y": -5,
          "yref": "y"
         },
         {
          "font": {
           "color": "rgb(250,250,250)",
           "size": 10
          },
          "showarrow": false,
          "text": "45",
          "x": 4,
          "xref": "x",
          "y": -5,
          "yref": "y"
         },
         {
          "font": {
           "color": "rgb(250,250,250)",
           "size": 10
          },
          "showarrow": false,
          "text": "46",
          "x": 0.5,
          "xref": "x",
          "y": -4,
          "yref": "y"
         },
         {
          "font": {
           "color": "rgb(250,250,250)",
           "size": 10
          },
          "showarrow": false,
          "text": "47",
          "x": 3,
          "xref": "x",
          "y": -4,
          "yref": "y"
         },
         {
          "font": {
           "color": "rgb(250,250,250)",
           "size": 10
          },
          "showarrow": false,
          "text": "48",
          "x": 2,
          "xref": "x",
          "y": -4,
          "yref": "y"
         },
         {
          "font": {
           "color": "rgb(250,250,250)",
           "size": 10
          },
          "showarrow": false,
          "text": "49",
          "x": 1,
          "xref": "x",
          "y": -5,
          "yref": "y"
         },
         {
          "font": {
           "color": "rgb(250,250,250)",
           "size": 10
          },
          "showarrow": false,
          "text": "50",
          "x": 0,
          "xref": "x",
          "y": -5,
          "yref": "y"
         }
        ],
        "font": {
         "size": 12
        },
        "hovermode": "closest",
        "margin": {
         "b": 10,
         "l": 10,
         "r": 10,
         "t": 10
        },
        "plot_bgcolor": "rgb(248,248,248)",
        "showlegend": false,
        "template": {
         "data": {
          "bar": [
           {
            "error_x": {
             "color": "#2a3f5f"
            },
            "error_y": {
             "color": "#2a3f5f"
            },
            "marker": {
             "line": {
              "color": "#E5ECF6",
              "width": 0.5
             },
             "pattern": {
              "fillmode": "overlay",
              "size": 10,
              "solidity": 0.2
             }
            },
            "type": "bar"
           }
          ],
          "barpolar": [
           {
            "marker": {
             "line": {
              "color": "#E5ECF6",
              "width": 0.5
             },
             "pattern": {
              "fillmode": "overlay",
              "size": 10,
              "solidity": 0.2
             }
            },
            "type": "barpolar"
           }
          ],
          "carpet": [
           {
            "aaxis": {
             "endlinecolor": "#2a3f5f",
             "gridcolor": "white",
             "linecolor": "white",
             "minorgridcolor": "white",
             "startlinecolor": "#2a3f5f"
            },
            "baxis": {
             "endlinecolor": "#2a3f5f",
             "gridcolor": "white",
             "linecolor": "white",
             "minorgridcolor": "white",
             "startlinecolor": "#2a3f5f"
            },
            "type": "carpet"
           }
          ],
          "choropleth": [
           {
            "colorbar": {
             "outlinewidth": 0,
             "ticks": ""
            },
            "type": "choropleth"
           }
          ],
          "contour": [
           {
            "colorbar": {
             "outlinewidth": 0,
             "ticks": ""
            },
            "colorscale": [
             [
              0,
              "#0d0887"
             ],
             [
              0.1111111111111111,
              "#46039f"
             ],
             [
              0.2222222222222222,
              "#7201a8"
             ],
             [
              0.3333333333333333,
              "#9c179e"
             ],
             [
              0.4444444444444444,
              "#bd3786"
             ],
             [
              0.5555555555555556,
              "#d8576b"
             ],
             [
              0.6666666666666666,
              "#ed7953"
             ],
             [
              0.7777777777777778,
              "#fb9f3a"
             ],
             [
              0.8888888888888888,
              "#fdca26"
             ],
             [
              1,
              "#f0f921"
             ]
            ],
            "type": "contour"
           }
          ],
          "contourcarpet": [
           {
            "colorbar": {
             "outlinewidth": 0,
             "ticks": ""
            },
            "type": "contourcarpet"
           }
          ],
          "heatmap": [
           {
            "colorbar": {
             "outlinewidth": 0,
             "ticks": ""
            },
            "colorscale": [
             [
              0,
              "#0d0887"
             ],
             [
              0.1111111111111111,
              "#46039f"
             ],
             [
              0.2222222222222222,
              "#7201a8"
             ],
             [
              0.3333333333333333,
              "#9c179e"
             ],
             [
              0.4444444444444444,
              "#bd3786"
             ],
             [
              0.5555555555555556,
              "#d8576b"
             ],
             [
              0.6666666666666666,
              "#ed7953"
             ],
             [
              0.7777777777777778,
              "#fb9f3a"
             ],
             [
              0.8888888888888888,
              "#fdca26"
             ],
             [
              1,
              "#f0f921"
             ]
            ],
            "type": "heatmap"
           }
          ],
          "heatmapgl": [
           {
            "colorbar": {
             "outlinewidth": 0,
             "ticks": ""
            },
            "colorscale": [
             [
              0,
              "#0d0887"
             ],
             [
              0.1111111111111111,
              "#46039f"
             ],
             [
              0.2222222222222222,
              "#7201a8"
             ],
             [
              0.3333333333333333,
              "#9c179e"
             ],
             [
              0.4444444444444444,
              "#bd3786"
             ],
             [
              0.5555555555555556,
              "#d8576b"
             ],
             [
              0.6666666666666666,
              "#ed7953"
             ],
             [
              0.7777777777777778,
              "#fb9f3a"
             ],
             [
              0.8888888888888888,
              "#fdca26"
             ],
             [
              1,
              "#f0f921"
             ]
            ],
            "type": "heatmapgl"
           }
          ],
          "histogram": [
           {
            "marker": {
             "pattern": {
              "fillmode": "overlay",
              "size": 10,
              "solidity": 0.2
             }
            },
            "type": "histogram"
           }
          ],
          "histogram2d": [
           {
            "colorbar": {
             "outlinewidth": 0,
             "ticks": ""
            },
            "colorscale": [
             [
              0,
              "#0d0887"
             ],
             [
              0.1111111111111111,
              "#46039f"
             ],
             [
              0.2222222222222222,
              "#7201a8"
             ],
             [
              0.3333333333333333,
              "#9c179e"
             ],
             [
              0.4444444444444444,
              "#bd3786"
             ],
             [
              0.5555555555555556,
              "#d8576b"
             ],
             [
              0.6666666666666666,
              "#ed7953"
             ],
             [
              0.7777777777777778,
              "#fb9f3a"
             ],
             [
              0.8888888888888888,
              "#fdca26"
             ],
             [
              1,
              "#f0f921"
             ]
            ],
            "type": "histogram2d"
           }
          ],
          "histogram2dcontour": [
           {
            "colorbar": {
             "outlinewidth": 0,
             "ticks": ""
            },
            "colorscale": [
             [
              0,
              "#0d0887"
             ],
             [
              0.1111111111111111,
              "#46039f"
             ],
             [
              0.2222222222222222,
              "#7201a8"
             ],
             [
              0.3333333333333333,
              "#9c179e"
             ],
             [
              0.4444444444444444,
              "#bd3786"
             ],
             [
              0.5555555555555556,
              "#d8576b"
             ],
             [
              0.6666666666666666,
              "#ed7953"
             ],
             [
              0.7777777777777778,
              "#fb9f3a"
             ],
             [
              0.8888888888888888,
              "#fdca26"
             ],
             [
              1,
              "#f0f921"
             ]
            ],
            "type": "histogram2dcontour"
           }
          ],
          "mesh3d": [
           {
            "colorbar": {
             "outlinewidth": 0,
             "ticks": ""
            },
            "type": "mesh3d"
           }
          ],
          "parcoords": [
           {
            "line": {
             "colorbar": {
              "outlinewidth": 0,
              "ticks": ""
             }
            },
            "type": "parcoords"
           }
          ],
          "pie": [
           {
            "automargin": true,
            "type": "pie"
           }
          ],
          "scatter": [
           {
            "fillpattern": {
             "fillmode": "overlay",
             "size": 10,
             "solidity": 0.2
            },
            "type": "scatter"
           }
          ],
          "scatter3d": [
           {
            "line": {
             "colorbar": {
              "outlinewidth": 0,
              "ticks": ""
             }
            },
            "marker": {
             "colorbar": {
              "outlinewidth": 0,
              "ticks": ""
             }
            },
            "type": "scatter3d"
           }
          ],
          "scattercarpet": [
           {
            "marker": {
             "colorbar": {
              "outlinewidth": 0,
              "ticks": ""
             }
            },
            "type": "scattercarpet"
           }
          ],
          "scattergeo": [
           {
            "marker": {
             "colorbar": {
              "outlinewidth": 0,
              "ticks": ""
             }
            },
            "type": "scattergeo"
           }
          ],
          "scattergl": [
           {
            "marker": {
             "colorbar": {
              "outlinewidth": 0,
              "ticks": ""
             }
            },
            "type": "scattergl"
           }
          ],
          "scattermapbox": [
           {
            "marker": {
             "colorbar": {
              "outlinewidth": 0,
              "ticks": ""
             }
            },
            "type": "scattermapbox"
           }
          ],
          "scatterpolar": [
           {
            "marker": {
             "colorbar": {
              "outlinewidth": 0,
              "ticks": ""
             }
            },
            "type": "scatterpolar"
           }
          ],
          "scatterpolargl": [
           {
            "marker": {
             "colorbar": {
              "outlinewidth": 0,
              "ticks": ""
             }
            },
            "type": "scatterpolargl"
           }
          ],
          "scatterternary": [
           {
            "marker": {
             "colorbar": {
              "outlinewidth": 0,
              "ticks": ""
             }
            },
            "type": "scatterternary"
           }
          ],
          "surface": [
           {
            "colorbar": {
             "outlinewidth": 0,
             "ticks": ""
            },
            "colorscale": [
             [
              0,
              "#0d0887"
             ],
             [
              0.1111111111111111,
              "#46039f"
             ],
             [
              0.2222222222222222,
              "#7201a8"
             ],
             [
              0.3333333333333333,
              "#9c179e"
             ],
             [
              0.4444444444444444,
              "#bd3786"
             ],
             [
              0.5555555555555556,
              "#d8576b"
             ],
             [
              0.6666666666666666,
              "#ed7953"
             ],
             [
              0.7777777777777778,
              "#fb9f3a"
             ],
             [
              0.8888888888888888,
              "#fdca26"
             ],
             [
              1,
              "#f0f921"
             ]
            ],
            "type": "surface"
           }
          ],
          "table": [
           {
            "cells": {
             "fill": {
              "color": "#EBF0F8"
             },
             "line": {
              "color": "white"
             }
            },
            "header": {
             "fill": {
              "color": "#C8D4E3"
             },
             "line": {
              "color": "white"
             }
            },
            "type": "table"
           }
          ]
         },
         "layout": {
          "annotationdefaults": {
           "arrowcolor": "#2a3f5f",
           "arrowhead": 0,
           "arrowwidth": 1
          },
          "autotypenumbers": "strict",
          "coloraxis": {
           "colorbar": {
            "outlinewidth": 0,
            "ticks": ""
           }
          },
          "colorscale": {
           "diverging": [
            [
             0,
             "#8e0152"
            ],
            [
             0.1,
             "#c51b7d"
            ],
            [
             0.2,
             "#de77ae"
            ],
            [
             0.3,
             "#f1b6da"
            ],
            [
             0.4,
             "#fde0ef"
            ],
            [
             0.5,
             "#f7f7f7"
            ],
            [
             0.6,
             "#e6f5d0"
            ],
            [
             0.7,
             "#b8e186"
            ],
            [
             0.8,
             "#7fbc41"
            ],
            [
             0.9,
             "#4d9221"
            ],
            [
             1,
             "#276419"
            ]
           ],
           "sequential": [
            [
             0,
             "#0d0887"
            ],
            [
             0.1111111111111111,
             "#46039f"
            ],
            [
             0.2222222222222222,
             "#7201a8"
            ],
            [
             0.3333333333333333,
             "#9c179e"
            ],
            [
             0.4444444444444444,
             "#bd3786"
            ],
            [
             0.5555555555555556,
             "#d8576b"
            ],
            [
             0.6666666666666666,
             "#ed7953"
            ],
            [
             0.7777777777777778,
             "#fb9f3a"
            ],
            [
             0.8888888888888888,
             "#fdca26"
            ],
            [
             1,
             "#f0f921"
            ]
           ],
           "sequentialminus": [
            [
             0,
             "#0d0887"
            ],
            [
             0.1111111111111111,
             "#46039f"
            ],
            [
             0.2222222222222222,
             "#7201a8"
            ],
            [
             0.3333333333333333,
             "#9c179e"
            ],
            [
             0.4444444444444444,
             "#bd3786"
            ],
            [
             0.5555555555555556,
             "#d8576b"
            ],
            [
             0.6666666666666666,
             "#ed7953"
            ],
            [
             0.7777777777777778,
             "#fb9f3a"
            ],
            [
             0.8888888888888888,
             "#fdca26"
            ],
            [
             1,
             "#f0f921"
            ]
           ]
          },
          "colorway": [
           "#636efa",
           "#EF553B",
           "#00cc96",
           "#ab63fa",
           "#FFA15A",
           "#19d3f3",
           "#FF6692",
           "#B6E880",
           "#FF97FF",
           "#FECB52"
          ],
          "font": {
           "color": "#2a3f5f"
          },
          "geo": {
           "bgcolor": "white",
           "lakecolor": "white",
           "landcolor": "#E5ECF6",
           "showlakes": true,
           "showland": true,
           "subunitcolor": "white"
          },
          "hoverlabel": {
           "align": "left"
          },
          "hovermode": "closest",
          "mapbox": {
           "style": "light"
          },
          "paper_bgcolor": "white",
          "plot_bgcolor": "#E5ECF6",
          "polar": {
           "angularaxis": {
            "gridcolor": "white",
            "linecolor": "white",
            "ticks": ""
           },
           "bgcolor": "#E5ECF6",
           "radialaxis": {
            "gridcolor": "white",
            "linecolor": "white",
            "ticks": ""
           }
          },
          "scene": {
           "xaxis": {
            "backgroundcolor": "#E5ECF6",
            "gridcolor": "white",
            "gridwidth": 2,
            "linecolor": "white",
            "showbackground": true,
            "ticks": "",
            "zerolinecolor": "white"
           },
           "yaxis": {
            "backgroundcolor": "#E5ECF6",
            "gridcolor": "white",
            "gridwidth": 2,
            "linecolor": "white",
            "showbackground": true,
            "ticks": "",
            "zerolinecolor": "white"
           },
           "zaxis": {
            "backgroundcolor": "#E5ECF6",
            "gridcolor": "white",
            "gridwidth": 2,
            "linecolor": "white",
            "showbackground": true,
            "ticks": "",
            "zerolinecolor": "white"
           }
          },
          "shapedefaults": {
           "line": {
            "color": "#2a3f5f"
           }
          },
          "ternary": {
           "aaxis": {
            "gridcolor": "white",
            "linecolor": "white",
            "ticks": ""
           },
           "baxis": {
            "gridcolor": "white",
            "linecolor": "white",
            "ticks": ""
           },
           "bgcolor": "#E5ECF6",
           "caxis": {
            "gridcolor": "white",
            "linecolor": "white",
            "ticks": ""
           }
          },
          "title": {
           "x": 0.05
          },
          "xaxis": {
           "automargin": true,
           "gridcolor": "white",
           "linecolor": "white",
           "ticks": "",
           "title": {
            "standoff": 15
           },
           "zerolinecolor": "white",
           "zerolinewidth": 2
          },
          "yaxis": {
           "automargin": true,
           "gridcolor": "white",
           "linecolor": "white",
           "ticks": "",
           "title": {
            "standoff": 15
           },
           "zerolinecolor": "white",
           "zerolinewidth": 2
          }
         }
        },
        "xaxis": {
         "showgrid": false,
         "showline": false,
         "showticklabels": false,
         "zeroline": false
        },
        "yaxis": {
         "showgrid": false,
         "showline": false,
         "showticklabels": false,
         "zeroline": false
        }
       }
      },
      "text/html": [
       "<div>                            <div id=\"eb33da70-5e00-4f01-bbe0-40d37b3b5e8d\" class=\"plotly-graph-div\" style=\"height:525px; width:100%;\"></div>            <script type=\"text/javascript\">                require([\"plotly\"], function(Plotly) {                    window.PLOTLYENV=window.PLOTLYENV || {};                                    if (document.getElementById(\"eb33da70-5e00-4f01-bbe0-40d37b3b5e8d\")) {                    Plotly.newPlot(                        \"eb33da70-5e00-4f01-bbe0-40d37b3b5e8d\",                        [{\"hoverinfo\":\"none\",\"line\":{\"color\":\"rgb(210,210,210)\",\"width\":1},\"mode\":\"lines\",\"x\":[18.25,16.9375,null,16.9375,27.0,null,16.9375,6.875,null,6.875,8.0,null,6.875,5.75,null,5.75,4.5,null,4.5,5.0,null,4.5,4.0,null,5.75,7.0,null,5.75,6.0,null,16.9375,24.0,null,24.0,26.0,null,24.0,25.0,null,24.0,22.0,null,22.0,24.0,null,22.0,23.0,null,22.0,20.0,null,20.0,21.0,null,20.0,20.0,null,20.0,19.0,null,22.0,22.0,null,18.25,19.5625,null,19.5625,11.875,null,11.875,13.0,null,11.875,10.75,null,10.75,12.0,null,10.75,9.5,null,9.5,10.0,null,9.5,9.0,null,10.75,11.0,null,19.5625,29.25,null,29.25,28.5,null,28.5,28.0,null,28.0,28.0,null,28.5,29.0,null,29.25,30.0,null,19.5625,9.875,null,9.875,1.75,null,1.75,0.5,null,0.5,1.0,null,0.5,0.0,null,1.75,3.0,null,1.75,2.0,null,9.875,18.0,null,9.875,15.75,null,15.75,14.5,null,14.5,15.0,null,14.5,14.0,null,15.75,17.0,null,15.75,16.0,null],\"y\":[0.0,-1.0,null,-1.0,-2.0,null,-1.0,-2.0,null,-2.0,-3.0,null,-2.0,-3.0,null,-3.0,-4.0,null,-4.0,-5.0,null,-4.0,-5.0,null,-3.0,-4.0,null,-3.0,-4.0,null,-1.0,-2.0,null,-2.0,-3.0,null,-2.0,-3.0,null,-2.0,-3.0,null,-3.0,-4.0,null,-3.0,-4.0,null,-3.0,-4.0,null,-4.0,-5.0,null,-4.0,-5.0,null,-4.0,-5.0,null,-3.0,-4.0,null,0.0,-1.0,null,-1.0,-2.0,null,-2.0,-3.0,null,-2.0,-3.0,null,-3.0,-4.0,null,-3.0,-4.0,null,-4.0,-5.0,null,-4.0,-5.0,null,-3.0,-4.0,null,-1.0,-2.0,null,-2.0,-3.0,null,-3.0,-4.0,null,-4.0,-5.0,null,-3.0,-4.0,null,-2.0,-3.0,null,-1.0,-2.0,null,-2.0,-3.0,null,-3.0,-4.0,null,-4.0,-5.0,null,-4.0,-5.0,null,-3.0,-4.0,null,-3.0,-4.0,null,-2.0,-3.0,null,-2.0,-3.0,null,-3.0,-4.0,null,-4.0,-5.0,null,-4.0,-5.0,null,-3.0,-4.0,null,-3.0,-4.0,null],\"type\":\"scatter\"},{\"hoverinfo\":\"text\",\"marker\":{\"color\":\"#6175c1\",\"line\":{\"color\":\"rgb(50,50,50)\",\"width\":1},\"size\":18,\"symbol\":\"circle-dot\"},\"mode\":\"markers\",\"name\":\"bla\",\"opacity\":0.8,\"text\":[\"{\\u003cbr\\u003e    \\\"blocks_state\\\": \\\"the red block is clear, the yellow block is\\u003cbr\\u003eclear, the hand is empty, the red block is on top of the blue block,\\u003cbr\\u003ethe yellow block is on top of the orange block, the blue block is on\\u003cbr\\u003ethe table and the orange block is on the table.\\\"\\u003cbr\\u003e}\",\"{\\u003cbr\\u003e    \\\"blocks_state\\\": \\\"the blue block is clear, the red block is in the\\u003cbr\\u003ehand, the yellow block is clear, the hand is holding the red block,\\u003cbr\\u003ethe yellow block is on top of the orange block, the blue block is on\\u003cbr\\u003ethe table, and the orange block is on the table.\\\",\\u003cbr\\u003e    \\\"Q\\\": \\\"-4.1643548011779785\\\",\\u003cbr\\u003e    \\\"intuition\\\": \\\"-3.693118\\\",\\u003cbr\\u003e    \\\"goal_reached\\\": \\\"(False, 0.0)\\\"\\u003cbr\\u003e}\",\"{\\u003cbr\\u003e    \\\"blocks_state\\\": \\\"the orange block is clear, the red block is\\u003cbr\\u003eclear, the yellow block is in the hand, the hand is holding the yellow\\u003cbr\\u003eblock, the red block is on top of the blue block, the blue block is on\\u003cbr\\u003ethe table, and the orange block is on the table.\\\",\\u003cbr\\u003e    \\\"Q\\\": \\\"28.53937017917633\\\",\\u003cbr\\u003e    \\\"intuition\\\": \\\"-1.0813293\\\",\\u003cbr\\u003e    \\\"goal_reached\\\": \\\"(False, 0.0)\\\"\\u003cbr\\u003e}\",\"{\\u003cbr\\u003e    \\\"blocks_state\\\": \\\"the red block is clear, the yellow block is\\u003cbr\\u003eclear, the hand is empty, the red block is on top of the blue block,\\u003cbr\\u003ethe yellow block is on top of the orange block, the blue block is on\\u003cbr\\u003ethe table, and the orange block is on the table.\\\",\\u003cbr\\u003e    \\\"Q\\\": \\\"-3.0295276641845703\\\",\\u003cbr\\u003e    \\\"intuition\\\": \\\"-3.9617615\\\",\\u003cbr\\u003e    \\\"goal_reached\\\": \\\"(False, 0.0)\\\"\\u003cbr\\u003e}\",\"{\\u003cbr\\u003e    \\\"blocks_state\\\": \\\"the orange block is clear, the yellow block is\\u003cbr\\u003eclear, the hand is empty, the red block is on top of the blue block,\\u003cbr\\u003ethe yellow block is on top of the red block, the blue block is on the\\u003cbr\\u003etable, and the orange block is on the table.\\\",\\u003cbr\\u003e    \\\"Q\\\": \\\"-2.5891613960266113\\\",\\u003cbr\\u003e    \\\"intuition\\\": \\\"-1.0396423\\\",\\u003cbr\\u003e    \\\"goal_reached\\\": \\\"(False, 0.0)\\\"\\u003cbr\\u003e}\",\"{\\u003cbr\\u003e    \\\"blocks_state\\\": \\\"the orange block is clear, the red block is\\u003cbr\\u003eclear, the yellow block is clear, the hand is empty, the red block is\\u003cbr\\u003eon top of the blue block, the blue block is on the table, the orange\\u003cbr\\u003eblock is on the table, and the yellow block is on the table.\\\",\\u003cbr\\u003e    \\\"Q\\\": \\\"39.70982797940572\\\",\\u003cbr\\u003e    \\\"intuition\\\": \\\"-1.1757851\\\",\\u003cbr\\u003e    \\\"goal_reached\\\": \\\"(False, 0.0)\\\"\\u003cbr\\u003e}\",\"{\\u003cbr\\u003e    \\\"blocks_state\\\": \\\"the orange block is in the hand, the yellow block\\u003cbr\\u003eis clear, the hand is holding the orange block, the red block is on\\u003cbr\\u003etop of the blue block, the yellow block is on top of the red block,\\u003cbr\\u003eand the blue block is on the table.\\\",\\u003cbr\\u003e    \\\"Q\\\": \\\"-2.069340229034424\\\",\\u003cbr\\u003e    \\\"intuition\\\": \\\"-2.0014668\\\",\\u003cbr\\u003e    \\\"goal_reached\\\": \\\"(False, 0.0)\\\"\\u003cbr\\u003e}\",\"{\\u003cbr\\u003e    \\\"blocks_state\\\": \\\"None\\\",\\u003cbr\\u003e    \\\"Q\\\": \\\"-1.1231088638305664\\\",\\u003cbr\\u003e    \\\"intuition\\\": \\\"-2.2462177\\\"\\u003cbr\\u003e}\",\"{\\u003cbr\\u003e    \\\"blocks_state\\\": \\\"the orange block is clear, the hand is empty, the\\u003cbr\\u003eorange block is on top of the yellow block, the red block is on top of\\u003cbr\\u003ethe blue block, the yellow block is on top of the red block, and the\\u003cbr\\u003eblue block is on the table.\\\",\\u003cbr\\u003e    \\\"Q\\\": \\\"-1.0686068534851074\\\",\\u003cbr\\u003e    \\\"intuition\\\": \\\"-2.1372137\\\",\\u003cbr\\u003e    \\\"goal_reached\\\": \\\"(False, 0.0)\\\"\\u003cbr\\u003e}\",\"{\\u003cbr\\u003e    \\\"blocks_state\\\": \\\"None\\\",\\u003cbr\\u003e    \\\"Q\\\": \\\"-1.1550326347351074\\\",\\u003cbr\\u003e    \\\"intuition\\\": \\\"-2.3100653\\\"\\u003cbr\\u003e}\",\"{\\u003cbr\\u003e    \\\"blocks_state\\\": \\\"None\\\",\\u003cbr\\u003e    \\\"Q\\\": \\\"-0.9959292411804199\\\",\\u003cbr\\u003e    \\\"intuition\\\": \\\"-1.9918585\\\"\\u003cbr\\u003e}\",\"{\\u003cbr\\u003e    \\\"blocks_state\\\": \\\"None\\\",\\u003cbr\\u003e    \\\"Q\\\": \\\"-3.0027499198913574\\\",\\u003cbr\\u003e    \\\"intuition\\\": \\\"-6.0055\\\"\\u003cbr\\u003e}\",\"{\\u003cbr\\u003e    \\\"blocks_state\\\": \\\"the blue block is clear, the red block is clear,\\u003cbr\\u003ethe hand is empty, the red block is on top of the yellow block, the\\u003cbr\\u003eyellow block is on top of the orange block, the blue block is on the\\u003cbr\\u003etable, and the orange block is on the table.\\\",\\u003cbr\\u003e    \\\"Q\\\": \\\"-2.9530892372131348\\\",\\u003cbr\\u003e    \\\"intuition\\\": \\\"-1.8888006\\\",\\u003cbr\\u003e    \\\"goal_reached\\\": \\\"(False, 0.0)\\\"\\u003cbr\\u003e}\",\"{\\u003cbr\\u003e    \\\"blocks_state\\\": \\\"the blue block is clear, the red block is clear,\\u003cbr\\u003ethe yellow block is clear, the hand is empty, the yellow block is on\\u003cbr\\u003etop of the orange block, the blue block is on the table, the orange\\u003cbr\\u003eblock is on the table, and the red block is on the table.\\\",\\u003cbr\\u003e    \\\"Q\\\": \\\"-1.682502269744873\\\",\\u003cbr\\u003e    \\\"intuition\\\": \\\"-1.3079224\\\",\\u003cbr\\u003e    \\\"goal_reached\\\": \\\"(False, 0.0)\\\"\\u003cbr\\u003e}\",\"{\\u003cbr\\u003e    \\\"blocks_state\\\": \\\"None\\\",\\u003cbr\\u003e    \\\"Q\\\": \\\"-2.1286630630493164\\\",\\u003cbr\\u003e    \\\"intuition\\\": \\\"-4.257326\\\"\\u003cbr\\u003e}\",\"{\\u003cbr\\u003e    \\\"blocks_state\\\": \\\"None\\\",\\u003cbr\\u003e    \\\"Q\\\": \\\"-1.2539072036743164\\\",\\u003cbr\\u003e    \\\"intuition\\\": \\\"-2.5078144\\\"\\u003cbr\\u003e}\",\"{\\u003cbr\\u003e    \\\"blocks_state\\\": \\\"the blue block is clear, the orange block is\\u003cbr\\u003eclear, the red block is clear, the yellow block is in the hand, the\\u003cbr\\u003ehand is holding the yellow block, the blue block is on the table, the\\u003cbr\\u003eorange block is on the table, and the red block is on the table.\\\",\\u003cbr\\u003e    \\\"Q\\\": \\\"-1.028541088104248\\\",\\u003cbr\\u003e    \\\"intuition\\\": \\\"-1.192152\\\",\\u003cbr\\u003e    \\\"goal_reached\\\": \\\"(False, 0.0)\\\"\\u003cbr\\u003e}\",\"{\\u003cbr\\u003e    \\\"blocks_state\\\": \\\"None\\\",\\u003cbr\\u003e    \\\"Q\\\": \\\"-0.9642033576965332\\\",\\u003cbr\\u003e    \\\"intuition\\\": \\\"-1.9284067\\\"\\u003cbr\\u003e}\",\"{\\u003cbr\\u003e    \\\"blocks_state\\\": \\\"None\\\",\\u003cbr\\u003e    \\\"Q\\\": \\\"-2.182465076446533\\\",\\u003cbr\\u003e    \\\"intuition\\\": \\\"-4.36493\\\"\\u003cbr\\u003e}\",\"{\\u003cbr\\u003e    \\\"blocks_state\\\": \\\"the blue block is clear, the orange block is\\u003cbr\\u003eclear, the yellow block is clear, the hand is empty, the yellow block\\u003cbr\\u003eis on top of the red block, the blue block is on the table, the orange\\u003cbr\\u003eblock is on the table, and the red block is on the table.\\\",\\u003cbr\\u003e    \\\"Q\\\": \\\"-0.4324650764465332\\\",\\u003cbr\\u003e    \\\"intuition\\\": \\\"-0.86493015\\\",\\u003cbr\\u003e    \\\"goal_reached\\\": \\\"(False, 0.0)\\\"\\u003cbr\\u003e}\",\"{\\u003cbr\\u003e    \\\"blocks_state\\\": \\\"None\\\",\\u003cbr\\u003e    \\\"Q\\\": \\\"-0.9167523384094238\\\",\\u003cbr\\u003e    \\\"intuition\\\": \\\"-1.8335047\\\"\\u003cbr\\u003e}\",\"{\\u003cbr\\u003e    \\\"blocks_state\\\": \\\"None\\\",\\u003cbr\\u003e    \\\"Q\\\": \\\"-2.0739755630493164\\\",\\u003cbr\\u003e    \\\"intuition\\\": \\\"-4.147951\\\"\\u003cbr\\u003e}\",\"{\\u003cbr\\u003e    \\\"blocks_state\\\": \\\"None\\\",\\u003cbr\\u003e    \\\"Q\\\": \\\"-1.0427255630493164\\\",\\u003cbr\\u003e    \\\"intuition\\\": \\\"-2.0854511\\\"\\u003cbr\\u003e}\",\"{\\u003cbr\\u003e    \\\"blocks_state\\\": \\\"None\\\",\\u003cbr\\u003e    \\\"Q\\\": \\\"-0.9384775161743164\\\",\\u003cbr\\u003e    \\\"intuition\\\": \\\"-1.876955\\\"\\u003cbr\\u003e}\",\"{\\u003cbr\\u003e    \\\"blocks_state\\\": \\\"the orange block is in the hand, the red block is\\u003cbr\\u003eclear, the yellow block is clear, the hand is holding the orange\\u003cbr\\u003eblock, the red block is on top of the blue block, the blue block is on\\u003cbr\\u003ethe table, and the yellow block is on the table.\\\",\\u003cbr\\u003e    \\\"Q\\\": \\\"48.639249324798584\\\",\\u003cbr\\u003e    \\\"intuition\\\": \\\"-2.0756855\\\",\\u003cbr\\u003e    \\\"goal_reached\\\": \\\"(False, 0.0)\\\"\\u003cbr\\u003e}\",\"{\\u003cbr\\u003e    \\\"blocks_state\\\": \\\"None\\\",\\u003cbr\\u003e    \\\"Q\\\": \\\"-1.3657245635986328\\\",\\u003cbr\\u003e    \\\"intuition\\\": \\\"-2.7314491\\\"\\u003cbr\\u003e}\",\"{\\u003cbr\\u003e    \\\"blocks_state\\\": \\\"the orange block is clear, the red block is\\u003cbr\\u003eclear, the yellow block is in the hand, the hand is holding the yellow\\u003cbr\\u003eblock, the red block is on top of the blue block, the blue block is on\\u003cbr\\u003ethe table, and the orange block is on the table.\\\",\\u003cbr\\u003e    \\\"Q\\\": \\\"-1.4099235534667969\\\",\\u003cbr\\u003e    \\\"intuition\\\": \\\"-1.8886738\\\",\\u003cbr\\u003e    \\\"goal_reached\\\": \\\"(False, 0.0)\\\"\\u003cbr\\u003e}\",\"{\\u003cbr\\u003e    \\\"blocks_state\\\": \\\"the red block is clear, the yellow block is\\u003cbr\\u003eclear, the hand is empty, the red block is on top of the blue block,\\u003cbr\\u003ethe yellow block is on top of the orange block, the blue block is on\\u003cbr\\u003ethe table, and the orange block is on the table.\\\",\\u003cbr\\u003e    \\\"Q\\\": \\\"-0.46558666229248047\\\",\\u003cbr\\u003e    \\\"intuition\\\": \\\"-0.9311733\\\",\\u003cbr\\u003e    \\\"goal_reached\\\": \\\"(False, 0.0)\\\"\\u003cbr\\u003e}\",\"{\\u003cbr\\u003e    \\\"blocks_state\\\": \\\"None\\\",\\u003cbr\\u003e    \\\"Q\\\": \\\"-0.7387800216674805\\\",\\u003cbr\\u003e    \\\"intuition\\\": \\\"-1.47756\\\"\\u003cbr\\u003e}\",\"{\\u003cbr\\u003e    \\\"blocks_state\\\": \\\"None\\\",\\u003cbr\\u003e    \\\"Q\\\": \\\"-1.0481152534484863\\\",\\u003cbr\\u003e    \\\"intuition\\\": \\\"-2.0962305\\\"\\u003cbr\\u003e}\",\"{\\u003cbr\\u003e    \\\"blocks_state\\\": \\\"None\\\",\\u003cbr\\u003e    \\\"Q\\\": \\\"-1.8111600875854492\\\",\\u003cbr\\u003e    \\\"intuition\\\": \\\"-3.6223202\\\"\\u003cbr\\u003e}\",\"{\\u003cbr\\u003e    \\\"blocks_state\\\": \\\"None\\\",\\u003cbr\\u003e    \\\"Q\\\": \\\"-0.5522089004516602\\\",\\u003cbr\\u003e    \\\"intuition\\\": \\\"-1.1044178\\\"\\u003cbr\\u003e}\",\"{\\u003cbr\\u003e    \\\"blocks_state\\\": \\\"None\\\",\\u003cbr\\u003e    \\\"Q\\\": \\\"-1.8111600875854492\\\",\\u003cbr\\u003e    \\\"intuition\\\": \\\"-3.6223202\\\"\\u003cbr\\u003e}\",\"{\\u003cbr\\u003e    \\\"blocks_state\\\": \\\"the orange block is clear, the red block is\\u003cbr\\u003eclear, the yellow block is in the hand, the hand is holding the yellow\\u003cbr\\u003eblock, the red block is on top of the blue block, the blue block is on\\u003cbr\\u003ethe table, and the orange block is on the table.\\\",\\u003cbr\\u003e    \\\"Q\\\": \\\"-1.0486469268798828\\\",\\u003cbr\\u003e    \\\"intuition\\\": \\\"-1.1044178\\\",\\u003cbr\\u003e    \\\"goal_reached\\\": \\\"(False, 0.0)\\\"\\u003cbr\\u003e}\",\"{\\u003cbr\\u003e    \\\"blocks_state\\\": \\\"None\\\",\\u003cbr\\u003e    \\\"Q\\\": \\\"-2.0587549209594727\\\",\\u003cbr\\u003e    \\\"intuition\\\": \\\"-4.11751\\\"\\u003cbr\\u003e}\",\"{\\u003cbr\\u003e    \\\"blocks_state\\\": \\\"the orange block is clear, the yellow block is\\u003cbr\\u003eclear, the hand is empty, the red block is on top of the blue block,\\u003cbr\\u003ethe yellow block is on top of the red block, the blue block is on the\\u003cbr\\u003etable, and the orange block is on the table.\\\",\\u003cbr\\u003e    \\\"Q\\\": \\\"-0.49643802642822266\\\",\\u003cbr\\u003e    \\\"intuition\\\": \\\"-0.99287605\\\",\\u003cbr\\u003e    \\\"goal_reached\\\": \\\"(False, 0.0)\\\"\\u003cbr\\u003e}\",\"{\\u003cbr\\u003e    \\\"blocks_state\\\": \\\"None\\\",\\u003cbr\\u003e    \\\"Q\\\": \\\"-0.6210970878601074\\\",\\u003cbr\\u003e    \\\"intuition\\\": \\\"-1.2421942\\\"\\u003cbr\\u003e}\",\"{\\u003cbr\\u003e    \\\"blocks_state\\\": \\\"None\\\",\\u003cbr\\u003e    \\\"Q\\\": \\\"-1.0007333755493164\\\",\\u003cbr\\u003e    \\\"intuition\\\": \\\"-2.0014668\\\"\\u003cbr\\u003e}\",\"{\\u003cbr\\u003e    \\\"blocks_state\\\": \\\"None\\\",\\u003cbr\\u003e    \\\"Q\\\": \\\"-1.1231088638305664\\\",\\u003cbr\\u003e    \\\"intuition\\\": \\\"-2.2462177\\\"\\u003cbr\\u003e}\",\"{\\u003cbr\\u003e    \\\"blocks_state\\\": \\\"None\\\",\\u003cbr\\u003e    \\\"Q\\\": \\\"-1.5964365005493164\\\",\\u003cbr\\u003e    \\\"intuition\\\": \\\"-3.192873\\\"\\u003cbr\\u003e}\",\"{\\u003cbr\\u003e    \\\"blocks_state\\\": \\\"the blue block is clear, the red block is in the\\u003cbr\\u003ehand, the yellow block is clear, the hand is holding the red block,\\u003cbr\\u003ethe yellow block is on top of the orange block, the blue block is on\\u003cbr\\u003ethe table, and the orange block is on the table.\\\",\\u003cbr\\u003e    \\\"Q\\\": \\\"-2.0086889266967773\\\",\\u003cbr\\u003e    \\\"intuition\\\": \\\"-2.936283\\\",\\u003cbr\\u003e    \\\"goal_reached\\\": \\\"(False, 0.0)\\\"\\u003cbr\\u003e}\",\"{\\u003cbr\\u003e    \\\"blocks_state\\\": \\\"the red block is clear, the yellow block is\\u003cbr\\u003eclear, the hand is empty, the red block is on top of the blue block,\\u003cbr\\u003ethe yellow block is on top of the orange block, the blue block is on\\u003cbr\\u003ethe table, and the orange block is on the table.\\\",\\u003cbr\\u003e    \\\"Q\\\": \\\"-0.5405473709106445\\\",\\u003cbr\\u003e    \\\"intuition\\\": \\\"-1.0810947\\\",\\u003cbr\\u003e    \\\"goal_reached\\\": \\\"(False, 0.0)\\\"\\u003cbr\\u003e}\",\"{\\u003cbr\\u003e    \\\"blocks_state\\\": \\\"None\\\",\\u003cbr\\u003e    \\\"Q\\\": \\\"-3.2361040115356445\\\",\\u003cbr\\u003e    \\\"intuition\\\": \\\"-6.472208\\\"\\u003cbr\\u003e}\",\"{\\u003cbr\\u003e    \\\"blocks_state\\\": \\\"None\\\",\\u003cbr\\u003e    \\\"Q\\\": \\\"-0.7429890632629395\\\",\\u003cbr\\u003e    \\\"intuition\\\": \\\"-1.4859781\\\"\\u003cbr\\u003e}\",\"{\\u003cbr\\u003e    \\\"blocks_state\\\": \\\"None\\\",\\u003cbr\\u003e    \\\"Q\\\": \\\"-1.8111600875854492\\\",\\u003cbr\\u003e    \\\"intuition\\\": \\\"-3.6223202\\\"\\u003cbr\\u003e}\",\"{\\u003cbr\\u003e    \\\"blocks_state\\\": \\\"None\\\",\\u003cbr\\u003e    \\\"Q\\\": \\\"-0.5522089004516602\\\",\\u003cbr\\u003e    \\\"intuition\\\": \\\"-1.1044178\\\"\\u003cbr\\u003e}\",\"{\\u003cbr\\u003e    \\\"blocks_state\\\": \\\"the orange block is clear, the yellow block is\\u003cbr\\u003eclear, the hand is empty, the orange block is on top of the red block,\\u003cbr\\u003ethe red block is on top of the blue block, the blue block is on the\\u003cbr\\u003etable, and the yellow block is on the table.\\\",\\u003cbr\\u003e    \\\"Q\\\": \\\"49.6770920753479\\\",\\u003cbr\\u003e    \\\"intuition\\\": \\\"-0.64581585\\\",\\u003cbr\\u003e    \\\"goal_reached\\\": \\\"(True, 1.0)\\\"\\u003cbr\\u003e}\",\"{\\u003cbr\\u003e    \\\"blocks_state\\\": \\\"None\\\",\\u003cbr\\u003e    \\\"Q\\\": \\\"-1.5727553367614746\\\",\\u003cbr\\u003e    \\\"intuition\\\": \\\"-3.1455107\\\"\\u003cbr\\u003e}\",\"{\\u003cbr\\u003e    \\\"blocks_state\\\": \\\"None\\\",\\u003cbr\\u003e    \\\"Q\\\": \\\"-1.0844793319702148\\\",\\u003cbr\\u003e    \\\"intuition\\\": \\\"-2.1689587\\\"\\u003cbr\\u003e}\",\"{\\u003cbr\\u003e    \\\"blocks_state\\\": \\\"None\\\",\\u003cbr\\u003e    \\\"Q\\\": \\\"-1.026904582977295\\\",\\u003cbr\\u003e    \\\"intuition\\\": \\\"-2.0538092\\\"\\u003cbr\\u003e}\",\"{\\u003cbr\\u003e    \\\"blocks_state\\\": \\\"None\\\",\\u003cbr\\u003e    \\\"Q\\\": \\\"-1.1374521255493164\\\",\\u003cbr\\u003e    \\\"intuition\\\": \\\"-2.2749043\\\"\\u003cbr\\u003e}\"],\"x\":[18.25,16.9375,19.5625,11.875,29.25,9.875,28.5,30.0,28.0,29.0,28.0,27.0,6.875,24.0,26.0,25.0,22.0,24.0,23.0,20.0,22.0,21.0,20.0,19.0,1.75,18.0,15.75,14.5,17.0,16.0,15.0,14.0,13.0,10.75,12.0,9.5,11.0,10.0,9.0,8.0,5.75,4.5,7.0,6.0,5.0,4.0,0.5,3.0,2.0,1.0,0.0],\"y\":[0.0,-1.0,-1.0,-2.0,-2.0,-2.0,-3.0,-3.0,-4.0,-4.0,-5.0,-2.0,-2.0,-2.0,-3.0,-3.0,-3.0,-4.0,-4.0,-4.0,-4.0,-5.0,-5.0,-5.0,-3.0,-3.0,-3.0,-4.0,-4.0,-4.0,-5.0,-5.0,-3.0,-3.0,-4.0,-4.0,-4.0,-5.0,-5.0,-3.0,-3.0,-4.0,-4.0,-4.0,-5.0,-5.0,-4.0,-4.0,-4.0,-5.0,-5.0],\"type\":\"scatter\"}],                        {\"template\":{\"data\":{\"histogram2dcontour\":[{\"type\":\"histogram2dcontour\",\"colorbar\":{\"outlinewidth\":0,\"ticks\":\"\"},\"colorscale\":[[0.0,\"#0d0887\"],[0.1111111111111111,\"#46039f\"],[0.2222222222222222,\"#7201a8\"],[0.3333333333333333,\"#9c179e\"],[0.4444444444444444,\"#bd3786\"],[0.5555555555555556,\"#d8576b\"],[0.6666666666666666,\"#ed7953\"],[0.7777777777777778,\"#fb9f3a\"],[0.8888888888888888,\"#fdca26\"],[1.0,\"#f0f921\"]]}],\"choropleth\":[{\"type\":\"choropleth\",\"colorbar\":{\"outlinewidth\":0,\"ticks\":\"\"}}],\"histogram2d\":[{\"type\":\"histogram2d\",\"colorbar\":{\"outlinewidth\":0,\"ticks\":\"\"},\"colorscale\":[[0.0,\"#0d0887\"],[0.1111111111111111,\"#46039f\"],[0.2222222222222222,\"#7201a8\"],[0.3333333333333333,\"#9c179e\"],[0.4444444444444444,\"#bd3786\"],[0.5555555555555556,\"#d8576b\"],[0.6666666666666666,\"#ed7953\"],[0.7777777777777778,\"#fb9f3a\"],[0.8888888888888888,\"#fdca26\"],[1.0,\"#f0f921\"]]}],\"heatmap\":[{\"type\":\"heatmap\",\"colorbar\":{\"outlinewidth\":0,\"ticks\":\"\"},\"colorscale\":[[0.0,\"#0d0887\"],[0.1111111111111111,\"#46039f\"],[0.2222222222222222,\"#7201a8\"],[0.3333333333333333,\"#9c179e\"],[0.4444444444444444,\"#bd3786\"],[0.5555555555555556,\"#d8576b\"],[0.6666666666666666,\"#ed7953\"],[0.7777777777777778,\"#fb9f3a\"],[0.8888888888888888,\"#fdca26\"],[1.0,\"#f0f921\"]]}],\"heatmapgl\":[{\"type\":\"heatmapgl\",\"colorbar\":{\"outlinewidth\":0,\"ticks\":\"\"},\"colorscale\":[[0.0,\"#0d0887\"],[0.1111111111111111,\"#46039f\"],[0.2222222222222222,\"#7201a8\"],[0.3333333333333333,\"#9c179e\"],[0.4444444444444444,\"#bd3786\"],[0.5555555555555556,\"#d8576b\"],[0.6666666666666666,\"#ed7953\"],[0.7777777777777778,\"#fb9f3a\"],[0.8888888888888888,\"#fdca26\"],[1.0,\"#f0f921\"]]}],\"contourcarpet\":[{\"type\":\"contourcarpet\",\"colorbar\":{\"outlinewidth\":0,\"ticks\":\"\"}}],\"contour\":[{\"type\":\"contour\",\"colorbar\":{\"outlinewidth\":0,\"ticks\":\"\"},\"colorscale\":[[0.0,\"#0d0887\"],[0.1111111111111111,\"#46039f\"],[0.2222222222222222,\"#7201a8\"],[0.3333333333333333,\"#9c179e\"],[0.4444444444444444,\"#bd3786\"],[0.5555555555555556,\"#d8576b\"],[0.6666666666666666,\"#ed7953\"],[0.7777777777777778,\"#fb9f3a\"],[0.8888888888888888,\"#fdca26\"],[1.0,\"#f0f921\"]]}],\"surface\":[{\"type\":\"surface\",\"colorbar\":{\"outlinewidth\":0,\"ticks\":\"\"},\"colorscale\":[[0.0,\"#0d0887\"],[0.1111111111111111,\"#46039f\"],[0.2222222222222222,\"#7201a8\"],[0.3333333333333333,\"#9c179e\"],[0.4444444444444444,\"#bd3786\"],[0.5555555555555556,\"#d8576b\"],[0.6666666666666666,\"#ed7953\"],[0.7777777777777778,\"#fb9f3a\"],[0.8888888888888888,\"#fdca26\"],[1.0,\"#f0f921\"]]}],\"mesh3d\":[{\"type\":\"mesh3d\",\"colorbar\":{\"outlinewidth\":0,\"ticks\":\"\"}}],\"scatter\":[{\"fillpattern\":{\"fillmode\":\"overlay\",\"size\":10,\"solidity\":0.2},\"type\":\"scatter\"}],\"parcoords\":[{\"type\":\"parcoords\",\"line\":{\"colorbar\":{\"outlinewidth\":0,\"ticks\":\"\"}}}],\"scatterpolargl\":[{\"type\":\"scatterpolargl\",\"marker\":{\"colorbar\":{\"outlinewidth\":0,\"ticks\":\"\"}}}],\"bar\":[{\"error_x\":{\"color\":\"#2a3f5f\"},\"error_y\":{\"color\":\"#2a3f5f\"},\"marker\":{\"line\":{\"color\":\"#E5ECF6\",\"width\":0.5},\"pattern\":{\"fillmode\":\"overlay\",\"size\":10,\"solidity\":0.2}},\"type\":\"bar\"}],\"scattergeo\":[{\"type\":\"scattergeo\",\"marker\":{\"colorbar\":{\"outlinewidth\":0,\"ticks\":\"\"}}}],\"scatterpolar\":[{\"type\":\"scatterpolar\",\"marker\":{\"colorbar\":{\"outlinewidth\":0,\"ticks\":\"\"}}}],\"histogram\":[{\"marker\":{\"pattern\":{\"fillmode\":\"overlay\",\"size\":10,\"solidity\":0.2}},\"type\":\"histogram\"}],\"scattergl\":[{\"type\":\"scattergl\",\"marker\":{\"colorbar\":{\"outlinewidth\":0,\"ticks\":\"\"}}}],\"scatter3d\":[{\"type\":\"scatter3d\",\"line\":{\"colorbar\":{\"outlinewidth\":0,\"ticks\":\"\"}},\"marker\":{\"colorbar\":{\"outlinewidth\":0,\"ticks\":\"\"}}}],\"scattermapbox\":[{\"type\":\"scattermapbox\",\"marker\":{\"colorbar\":{\"outlinewidth\":0,\"ticks\":\"\"}}}],\"scatterternary\":[{\"type\":\"scatterternary\",\"marker\":{\"colorbar\":{\"outlinewidth\":0,\"ticks\":\"\"}}}],\"scattercarpet\":[{\"type\":\"scattercarpet\",\"marker\":{\"colorbar\":{\"outlinewidth\":0,\"ticks\":\"\"}}}],\"carpet\":[{\"aaxis\":{\"endlinecolor\":\"#2a3f5f\",\"gridcolor\":\"white\",\"linecolor\":\"white\",\"minorgridcolor\":\"white\",\"startlinecolor\":\"#2a3f5f\"},\"baxis\":{\"endlinecolor\":\"#2a3f5f\",\"gridcolor\":\"white\",\"linecolor\":\"white\",\"minorgridcolor\":\"white\",\"startlinecolor\":\"#2a3f5f\"},\"type\":\"carpet\"}],\"table\":[{\"cells\":{\"fill\":{\"color\":\"#EBF0F8\"},\"line\":{\"color\":\"white\"}},\"header\":{\"fill\":{\"color\":\"#C8D4E3\"},\"line\":{\"color\":\"white\"}},\"type\":\"table\"}],\"barpolar\":[{\"marker\":{\"line\":{\"color\":\"#E5ECF6\",\"width\":0.5},\"pattern\":{\"fillmode\":\"overlay\",\"size\":10,\"solidity\":0.2}},\"type\":\"barpolar\"}],\"pie\":[{\"automargin\":true,\"type\":\"pie\"}]},\"layout\":{\"autotypenumbers\":\"strict\",\"colorway\":[\"#636efa\",\"#EF553B\",\"#00cc96\",\"#ab63fa\",\"#FFA15A\",\"#19d3f3\",\"#FF6692\",\"#B6E880\",\"#FF97FF\",\"#FECB52\"],\"font\":{\"color\":\"#2a3f5f\"},\"hovermode\":\"closest\",\"hoverlabel\":{\"align\":\"left\"},\"paper_bgcolor\":\"white\",\"plot_bgcolor\":\"#E5ECF6\",\"polar\":{\"bgcolor\":\"#E5ECF6\",\"angularaxis\":{\"gridcolor\":\"white\",\"linecolor\":\"white\",\"ticks\":\"\"},\"radialaxis\":{\"gridcolor\":\"white\",\"linecolor\":\"white\",\"ticks\":\"\"}},\"ternary\":{\"bgcolor\":\"#E5ECF6\",\"aaxis\":{\"gridcolor\":\"white\",\"linecolor\":\"white\",\"ticks\":\"\"},\"baxis\":{\"gridcolor\":\"white\",\"linecolor\":\"white\",\"ticks\":\"\"},\"caxis\":{\"gridcolor\":\"white\",\"linecolor\":\"white\",\"ticks\":\"\"}},\"coloraxis\":{\"colorbar\":{\"outlinewidth\":0,\"ticks\":\"\"}},\"colorscale\":{\"sequential\":[[0.0,\"#0d0887\"],[0.1111111111111111,\"#46039f\"],[0.2222222222222222,\"#7201a8\"],[0.3333333333333333,\"#9c179e\"],[0.4444444444444444,\"#bd3786\"],[0.5555555555555556,\"#d8576b\"],[0.6666666666666666,\"#ed7953\"],[0.7777777777777778,\"#fb9f3a\"],[0.8888888888888888,\"#fdca26\"],[1.0,\"#f0f921\"]],\"sequentialminus\":[[0.0,\"#0d0887\"],[0.1111111111111111,\"#46039f\"],[0.2222222222222222,\"#7201a8\"],[0.3333333333333333,\"#9c179e\"],[0.4444444444444444,\"#bd3786\"],[0.5555555555555556,\"#d8576b\"],[0.6666666666666666,\"#ed7953\"],[0.7777777777777778,\"#fb9f3a\"],[0.8888888888888888,\"#fdca26\"],[1.0,\"#f0f921\"]],\"diverging\":[[0,\"#8e0152\"],[0.1,\"#c51b7d\"],[0.2,\"#de77ae\"],[0.3,\"#f1b6da\"],[0.4,\"#fde0ef\"],[0.5,\"#f7f7f7\"],[0.6,\"#e6f5d0\"],[0.7,\"#b8e186\"],[0.8,\"#7fbc41\"],[0.9,\"#4d9221\"],[1,\"#276419\"]]},\"xaxis\":{\"gridcolor\":\"white\",\"linecolor\":\"white\",\"ticks\":\"\",\"title\":{\"standoff\":15},\"zerolinecolor\":\"white\",\"automargin\":true,\"zerolinewidth\":2},\"yaxis\":{\"gridcolor\":\"white\",\"linecolor\":\"white\",\"ticks\":\"\",\"title\":{\"standoff\":15},\"zerolinecolor\":\"white\",\"automargin\":true,\"zerolinewidth\":2},\"scene\":{\"xaxis\":{\"backgroundcolor\":\"#E5ECF6\",\"gridcolor\":\"white\",\"linecolor\":\"white\",\"showbackground\":true,\"ticks\":\"\",\"zerolinecolor\":\"white\",\"gridwidth\":2},\"yaxis\":{\"backgroundcolor\":\"#E5ECF6\",\"gridcolor\":\"white\",\"linecolor\":\"white\",\"showbackground\":true,\"ticks\":\"\",\"zerolinecolor\":\"white\",\"gridwidth\":2},\"zaxis\":{\"backgroundcolor\":\"#E5ECF6\",\"gridcolor\":\"white\",\"linecolor\":\"white\",\"showbackground\":true,\"ticks\":\"\",\"zerolinecolor\":\"white\",\"gridwidth\":2}},\"shapedefaults\":{\"line\":{\"color\":\"#2a3f5f\"}},\"annotationdefaults\":{\"arrowcolor\":\"#2a3f5f\",\"arrowhead\":0,\"arrowwidth\":1},\"geo\":{\"bgcolor\":\"white\",\"landcolor\":\"#E5ECF6\",\"subunitcolor\":\"white\",\"showland\":true,\"showlakes\":true,\"lakecolor\":\"white\"},\"title\":{\"x\":0.05},\"mapbox\":{\"style\":\"light\"}}},\"font\":{\"size\":12},\"xaxis\":{\"showline\":false,\"zeroline\":false,\"showgrid\":false,\"showticklabels\":false},\"yaxis\":{\"showline\":false,\"zeroline\":false,\"showgrid\":false,\"showticklabels\":false},\"margin\":{\"l\":10,\"r\":10,\"b\":10,\"t\":10},\"annotations\":[{\"font\":{\"color\":\"rgb(250,250,250)\",\"size\":10},\"showarrow\":false,\"text\":\"0\",\"x\":18.25,\"xref\":\"x\",\"y\":0.0,\"yref\":\"y\"},{\"font\":{\"color\":\"rgb(250,250,250)\",\"size\":10},\"showarrow\":false,\"text\":\"1\",\"x\":16.9375,\"xref\":\"x\",\"y\":-1.0,\"yref\":\"y\"},{\"font\":{\"color\":\"rgb(250,250,250)\",\"size\":10},\"showarrow\":false,\"text\":\"2\",\"x\":19.5625,\"xref\":\"x\",\"y\":-1.0,\"yref\":\"y\"},{\"font\":{\"color\":\"rgb(250,250,250)\",\"size\":10},\"showarrow\":false,\"text\":\"3\",\"x\":11.875,\"xref\":\"x\",\"y\":-2.0,\"yref\":\"y\"},{\"font\":{\"color\":\"rgb(250,250,250)\",\"size\":10},\"showarrow\":false,\"text\":\"4\",\"x\":29.25,\"xref\":\"x\",\"y\":-2.0,\"yref\":\"y\"},{\"font\":{\"color\":\"rgb(250,250,250)\",\"size\":10},\"showarrow\":false,\"text\":\"5\",\"x\":9.875,\"xref\":\"x\",\"y\":-2.0,\"yref\":\"y\"},{\"font\":{\"color\":\"rgb(250,250,250)\",\"size\":10},\"showarrow\":false,\"text\":\"6\",\"x\":28.5,\"xref\":\"x\",\"y\":-3.0,\"yref\":\"y\"},{\"font\":{\"color\":\"rgb(250,250,250)\",\"size\":10},\"showarrow\":false,\"text\":\"7\",\"x\":30.0,\"xref\":\"x\",\"y\":-3.0,\"yref\":\"y\"},{\"font\":{\"color\":\"rgb(250,250,250)\",\"size\":10},\"showarrow\":false,\"text\":\"8\",\"x\":28.0,\"xref\":\"x\",\"y\":-4.0,\"yref\":\"y\"},{\"font\":{\"color\":\"rgb(250,250,250)\",\"size\":10},\"showarrow\":false,\"text\":\"9\",\"x\":29.0,\"xref\":\"x\",\"y\":-4.0,\"yref\":\"y\"},{\"font\":{\"color\":\"rgb(250,250,250)\",\"size\":10},\"showarrow\":false,\"text\":\"10\",\"x\":28.0,\"xref\":\"x\",\"y\":-5.0,\"yref\":\"y\"},{\"font\":{\"color\":\"rgb(250,250,250)\",\"size\":10},\"showarrow\":false,\"text\":\"11\",\"x\":27.0,\"xref\":\"x\",\"y\":-2.0,\"yref\":\"y\"},{\"font\":{\"color\":\"rgb(250,250,250)\",\"size\":10},\"showarrow\":false,\"text\":\"12\",\"x\":6.875,\"xref\":\"x\",\"y\":-2.0,\"yref\":\"y\"},{\"font\":{\"color\":\"rgb(250,250,250)\",\"size\":10},\"showarrow\":false,\"text\":\"13\",\"x\":24.0,\"xref\":\"x\",\"y\":-2.0,\"yref\":\"y\"},{\"font\":{\"color\":\"rgb(250,250,250)\",\"size\":10},\"showarrow\":false,\"text\":\"14\",\"x\":26.0,\"xref\":\"x\",\"y\":-3.0,\"yref\":\"y\"},{\"font\":{\"color\":\"rgb(250,250,250)\",\"size\":10},\"showarrow\":false,\"text\":\"15\",\"x\":25.0,\"xref\":\"x\",\"y\":-3.0,\"yref\":\"y\"},{\"font\":{\"color\":\"rgb(250,250,250)\",\"size\":10},\"showarrow\":false,\"text\":\"16\",\"x\":22.0,\"xref\":\"x\",\"y\":-3.0,\"yref\":\"y\"},{\"font\":{\"color\":\"rgb(250,250,250)\",\"size\":10},\"showarrow\":false,\"text\":\"17\",\"x\":24.0,\"xref\":\"x\",\"y\":-4.0,\"yref\":\"y\"},{\"font\":{\"color\":\"rgb(250,250,250)\",\"size\":10},\"showarrow\":false,\"text\":\"18\",\"x\":23.0,\"xref\":\"x\",\"y\":-4.0,\"yref\":\"y\"},{\"font\":{\"color\":\"rgb(250,250,250)\",\"size\":10},\"showarrow\":false,\"text\":\"19\",\"x\":20.0,\"xref\":\"x\",\"y\":-4.0,\"yref\":\"y\"},{\"font\":{\"color\":\"rgb(250,250,250)\",\"size\":10},\"showarrow\":false,\"text\":\"20\",\"x\":22.0,\"xref\":\"x\",\"y\":-4.0,\"yref\":\"y\"},{\"font\":{\"color\":\"rgb(250,250,250)\",\"size\":10},\"showarrow\":false,\"text\":\"21\",\"x\":21.0,\"xref\":\"x\",\"y\":-5.0,\"yref\":\"y\"},{\"font\":{\"color\":\"rgb(250,250,250)\",\"size\":10},\"showarrow\":false,\"text\":\"22\",\"x\":20.0,\"xref\":\"x\",\"y\":-5.0,\"yref\":\"y\"},{\"font\":{\"color\":\"rgb(250,250,250)\",\"size\":10},\"showarrow\":false,\"text\":\"23\",\"x\":19.0,\"xref\":\"x\",\"y\":-5.0,\"yref\":\"y\"},{\"font\":{\"color\":\"rgb(250,250,250)\",\"size\":10},\"showarrow\":false,\"text\":\"24\",\"x\":1.75,\"xref\":\"x\",\"y\":-3.0,\"yref\":\"y\"},{\"font\":{\"color\":\"rgb(250,250,250)\",\"size\":10},\"showarrow\":false,\"text\":\"25\",\"x\":18.0,\"xref\":\"x\",\"y\":-3.0,\"yref\":\"y\"},{\"font\":{\"color\":\"rgb(250,250,250)\",\"size\":10},\"showarrow\":false,\"text\":\"26\",\"x\":15.75,\"xref\":\"x\",\"y\":-3.0,\"yref\":\"y\"},{\"font\":{\"color\":\"rgb(250,250,250)\",\"size\":10},\"showarrow\":false,\"text\":\"27\",\"x\":14.5,\"xref\":\"x\",\"y\":-4.0,\"yref\":\"y\"},{\"font\":{\"color\":\"rgb(250,250,250)\",\"size\":10},\"showarrow\":false,\"text\":\"28\",\"x\":17.0,\"xref\":\"x\",\"y\":-4.0,\"yref\":\"y\"},{\"font\":{\"color\":\"rgb(250,250,250)\",\"size\":10},\"showarrow\":false,\"text\":\"29\",\"x\":16.0,\"xref\":\"x\",\"y\":-4.0,\"yref\":\"y\"},{\"font\":{\"color\":\"rgb(250,250,250)\",\"size\":10},\"showarrow\":false,\"text\":\"30\",\"x\":15.0,\"xref\":\"x\",\"y\":-5.0,\"yref\":\"y\"},{\"font\":{\"color\":\"rgb(250,250,250)\",\"size\":10},\"showarrow\":false,\"text\":\"31\",\"x\":14.0,\"xref\":\"x\",\"y\":-5.0,\"yref\":\"y\"},{\"font\":{\"color\":\"rgb(250,250,250)\",\"size\":10},\"showarrow\":false,\"text\":\"32\",\"x\":13.0,\"xref\":\"x\",\"y\":-3.0,\"yref\":\"y\"},{\"font\":{\"color\":\"rgb(250,250,250)\",\"size\":10},\"showarrow\":false,\"text\":\"33\",\"x\":10.75,\"xref\":\"x\",\"y\":-3.0,\"yref\":\"y\"},{\"font\":{\"color\":\"rgb(250,250,250)\",\"size\":10},\"showarrow\":false,\"text\":\"34\",\"x\":12.0,\"xref\":\"x\",\"y\":-4.0,\"yref\":\"y\"},{\"font\":{\"color\":\"rgb(250,250,250)\",\"size\":10},\"showarrow\":false,\"text\":\"35\",\"x\":9.5,\"xref\":\"x\",\"y\":-4.0,\"yref\":\"y\"},{\"font\":{\"color\":\"rgb(250,250,250)\",\"size\":10},\"showarrow\":false,\"text\":\"36\",\"x\":11.0,\"xref\":\"x\",\"y\":-4.0,\"yref\":\"y\"},{\"font\":{\"color\":\"rgb(250,250,250)\",\"size\":10},\"showarrow\":false,\"text\":\"37\",\"x\":10.0,\"xref\":\"x\",\"y\":-5.0,\"yref\":\"y\"},{\"font\":{\"color\":\"rgb(250,250,250)\",\"size\":10},\"showarrow\":false,\"text\":\"38\",\"x\":9.0,\"xref\":\"x\",\"y\":-5.0,\"yref\":\"y\"},{\"font\":{\"color\":\"rgb(250,250,250)\",\"size\":10},\"showarrow\":false,\"text\":\"39\",\"x\":8.0,\"xref\":\"x\",\"y\":-3.0,\"yref\":\"y\"},{\"font\":{\"color\":\"rgb(250,250,250)\",\"size\":10},\"showarrow\":false,\"text\":\"40\",\"x\":5.75,\"xref\":\"x\",\"y\":-3.0,\"yref\":\"y\"},{\"font\":{\"color\":\"rgb(250,250,250)\",\"size\":10},\"showarrow\":false,\"text\":\"41\",\"x\":4.5,\"xref\":\"x\",\"y\":-4.0,\"yref\":\"y\"},{\"font\":{\"color\":\"rgb(250,250,250)\",\"size\":10},\"showarrow\":false,\"text\":\"42\",\"x\":7.0,\"xref\":\"x\",\"y\":-4.0,\"yref\":\"y\"},{\"font\":{\"color\":\"rgb(250,250,250)\",\"size\":10},\"showarrow\":false,\"text\":\"43\",\"x\":6.0,\"xref\":\"x\",\"y\":-4.0,\"yref\":\"y\"},{\"font\":{\"color\":\"rgb(250,250,250)\",\"size\":10},\"showarrow\":false,\"text\":\"44\",\"x\":5.0,\"xref\":\"x\",\"y\":-5.0,\"yref\":\"y\"},{\"font\":{\"color\":\"rgb(250,250,250)\",\"size\":10},\"showarrow\":false,\"text\":\"45\",\"x\":4.0,\"xref\":\"x\",\"y\":-5.0,\"yref\":\"y\"},{\"font\":{\"color\":\"rgb(250,250,250)\",\"size\":10},\"showarrow\":false,\"text\":\"46\",\"x\":0.5,\"xref\":\"x\",\"y\":-4.0,\"yref\":\"y\"},{\"font\":{\"color\":\"rgb(250,250,250)\",\"size\":10},\"showarrow\":false,\"text\":\"47\",\"x\":3.0,\"xref\":\"x\",\"y\":-4.0,\"yref\":\"y\"},{\"font\":{\"color\":\"rgb(250,250,250)\",\"size\":10},\"showarrow\":false,\"text\":\"48\",\"x\":2.0,\"xref\":\"x\",\"y\":-4.0,\"yref\":\"y\"},{\"font\":{\"color\":\"rgb(250,250,250)\",\"size\":10},\"showarrow\":false,\"text\":\"49\",\"x\":1.0,\"xref\":\"x\",\"y\":-5.0,\"yref\":\"y\"},{\"font\":{\"color\":\"rgb(250,250,250)\",\"size\":10},\"showarrow\":false,\"text\":\"50\",\"x\":0.0,\"xref\":\"x\",\"y\":-5.0,\"yref\":\"y\"}],\"showlegend\":false,\"hovermode\":\"closest\",\"plot_bgcolor\":\"rgb(248,248,248)\"},                        {\"responsive\": true}                    ).then(function(){\n",
       "                            \n",
       "var gd = document.getElementById('eb33da70-5e00-4f01-bbe0-40d37b3b5e8d');\n",
       "var x = new MutationObserver(function (mutations, observer) {{\n",
       "        var display = window.getComputedStyle(gd).display;\n",
       "        if (!display || display === 'none') {{\n",
       "            console.log([gd, 'removed!']);\n",
       "            Plotly.purge(gd);\n",
       "            observer.disconnect();\n",
       "        }}\n",
       "}});\n",
       "\n",
       "// Listen for the removal of the full notebook cells\n",
       "var notebookContainer = gd.closest('#notebook-container');\n",
       "if (notebookContainer) {{\n",
       "    x.observe(notebookContainer, {childList: true});\n",
       "}}\n",
       "\n",
       "// Listen for the clearing of the current output cell\n",
       "var outputEl = gd.closest('.output');\n",
       "if (outputEl) {{\n",
       "    x.observe(outputEl, {childList: true});\n",
       "}}\n",
       "\n",
       "                        })                };                });            </script>        </div>"
      ]
     },
     "metadata": {},
     "output_type": "display_data"
    }
   ],
   "source": [
    "nodes, edges = log.get_tree(9).visualize()"
   ]
  },
  {
   "cell_type": "code",
   "execution_count": null,
   "metadata": {},
   "outputs": [],
   "source": []
  }
 ],
 "metadata": {
  "kernelspec": {
   "display_name": "reasoners",
   "language": "python",
   "name": "python3"
  },
  "language_info": {
   "codemirror_mode": {
    "name": "ipython",
    "version": 3
   },
   "file_extension": ".py",
   "mimetype": "text/x-python",
   "name": "python",
   "nbconvert_exporter": "python",
   "pygments_lexer": "ipython3",
   "version": "3.10.12"
  },
  "orig_nbformat": 4
 },
 "nbformat": 4,
 "nbformat_minor": 2
}
