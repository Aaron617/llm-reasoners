{
 "cells": [
  {
   "cell_type": "code",
   "execution_count": 1,
   "metadata": {},
   "outputs": [],
   "source": [
    "import pickle"
   ]
  },
  {
   "cell_type": "code",
   "execution_count": 2,
   "metadata": {},
   "outputs": [],
   "source": [
    "# add path\n",
    "import sys\n",
    "sys.path.append('..')"
   ]
  },
  {
   "cell_type": "code",
   "execution_count": 3,
   "metadata": {},
   "outputs": [],
   "source": [
    "from rap.visualization import TreeLog"
   ]
  },
  {
   "cell_type": "code",
   "execution_count": 4,
   "metadata": {},
   "outputs": [],
   "source": [
    "node_translator = lambda node: {\"blocks_state\": node.state.blocks_state}"
   ]
  },
  {
   "cell_type": "code",
   "execution_count": 5,
   "metadata": {},
   "outputs": [],
   "source": [
    "def get_reward(node):\n",
    "    if hasattr(node, \"reward_details\"):\n",
    "        return node.reward_details\n",
    "    else:\n",
    "        return node.fast_reward_details"
   ]
  },
  {
   "cell_type": "code",
   "execution_count": 11,
   "metadata": {},
   "outputs": [],
   "source": [
    "log = TreeLog.from_MCTSResults(\"/home/shibo/LLM-search/logs/bw_MCTS/07062023-115734/algo_output/2.pkl\", lambda node: {\"blocks_state\": node.state.blocks_state if node.state else None}, lambda node: {\"Q\": node.Q, **get_reward(node)})"
   ]
  },
  {
   "attachments": {},
   "cell_type": "markdown",
   "metadata": {},
   "source": []
  },
  {
   "cell_type": "code",
   "execution_count": 12,
   "metadata": {},
   "outputs": [
    {
     "data": {
      "application/vnd.plotly.v1+json": {
       "config": {
        "plotlyServerURL": "https://plot.ly"
       },
       "data": [
        {
         "hoverinfo": "none",
         "line": {
          "color": "rgb(210,210,210)",
          "width": 1
         },
         "mode": "lines",
         "type": "scatter",
         "x": [
          23.4375,
          26.90625,
          null,
          26.90625,
          29,
          null,
          26.90625,
          28,
          null,
          26.90625,
          24.8125,
          null,
          24.8125,
          27,
          null,
          24.8125,
          26,
          null,
          24.8125,
          22.625,
          null,
          22.625,
          25,
          null,
          22.625,
          24,
          null,
          22.625,
          20.25,
          null,
          20.25,
          22,
          null,
          20.25,
          21,
          null,
          20.25,
          18.5,
          null,
          18.5,
          20,
          null,
          18.5,
          19,
          null,
          18.5,
          18,
          null,
          18.5,
          17,
          null,
          22.625,
          23,
          null,
          23.4375,
          19.96875,
          null,
          19.96875,
          7.8125,
          null,
          7.8125,
          9,
          null,
          7.8125,
          6.625,
          null,
          6.625,
          8,
          null,
          6.625,
          5.25,
          null,
          5.25,
          4.5,
          null,
          4.5,
          5,
          null,
          4.5,
          4,
          null,
          5.25,
          6,
          null,
          6.625,
          7,
          null,
          19.96875,
          32.125,
          null,
          32.125,
          31.25,
          null,
          31.25,
          30.5,
          null,
          30.5,
          30.5,
          null,
          30.5,
          31,
          null,
          30.5,
          30,
          null,
          31.25,
          32,
          null,
          32.125,
          33,
          null,
          19.96875,
          8.875,
          null,
          8.875,
          1.75,
          null,
          1.75,
          0.5,
          null,
          0.5,
          1,
          null,
          0.5,
          0,
          null,
          1.75,
          3,
          null,
          1.75,
          2,
          null,
          8.875,
          16,
          null,
          8.875,
          13.5,
          null,
          13.5,
          12,
          null,
          12,
          13,
          null,
          12,
          11,
          null,
          11,
          12,
          null,
          11,
          11,
          null,
          11,
          10,
          null,
          13.5,
          15,
          null,
          13.5,
          14,
          null
         ],
         "y": [
          0,
          -1,
          null,
          -1,
          -2,
          null,
          -1,
          -2,
          null,
          -1,
          -2,
          null,
          -2,
          -3,
          null,
          -2,
          -3,
          null,
          -2,
          -3,
          null,
          -3,
          -4,
          null,
          -3,
          -4,
          null,
          -3,
          -4,
          null,
          -4,
          -5,
          null,
          -4,
          -5,
          null,
          -4,
          -5,
          null,
          -5,
          -6,
          null,
          -5,
          -6,
          null,
          -5,
          -6,
          null,
          -5,
          -6,
          null,
          -3,
          -4,
          null,
          0,
          -1,
          null,
          -1,
          -2,
          null,
          -2,
          -3,
          null,
          -2,
          -3,
          null,
          -3,
          -4,
          null,
          -3,
          -4,
          null,
          -4,
          -5,
          null,
          -5,
          -6,
          null,
          -5,
          -6,
          null,
          -4,
          -5,
          null,
          -3,
          -4,
          null,
          -1,
          -2,
          null,
          -2,
          -3,
          null,
          -3,
          -4,
          null,
          -4,
          -5,
          null,
          -5,
          -6,
          null,
          -5,
          -6,
          null,
          -3,
          -4,
          null,
          -2,
          -3,
          null,
          -1,
          -2,
          null,
          -2,
          -3,
          null,
          -3,
          -4,
          null,
          -4,
          -5,
          null,
          -4,
          -5,
          null,
          -3,
          -4,
          null,
          -3,
          -4,
          null,
          -2,
          -3,
          null,
          -2,
          -3,
          null,
          -3,
          -4,
          null,
          -4,
          -5,
          null,
          -4,
          -5,
          null,
          -5,
          -6,
          null,
          -5,
          -6,
          null,
          -5,
          -6,
          null,
          -3,
          -4,
          null,
          -3,
          -4,
          null
         ]
        },
        {
         "hoverinfo": "text",
         "marker": {
          "color": "#6175c1",
          "line": {
           "color": "rgb(50,50,50)",
           "width": 1
          },
          "size": 18,
          "symbol": "circle-dot"
         },
         "mode": "markers",
         "name": "bla",
         "opacity": 0.8,
         "text": [
          "{<br>    \"blocks_state\": \"the red block is clear, the yellow block is<br>clear, the hand is empty, the red block is on top of the blue block,<br>the yellow block is on top of the orange block, the blue block is on<br>the table and the orange block is on the table.\"<br>}",
          "{<br>    \"blocks_state\": \"the blue block is clear, the red block is in the<br>hand, the yellow block is clear, the hand is holding the red block,<br>the yellow block is on top of the orange block, the blue block is on<br>the table, and the orange block is on the table.\",<br>    \"Q\": \"-4.457292556762695\",<br>    \"intuition\": \"-3.665042\",<br>    \"goal_reached\": \"(False, 0.0)\"<br>}",
          "{<br>    \"blocks_state\": \"the orange block is clear, the red block is<br>clear, the yellow block is in the hand, the hand is holding the yellow<br>block, the red block is on top of the blue block, the blue block is on<br>the table, and the orange block is on the table.\",<br>    \"Q\": \"30.365045653449165\",<br>    \"intuition\": \"-1.0753479\",<br>    \"goal_reached\": \"(False, 0.0)\"<br>}",
          "{<br>    \"blocks_state\": \"the red block is clear, the yellow block is<br>clear, the hand is empty, the red block is on top of the blue block,<br>the yellow block is on top of the orange block, the blue block is on<br>the table, and the orange block is on the table.\",<br>    \"Q\": \"-4.050265312194824\",<br>    \"intuition\": \"-3.9842072\",<br>    \"goal_reached\": \"(False, 0.0)\"<br>}",
          "{<br>    \"blocks_state\": \"the orange block is clear, the yellow block is<br>clear, the hand is empty, the red block is on top of the blue block,<br>the yellow block is on top of the red block, the blue block is on the<br>table, and the orange block is on the table.\",<br>    \"Q\": \"-3.589111328125\",<br>    \"intuition\": \"-1.0462189\",<br>    \"goal_reached\": \"(False, 0.0)\"<br>}",
          "{<br>    \"blocks_state\": \"the orange block is clear, the red block is<br>clear, the yellow block is clear, the hand is empty, the red block is<br>on top of the blue block, the blue block is on the table, the orange<br>block is on the table, and the yellow block is on the table.\",<br>    \"Q\": \"40.8234075818743\",<br>    \"intuition\": \"-1.1728554\",<br>    \"goal_reached\": \"(False, 0.0)\"<br>}",
          "{<br>    \"blocks_state\": \"the orange block is in the hand, the yellow block<br>is clear, the hand is holding the orange block, the red block is on<br>top of the blue block, the yellow block is on top of the red block,<br>and the blue block is on the table.\",<br>    \"Q\": \"-3.0660018920898438\",<br>    \"intuition\": \"-2.0131855\",<br>    \"goal_reached\": \"(False, 0.0)\"<br>}",
          "{<br>    \"blocks_state\": \"None\",<br>    \"Q\": \"-1.1199960708618164\",<br>    \"intuition\": \"-2.2399921\"<br>}",
          "{<br>    \"blocks_state\": \"the orange block is clear, the hand is empty, the<br>orange block is on top of the yellow block, the red block is on top of<br>the blue block, the yellow block is on top of the red block, and the<br>blue block is on the table.\",<br>    \"Q\": \"-2.0594091415405273\",<br>    \"intuition\": \"-2.130866\",<br>    \"goal_reached\": \"(False, 0.0)\"<br>}",
          "{<br>    \"blocks_state\": \"None\",<br>    \"Q\": \"-1.1550326347351074\",<br>    \"intuition\": \"-2.3100653\"<br>}",
          "{<br>    \"blocks_state\": \"the orange block is in the hand, the yellow block<br>is clear, the hand is holding the orange block, the red block is on<br>top of the blue block, the yellow block is on top of the red block,<br>and the blue block is on the table.\",<br>    \"Q\": \"-0.9939761161804199\",<br>    \"intuition\": \"-1.9879522\",<br>    \"goal_reached\": \"(False, 0.0)\"<br>}",
          "{<br>    \"blocks_state\": \"None\",<br>    \"Q\": \"-2.365988254547119\",<br>    \"intuition\": \"-4.7319765\"<br>}",
          "{<br>    \"blocks_state\": \"None\",<br>    \"Q\": \"-0.5910921096801758\",<br>    \"intuition\": \"-1.1821842\"<br>}",
          "{<br>    \"blocks_state\": \"None\",<br>    \"Q\": \"-3.00813627243042\",<br>    \"intuition\": \"-6.0162725\"<br>}",
          "{<br>    \"blocks_state\": \"None\",<br>    \"Q\": \"-0.9488101005554199\",<br>    \"intuition\": \"-1.8976202\"<br>}",
          "{<br>    \"blocks_state\": \"the blue block is clear, the red block is clear,<br>the yellow block is clear, the hand is empty, the yellow block is on<br>top of the orange block, the blue block is on the table, the orange<br>block is on the table, and the red block is on the table.\",<br>    \"Q\": \"-2.6247715950012207\",<br>    \"intuition\": \"-1.3084259\",<br>    \"goal_reached\": \"(False, 0.0)\"<br>}",
          "{<br>    \"blocks_state\": \"None\",<br>    \"Q\": \"-2.1252450942993164\",<br>    \"intuition\": \"-4.25049\"<br>}",
          "{<br>    \"blocks_state\": \"None\",<br>    \"Q\": \"-1.2583017349243164\",<br>    \"intuition\": \"-2.5166035\"<br>}",
          "{<br>    \"blocks_state\": \"the blue block is clear, the orange block is<br>clear, the red block is clear, the yellow block is in the hand, the<br>hand is holding the yellow block, the blue block is on the table, the<br>orange block is on the table, and the red block is on the table.\",<br>    \"Q\": \"-1.9705586433410645\",<br>    \"intuition\": \"-1.1967907\",<br>    \"goal_reached\": \"(False, 0.0)\"<br>}",
          "{<br>    \"blocks_state\": \"None\",<br>    \"Q\": \"-0.9551701545715332\",<br>    \"intuition\": \"-1.9103403\"<br>}",
          "{<br>    \"blocks_state\": \"None\",<br>    \"Q\": \"-2.174408435821533\",<br>    \"intuition\": \"-4.348817\"<br>}",
          "{<br>    \"blocks_state\": \"the blue block is clear, the orange block is<br>clear, the yellow block is clear, the hand is empty, the yellow block<br>is on top of the red block, the blue block is on the table, the orange<br>block is on the table, and the red block is on the table.\",<br>    \"Q\": \"-1.3721632957458496\",<br>    \"intuition\": \"-0.86248875\",<br>    \"goal_reached\": \"(False, 0.0)\"<br>}",
          "{<br>    \"blocks_state\": \"None\",<br>    \"Q\": \"-0.9123578071594238\",<br>    \"intuition\": \"-1.8247156\"<br>}",
          "{<br>    \"blocks_state\": \"None\",<br>    \"Q\": \"-2.0739755630493164\",<br>    \"intuition\": \"-4.147951\"<br>}",
          "{<br>    \"blocks_state\": \"None\",<br>    \"Q\": \"-1.0427255630493164\",<br>    \"intuition\": \"-2.0854511\"<br>}",
          "{<br>    \"blocks_state\": \"the blue block is clear, the orange block is<br>clear, the red block is clear, the yellow block is in the hand, the<br>hand is holding the yellow block, the blue block is on the table, the<br>orange block is on the table, and the red block is on the table.\",<br>    \"Q\": \"-0.9409189224243164\",<br>    \"intuition\": \"-1.8818378\",<br>    \"goal_reached\": \"(False, 0.0)\"<br>}",
          "{<br>    \"blocks_state\": \"None\",<br>    \"Q\": \"-1.0470285415649414\",<br>    \"intuition\": \"-2.094057\"<br>}",
          "{<br>    \"blocks_state\": \"None\",<br>    \"Q\": \"-0.5542306900024414\",<br>    \"intuition\": \"-1.1084614\"<br>}",
          "{<br>    \"blocks_state\": \"None\",<br>    \"Q\": \"-3.4603590965270996\",<br>    \"intuition\": \"-6.920718\"<br>}",
          "{<br>    \"blocks_state\": \"None\",<br>    \"Q\": \"-0.7570843696594238\",<br>    \"intuition\": \"-1.5141687\"<br>}",
          "{<br>    \"blocks_state\": \"the orange block is in the hand, the red block is<br>clear, the yellow block is clear, the hand is holding the orange<br>block, the red block is on top of the blue block, the blue block is on<br>the table, and the yellow block is on the table.\",<br>    \"Q\": \"48.639249324798584\",<br>    \"intuition\": \"-2.0756855\",<br>    \"goal_reached\": \"(False, 0.0)\"<br>}",
          "{<br>    \"blocks_state\": \"None\",<br>    \"Q\": \"-1.3625507354736328\",<br>    \"intuition\": \"-2.7251015\"<br>}",
          "{<br>    \"blocks_state\": \"the orange block is clear, the red block is<br>clear, the yellow block is in the hand, the hand is holding the yellow<br>block, the red block is on top of the blue block, the blue block is on<br>the table, and the orange block is on the table.\",<br>    \"Q\": \"-1.966649055480957\",<br>    \"intuition\": \"-1.8886738\",<br>    \"goal_reached\": \"(False, 0.0)\"<br>}",
          "{<br>    \"blocks_state\": \"the red block is clear, the yellow block is<br>clear, the hand is empty, the red block is on top of the blue block,<br>the yellow block is on top of the orange block, the blue block is on<br>the table, and the orange block is on the table.\",<br>    \"Q\": \"-1.0223121643066406\",<br>    \"intuition\": \"-0.9382534\",<br>    \"goal_reached\": \"(False, 0.0)\"<br>}",
          "{<br>    \"blocks_state\": \"None\",<br>    \"Q\": \"-0.7342634201049805\",<br>    \"intuition\": \"-1.4685268\"<br>}",
          "{<br>    \"blocks_state\": \"None\",<br>    \"Q\": \"-1.0422558784484863\",<br>    \"intuition\": \"-2.0845118\"<br>}",
          "{<br>    \"blocks_state\": \"None\",<br>    \"Q\": \"-1.8043241500854492\",<br>    \"intuition\": \"-3.6086483\"<br>}",
          "{<br>    \"blocks_state\": \"the orange block is clear, the red block is<br>clear, the yellow block is in the hand, the hand is holding the yellow<br>block, the red block is on top of the blue block, the blue block is on<br>the table, and the orange block is on the table.\",<br>    \"Q\": \"-0.5531854629516602\",<br>    \"intuition\": \"-1.1063709\",<br>    \"goal_reached\": \"(False, 0.0)\"<br>}",
          "{<br>    \"blocks_state\": \"None\",<br>    \"Q\": \"-2.0607004165649414\",<br>    \"intuition\": \"-4.121401\"<br>}",
          "{<br>    \"blocks_state\": \"None\",<br>    \"Q\": \"-0.4983835220336914\",<br>    \"intuition\": \"-0.99676704\"<br>}",
          "{<br>    \"blocks_state\": \"None\",<br>    \"Q\": \"-0.6215853691101074\",<br>    \"intuition\": \"-1.2431707\"<br>}",
          "{<br>    \"blocks_state\": \"None\",<br>    \"Q\": \"-1.8043241500854492\",<br>    \"intuition\": \"-3.6086483\"<br>}",
          "{<br>    \"blocks_state\": \"the orange block is clear, the red block is<br>clear, the yellow block is in the hand, the hand is holding the yellow<br>block, the red block is on top of the blue block, the blue block is on<br>the table, and the orange block is on the table.\",<br>    \"Q\": \"-2.058161735534668\",<br>    \"intuition\": \"-1.1063709\",<br>    \"goal_reached\": \"(False, 0.0)\"<br>}",
          "{<br>    \"blocks_state\": \"None\",<br>    \"Q\": \"-2.0607004165649414\",<br>    \"intuition\": \"-4.121401\"<br>}",
          "{<br>    \"blocks_state\": \"the orange block is clear, the yellow block is<br>clear, the hand is empty, the red block is on top of the blue block,<br>the yellow block is on top of the red block, the blue block is on the<br>table, and the orange block is on the table.\",<br>    \"Q\": \"-1.5049762725830078\",<br>    \"intuition\": \"-0.99676704\",<br>    \"goal_reached\": \"(False, 0.0)\"<br>}",
          "{<br>    \"blocks_state\": \"None\",<br>    \"Q\": \"-0.6215853691101074\",<br>    \"intuition\": \"-1.2431707\"<br>}",
          "{<br>    \"blocks_state\": \"the orange block is in the hand, the yellow block<br>is clear, the hand is holding the orange block, the red block is on<br>top of the blue block, the yellow block is on top of the red block,<br>and the blue block is on the table.\",<br>    \"Q\": \"-1.0065927505493164\",<br>    \"intuition\": \"-2.0131855\",<br>    \"goal_reached\": \"(False, 0.0)\"<br>}",
          "{<br>    \"blocks_state\": \"None\",<br>    \"Q\": \"-1.1199960708618164\",<br>    \"intuition\": \"-2.2399921\"<br>}",
          "{<br>    \"blocks_state\": \"None\",<br>    \"Q\": \"-1.0654330253601074\",<br>    \"intuition\": \"-2.130866\"<br>}",
          "{<br>    \"blocks_state\": \"None\",<br>    \"Q\": \"-1.1550326347351074\",<br>    \"intuition\": \"-2.3100653\"<br>}",
          "{<br>    \"blocks_state\": \"the orange block is clear, the yellow block is<br>clear, the hand is empty, the orange block is on top of the red block,<br>the red block is on top of the blue block, the blue block is on the<br>table, and the yellow block is on the table.\",<br>    \"Q\": \"49.6770920753479\",<br>    \"intuition\": \"-0.64581585\",<br>    \"goal_reached\": \"(True, 1.0)\"<br>}",
          "{<br>    \"blocks_state\": \"None\",<br>    \"Q\": \"-1.5727553367614746\",<br>    \"intuition\": \"-3.1455107\"<br>}",
          "{<br>    \"blocks_state\": \"None\",<br>    \"Q\": \"-1.0844793319702148\",<br>    \"intuition\": \"-2.1689587\"<br>}",
          "{<br>    \"blocks_state\": \"None\",<br>    \"Q\": \"-1.033008098602295\",<br>    \"intuition\": \"-2.0660162\"<br>}",
          "{<br>    \"blocks_state\": \"None\",<br>    \"Q\": \"-1.1413583755493164\",<br>    \"intuition\": \"-2.2827168\"<br>}"
         ],
         "type": "scatter",
         "x": [
          23.4375,
          26.90625,
          19.96875,
          7.8125,
          32.125,
          8.875,
          31.25,
          33,
          30.5,
          32,
          30.5,
          31,
          30,
          29,
          28,
          24.8125,
          27,
          26,
          22.625,
          25,
          24,
          20.25,
          23,
          22,
          21,
          18.5,
          20,
          19,
          18,
          17,
          1.75,
          16,
          13.5,
          12,
          15,
          14,
          13,
          11,
          12,
          11,
          10,
          9,
          6.625,
          8,
          5.25,
          7,
          4.5,
          6,
          5,
          4,
          0.5,
          3,
          2,
          1,
          0
         ],
         "y": [
          0,
          -1,
          -1,
          -2,
          -2,
          -2,
          -3,
          -3,
          -4,
          -4,
          -5,
          -6,
          -6,
          -2,
          -2,
          -2,
          -3,
          -3,
          -3,
          -4,
          -4,
          -4,
          -4,
          -5,
          -5,
          -5,
          -6,
          -6,
          -6,
          -6,
          -3,
          -3,
          -3,
          -4,
          -4,
          -4,
          -5,
          -5,
          -6,
          -6,
          -6,
          -3,
          -3,
          -4,
          -4,
          -4,
          -5,
          -5,
          -6,
          -6,
          -4,
          -4,
          -4,
          -5,
          -5
         ]
        }
       ],
       "layout": {
        "annotations": [
         {
          "font": {
           "color": "rgb(250,250,250)",
           "size": 10
          },
          "showarrow": false,
          "text": "0",
          "x": 23.4375,
          "xref": "x",
          "y": 0,
          "yref": "y"
         },
         {
          "font": {
           "color": "rgb(250,250,250)",
           "size": 10
          },
          "showarrow": false,
          "text": "1",
          "x": 26.90625,
          "xref": "x",
          "y": -1,
          "yref": "y"
         },
         {
          "font": {
           "color": "rgb(250,250,250)",
           "size": 10
          },
          "showarrow": false,
          "text": "2",
          "x": 19.96875,
          "xref": "x",
          "y": -1,
          "yref": "y"
         },
         {
          "font": {
           "color": "rgb(250,250,250)",
           "size": 10
          },
          "showarrow": false,
          "text": "3",
          "x": 7.8125,
          "xref": "x",
          "y": -2,
          "yref": "y"
         },
         {
          "font": {
           "color": "rgb(250,250,250)",
           "size": 10
          },
          "showarrow": false,
          "text": "4",
          "x": 32.125,
          "xref": "x",
          "y": -2,
          "yref": "y"
         },
         {
          "font": {
           "color": "rgb(250,250,250)",
           "size": 10
          },
          "showarrow": false,
          "text": "5",
          "x": 8.875,
          "xref": "x",
          "y": -2,
          "yref": "y"
         },
         {
          "font": {
           "color": "rgb(250,250,250)",
           "size": 10
          },
          "showarrow": false,
          "text": "6",
          "x": 31.25,
          "xref": "x",
          "y": -3,
          "yref": "y"
         },
         {
          "font": {
           "color": "rgb(250,250,250)",
           "size": 10
          },
          "showarrow": false,
          "text": "7",
          "x": 33,
          "xref": "x",
          "y": -3,
          "yref": "y"
         },
         {
          "font": {
           "color": "rgb(250,250,250)",
           "size": 10
          },
          "showarrow": false,
          "text": "8",
          "x": 30.5,
          "xref": "x",
          "y": -4,
          "yref": "y"
         },
         {
          "font": {
           "color": "rgb(250,250,250)",
           "size": 10
          },
          "showarrow": false,
          "text": "9",
          "x": 32,
          "xref": "x",
          "y": -4,
          "yref": "y"
         },
         {
          "font": {
           "color": "rgb(250,250,250)",
           "size": 10
          },
          "showarrow": false,
          "text": "10",
          "x": 30.5,
          "xref": "x",
          "y": -5,
          "yref": "y"
         },
         {
          "font": {
           "color": "rgb(250,250,250)",
           "size": 10
          },
          "showarrow": false,
          "text": "11",
          "x": 31,
          "xref": "x",
          "y": -6,
          "yref": "y"
         },
         {
          "font": {
           "color": "rgb(250,250,250)",
           "size": 10
          },
          "showarrow": false,
          "text": "12",
          "x": 30,
          "xref": "x",
          "y": -6,
          "yref": "y"
         },
         {
          "font": {
           "color": "rgb(250,250,250)",
           "size": 10
          },
          "showarrow": false,
          "text": "13",
          "x": 29,
          "xref": "x",
          "y": -2,
          "yref": "y"
         },
         {
          "font": {
           "color": "rgb(250,250,250)",
           "size": 10
          },
          "showarrow": false,
          "text": "14",
          "x": 28,
          "xref": "x",
          "y": -2,
          "yref": "y"
         },
         {
          "font": {
           "color": "rgb(250,250,250)",
           "size": 10
          },
          "showarrow": false,
          "text": "15",
          "x": 24.8125,
          "xref": "x",
          "y": -2,
          "yref": "y"
         },
         {
          "font": {
           "color": "rgb(250,250,250)",
           "size": 10
          },
          "showarrow": false,
          "text": "16",
          "x": 27,
          "xref": "x",
          "y": -3,
          "yref": "y"
         },
         {
          "font": {
           "color": "rgb(250,250,250)",
           "size": 10
          },
          "showarrow": false,
          "text": "17",
          "x": 26,
          "xref": "x",
          "y": -3,
          "yref": "y"
         },
         {
          "font": {
           "color": "rgb(250,250,250)",
           "size": 10
          },
          "showarrow": false,
          "text": "18",
          "x": 22.625,
          "xref": "x",
          "y": -3,
          "yref": "y"
         },
         {
          "font": {
           "color": "rgb(250,250,250)",
           "size": 10
          },
          "showarrow": false,
          "text": "19",
          "x": 25,
          "xref": "x",
          "y": -4,
          "yref": "y"
         },
         {
          "font": {
           "color": "rgb(250,250,250)",
           "size": 10
          },
          "showarrow": false,
          "text": "20",
          "x": 24,
          "xref": "x",
          "y": -4,
          "yref": "y"
         },
         {
          "font": {
           "color": "rgb(250,250,250)",
           "size": 10
          },
          "showarrow": false,
          "text": "21",
          "x": 20.25,
          "xref": "x",
          "y": -4,
          "yref": "y"
         },
         {
          "font": {
           "color": "rgb(250,250,250)",
           "size": 10
          },
          "showarrow": false,
          "text": "22",
          "x": 23,
          "xref": "x",
          "y": -4,
          "yref": "y"
         },
         {
          "font": {
           "color": "rgb(250,250,250)",
           "size": 10
          },
          "showarrow": false,
          "text": "23",
          "x": 22,
          "xref": "x",
          "y": -5,
          "yref": "y"
         },
         {
          "font": {
           "color": "rgb(250,250,250)",
           "size": 10
          },
          "showarrow": false,
          "text": "24",
          "x": 21,
          "xref": "x",
          "y": -5,
          "yref": "y"
         },
         {
          "font": {
           "color": "rgb(250,250,250)",
           "size": 10
          },
          "showarrow": false,
          "text": "25",
          "x": 18.5,
          "xref": "x",
          "y": -5,
          "yref": "y"
         },
         {
          "font": {
           "color": "rgb(250,250,250)",
           "size": 10
          },
          "showarrow": false,
          "text": "26",
          "x": 20,
          "xref": "x",
          "y": -6,
          "yref": "y"
         },
         {
          "font": {
           "color": "rgb(250,250,250)",
           "size": 10
          },
          "showarrow": false,
          "text": "27",
          "x": 19,
          "xref": "x",
          "y": -6,
          "yref": "y"
         },
         {
          "font": {
           "color": "rgb(250,250,250)",
           "size": 10
          },
          "showarrow": false,
          "text": "28",
          "x": 18,
          "xref": "x",
          "y": -6,
          "yref": "y"
         },
         {
          "font": {
           "color": "rgb(250,250,250)",
           "size": 10
          },
          "showarrow": false,
          "text": "29",
          "x": 17,
          "xref": "x",
          "y": -6,
          "yref": "y"
         },
         {
          "font": {
           "color": "rgb(250,250,250)",
           "size": 10
          },
          "showarrow": false,
          "text": "30",
          "x": 1.75,
          "xref": "x",
          "y": -3,
          "yref": "y"
         },
         {
          "font": {
           "color": "rgb(250,250,250)",
           "size": 10
          },
          "showarrow": false,
          "text": "31",
          "x": 16,
          "xref": "x",
          "y": -3,
          "yref": "y"
         },
         {
          "font": {
           "color": "rgb(250,250,250)",
           "size": 10
          },
          "showarrow": false,
          "text": "32",
          "x": 13.5,
          "xref": "x",
          "y": -3,
          "yref": "y"
         },
         {
          "font": {
           "color": "rgb(250,250,250)",
           "size": 10
          },
          "showarrow": false,
          "text": "33",
          "x": 12,
          "xref": "x",
          "y": -4,
          "yref": "y"
         },
         {
          "font": {
           "color": "rgb(250,250,250)",
           "size": 10
          },
          "showarrow": false,
          "text": "34",
          "x": 15,
          "xref": "x",
          "y": -4,
          "yref": "y"
         },
         {
          "font": {
           "color": "rgb(250,250,250)",
           "size": 10
          },
          "showarrow": false,
          "text": "35",
          "x": 14,
          "xref": "x",
          "y": -4,
          "yref": "y"
         },
         {
          "font": {
           "color": "rgb(250,250,250)",
           "size": 10
          },
          "showarrow": false,
          "text": "36",
          "x": 13,
          "xref": "x",
          "y": -5,
          "yref": "y"
         },
         {
          "font": {
           "color": "rgb(250,250,250)",
           "size": 10
          },
          "showarrow": false,
          "text": "37",
          "x": 11,
          "xref": "x",
          "y": -5,
          "yref": "y"
         },
         {
          "font": {
           "color": "rgb(250,250,250)",
           "size": 10
          },
          "showarrow": false,
          "text": "38",
          "x": 12,
          "xref": "x",
          "y": -6,
          "yref": "y"
         },
         {
          "font": {
           "color": "rgb(250,250,250)",
           "size": 10
          },
          "showarrow": false,
          "text": "39",
          "x": 11,
          "xref": "x",
          "y": -6,
          "yref": "y"
         },
         {
          "font": {
           "color": "rgb(250,250,250)",
           "size": 10
          },
          "showarrow": false,
          "text": "40",
          "x": 10,
          "xref": "x",
          "y": -6,
          "yref": "y"
         },
         {
          "font": {
           "color": "rgb(250,250,250)",
           "size": 10
          },
          "showarrow": false,
          "text": "41",
          "x": 9,
          "xref": "x",
          "y": -3,
          "yref": "y"
         },
         {
          "font": {
           "color": "rgb(250,250,250)",
           "size": 10
          },
          "showarrow": false,
          "text": "42",
          "x": 6.625,
          "xref": "x",
          "y": -3,
          "yref": "y"
         },
         {
          "font": {
           "color": "rgb(250,250,250)",
           "size": 10
          },
          "showarrow": false,
          "text": "43",
          "x": 8,
          "xref": "x",
          "y": -4,
          "yref": "y"
         },
         {
          "font": {
           "color": "rgb(250,250,250)",
           "size": 10
          },
          "showarrow": false,
          "text": "44",
          "x": 5.25,
          "xref": "x",
          "y": -4,
          "yref": "y"
         },
         {
          "font": {
           "color": "rgb(250,250,250)",
           "size": 10
          },
          "showarrow": false,
          "text": "45",
          "x": 7,
          "xref": "x",
          "y": -4,
          "yref": "y"
         },
         {
          "font": {
           "color": "rgb(250,250,250)",
           "size": 10
          },
          "showarrow": false,
          "text": "46",
          "x": 4.5,
          "xref": "x",
          "y": -5,
          "yref": "y"
         },
         {
          "font": {
           "color": "rgb(250,250,250)",
           "size": 10
          },
          "showarrow": false,
          "text": "47",
          "x": 6,
          "xref": "x",
          "y": -5,
          "yref": "y"
         },
         {
          "font": {
           "color": "rgb(250,250,250)",
           "size": 10
          },
          "showarrow": false,
          "text": "48",
          "x": 5,
          "xref": "x",
          "y": -6,
          "yref": "y"
         },
         {
          "font": {
           "color": "rgb(250,250,250)",
           "size": 10
          },
          "showarrow": false,
          "text": "49",
          "x": 4,
          "xref": "x",
          "y": -6,
          "yref": "y"
         },
         {
          "font": {
           "color": "rgb(250,250,250)",
           "size": 10
          },
          "showarrow": false,
          "text": "50",
          "x": 0.5,
          "xref": "x",
          "y": -4,
          "yref": "y"
         },
         {
          "font": {
           "color": "rgb(250,250,250)",
           "size": 10
          },
          "showarrow": false,
          "text": "51",
          "x": 3,
          "xref": "x",
          "y": -4,
          "yref": "y"
         },
         {
          "font": {
           "color": "rgb(250,250,250)",
           "size": 10
          },
          "showarrow": false,
          "text": "52",
          "x": 2,
          "xref": "x",
          "y": -4,
          "yref": "y"
         },
         {
          "font": {
           "color": "rgb(250,250,250)",
           "size": 10
          },
          "showarrow": false,
          "text": "53",
          "x": 1,
          "xref": "x",
          "y": -5,
          "yref": "y"
         },
         {
          "font": {
           "color": "rgb(250,250,250)",
           "size": 10
          },
          "showarrow": false,
          "text": "54",
          "x": 0,
          "xref": "x",
          "y": -5,
          "yref": "y"
         }
        ],
        "font": {
         "size": 12
        },
        "hovermode": "closest",
        "margin": {
         "b": 10,
         "l": 10,
         "r": 10,
         "t": 10
        },
        "plot_bgcolor": "rgb(248,248,248)",
        "showlegend": false,
        "template": {
         "data": {
          "bar": [
           {
            "error_x": {
             "color": "#2a3f5f"
            },
            "error_y": {
             "color": "#2a3f5f"
            },
            "marker": {
             "line": {
              "color": "#E5ECF6",
              "width": 0.5
             },
             "pattern": {
              "fillmode": "overlay",
              "size": 10,
              "solidity": 0.2
             }
            },
            "type": "bar"
           }
          ],
          "barpolar": [
           {
            "marker": {
             "line": {
              "color": "#E5ECF6",
              "width": 0.5
             },
             "pattern": {
              "fillmode": "overlay",
              "size": 10,
              "solidity": 0.2
             }
            },
            "type": "barpolar"
           }
          ],
          "carpet": [
           {
            "aaxis": {
             "endlinecolor": "#2a3f5f",
             "gridcolor": "white",
             "linecolor": "white",
             "minorgridcolor": "white",
             "startlinecolor": "#2a3f5f"
            },
            "baxis": {
             "endlinecolor": "#2a3f5f",
             "gridcolor": "white",
             "linecolor": "white",
             "minorgridcolor": "white",
             "startlinecolor": "#2a3f5f"
            },
            "type": "carpet"
           }
          ],
          "choropleth": [
           {
            "colorbar": {
             "outlinewidth": 0,
             "ticks": ""
            },
            "type": "choropleth"
           }
          ],
          "contour": [
           {
            "colorbar": {
             "outlinewidth": 0,
             "ticks": ""
            },
            "colorscale": [
             [
              0,
              "#0d0887"
             ],
             [
              0.1111111111111111,
              "#46039f"
             ],
             [
              0.2222222222222222,
              "#7201a8"
             ],
             [
              0.3333333333333333,
              "#9c179e"
             ],
             [
              0.4444444444444444,
              "#bd3786"
             ],
             [
              0.5555555555555556,
              "#d8576b"
             ],
             [
              0.6666666666666666,
              "#ed7953"
             ],
             [
              0.7777777777777778,
              "#fb9f3a"
             ],
             [
              0.8888888888888888,
              "#fdca26"
             ],
             [
              1,
              "#f0f921"
             ]
            ],
            "type": "contour"
           }
          ],
          "contourcarpet": [
           {
            "colorbar": {
             "outlinewidth": 0,
             "ticks": ""
            },
            "type": "contourcarpet"
           }
          ],
          "heatmap": [
           {
            "colorbar": {
             "outlinewidth": 0,
             "ticks": ""
            },
            "colorscale": [
             [
              0,
              "#0d0887"
             ],
             [
              0.1111111111111111,
              "#46039f"
             ],
             [
              0.2222222222222222,
              "#7201a8"
             ],
             [
              0.3333333333333333,
              "#9c179e"
             ],
             [
              0.4444444444444444,
              "#bd3786"
             ],
             [
              0.5555555555555556,
              "#d8576b"
             ],
             [
              0.6666666666666666,
              "#ed7953"
             ],
             [
              0.7777777777777778,
              "#fb9f3a"
             ],
             [
              0.8888888888888888,
              "#fdca26"
             ],
             [
              1,
              "#f0f921"
             ]
            ],
            "type": "heatmap"
           }
          ],
          "heatmapgl": [
           {
            "colorbar": {
             "outlinewidth": 0,
             "ticks": ""
            },
            "colorscale": [
             [
              0,
              "#0d0887"
             ],
             [
              0.1111111111111111,
              "#46039f"
             ],
             [
              0.2222222222222222,
              "#7201a8"
             ],
             [
              0.3333333333333333,
              "#9c179e"
             ],
             [
              0.4444444444444444,
              "#bd3786"
             ],
             [
              0.5555555555555556,
              "#d8576b"
             ],
             [
              0.6666666666666666,
              "#ed7953"
             ],
             [
              0.7777777777777778,
              "#fb9f3a"
             ],
             [
              0.8888888888888888,
              "#fdca26"
             ],
             [
              1,
              "#f0f921"
             ]
            ],
            "type": "heatmapgl"
           }
          ],
          "histogram": [
           {
            "marker": {
             "pattern": {
              "fillmode": "overlay",
              "size": 10,
              "solidity": 0.2
             }
            },
            "type": "histogram"
           }
          ],
          "histogram2d": [
           {
            "colorbar": {
             "outlinewidth": 0,
             "ticks": ""
            },
            "colorscale": [
             [
              0,
              "#0d0887"
             ],
             [
              0.1111111111111111,
              "#46039f"
             ],
             [
              0.2222222222222222,
              "#7201a8"
             ],
             [
              0.3333333333333333,
              "#9c179e"
             ],
             [
              0.4444444444444444,
              "#bd3786"
             ],
             [
              0.5555555555555556,
              "#d8576b"
             ],
             [
              0.6666666666666666,
              "#ed7953"
             ],
             [
              0.7777777777777778,
              "#fb9f3a"
             ],
             [
              0.8888888888888888,
              "#fdca26"
             ],
             [
              1,
              "#f0f921"
             ]
            ],
            "type": "histogram2d"
           }
          ],
          "histogram2dcontour": [
           {
            "colorbar": {
             "outlinewidth": 0,
             "ticks": ""
            },
            "colorscale": [
             [
              0,
              "#0d0887"
             ],
             [
              0.1111111111111111,
              "#46039f"
             ],
             [
              0.2222222222222222,
              "#7201a8"
             ],
             [
              0.3333333333333333,
              "#9c179e"
             ],
             [
              0.4444444444444444,
              "#bd3786"
             ],
             [
              0.5555555555555556,
              "#d8576b"
             ],
             [
              0.6666666666666666,
              "#ed7953"
             ],
             [
              0.7777777777777778,
              "#fb9f3a"
             ],
             [
              0.8888888888888888,
              "#fdca26"
             ],
             [
              1,
              "#f0f921"
             ]
            ],
            "type": "histogram2dcontour"
           }
          ],
          "mesh3d": [
           {
            "colorbar": {
             "outlinewidth": 0,
             "ticks": ""
            },
            "type": "mesh3d"
           }
          ],
          "parcoords": [
           {
            "line": {
             "colorbar": {
              "outlinewidth": 0,
              "ticks": ""
             }
            },
            "type": "parcoords"
           }
          ],
          "pie": [
           {
            "automargin": true,
            "type": "pie"
           }
          ],
          "scatter": [
           {
            "fillpattern": {
             "fillmode": "overlay",
             "size": 10,
             "solidity": 0.2
            },
            "type": "scatter"
           }
          ],
          "scatter3d": [
           {
            "line": {
             "colorbar": {
              "outlinewidth": 0,
              "ticks": ""
             }
            },
            "marker": {
             "colorbar": {
              "outlinewidth": 0,
              "ticks": ""
             }
            },
            "type": "scatter3d"
           }
          ],
          "scattercarpet": [
           {
            "marker": {
             "colorbar": {
              "outlinewidth": 0,
              "ticks": ""
             }
            },
            "type": "scattercarpet"
           }
          ],
          "scattergeo": [
           {
            "marker": {
             "colorbar": {
              "outlinewidth": 0,
              "ticks": ""
             }
            },
            "type": "scattergeo"
           }
          ],
          "scattergl": [
           {
            "marker": {
             "colorbar": {
              "outlinewidth": 0,
              "ticks": ""
             }
            },
            "type": "scattergl"
           }
          ],
          "scattermapbox": [
           {
            "marker": {
             "colorbar": {
              "outlinewidth": 0,
              "ticks": ""
             }
            },
            "type": "scattermapbox"
           }
          ],
          "scatterpolar": [
           {
            "marker": {
             "colorbar": {
              "outlinewidth": 0,
              "ticks": ""
             }
            },
            "type": "scatterpolar"
           }
          ],
          "scatterpolargl": [
           {
            "marker": {
             "colorbar": {
              "outlinewidth": 0,
              "ticks": ""
             }
            },
            "type": "scatterpolargl"
           }
          ],
          "scatterternary": [
           {
            "marker": {
             "colorbar": {
              "outlinewidth": 0,
              "ticks": ""
             }
            },
            "type": "scatterternary"
           }
          ],
          "surface": [
           {
            "colorbar": {
             "outlinewidth": 0,
             "ticks": ""
            },
            "colorscale": [
             [
              0,
              "#0d0887"
             ],
             [
              0.1111111111111111,
              "#46039f"
             ],
             [
              0.2222222222222222,
              "#7201a8"
             ],
             [
              0.3333333333333333,
              "#9c179e"
             ],
             [
              0.4444444444444444,
              "#bd3786"
             ],
             [
              0.5555555555555556,
              "#d8576b"
             ],
             [
              0.6666666666666666,
              "#ed7953"
             ],
             [
              0.7777777777777778,
              "#fb9f3a"
             ],
             [
              0.8888888888888888,
              "#fdca26"
             ],
             [
              1,
              "#f0f921"
             ]
            ],
            "type": "surface"
           }
          ],
          "table": [
           {
            "cells": {
             "fill": {
              "color": "#EBF0F8"
             },
             "line": {
              "color": "white"
             }
            },
            "header": {
             "fill": {
              "color": "#C8D4E3"
             },
             "line": {
              "color": "white"
             }
            },
            "type": "table"
           }
          ]
         },
         "layout": {
          "annotationdefaults": {
           "arrowcolor": "#2a3f5f",
           "arrowhead": 0,
           "arrowwidth": 1
          },
          "autotypenumbers": "strict",
          "coloraxis": {
           "colorbar": {
            "outlinewidth": 0,
            "ticks": ""
           }
          },
          "colorscale": {
           "diverging": [
            [
             0,
             "#8e0152"
            ],
            [
             0.1,
             "#c51b7d"
            ],
            [
             0.2,
             "#de77ae"
            ],
            [
             0.3,
             "#f1b6da"
            ],
            [
             0.4,
             "#fde0ef"
            ],
            [
             0.5,
             "#f7f7f7"
            ],
            [
             0.6,
             "#e6f5d0"
            ],
            [
             0.7,
             "#b8e186"
            ],
            [
             0.8,
             "#7fbc41"
            ],
            [
             0.9,
             "#4d9221"
            ],
            [
             1,
             "#276419"
            ]
           ],
           "sequential": [
            [
             0,
             "#0d0887"
            ],
            [
             0.1111111111111111,
             "#46039f"
            ],
            [
             0.2222222222222222,
             "#7201a8"
            ],
            [
             0.3333333333333333,
             "#9c179e"
            ],
            [
             0.4444444444444444,
             "#bd3786"
            ],
            [
             0.5555555555555556,
             "#d8576b"
            ],
            [
             0.6666666666666666,
             "#ed7953"
            ],
            [
             0.7777777777777778,
             "#fb9f3a"
            ],
            [
             0.8888888888888888,
             "#fdca26"
            ],
            [
             1,
             "#f0f921"
            ]
           ],
           "sequentialminus": [
            [
             0,
             "#0d0887"
            ],
            [
             0.1111111111111111,
             "#46039f"
            ],
            [
             0.2222222222222222,
             "#7201a8"
            ],
            [
             0.3333333333333333,
             "#9c179e"
            ],
            [
             0.4444444444444444,
             "#bd3786"
            ],
            [
             0.5555555555555556,
             "#d8576b"
            ],
            [
             0.6666666666666666,
             "#ed7953"
            ],
            [
             0.7777777777777778,
             "#fb9f3a"
            ],
            [
             0.8888888888888888,
             "#fdca26"
            ],
            [
             1,
             "#f0f921"
            ]
           ]
          },
          "colorway": [
           "#636efa",
           "#EF553B",
           "#00cc96",
           "#ab63fa",
           "#FFA15A",
           "#19d3f3",
           "#FF6692",
           "#B6E880",
           "#FF97FF",
           "#FECB52"
          ],
          "font": {
           "color": "#2a3f5f"
          },
          "geo": {
           "bgcolor": "white",
           "lakecolor": "white",
           "landcolor": "#E5ECF6",
           "showlakes": true,
           "showland": true,
           "subunitcolor": "white"
          },
          "hoverlabel": {
           "align": "left"
          },
          "hovermode": "closest",
          "mapbox": {
           "style": "light"
          },
          "paper_bgcolor": "white",
          "plot_bgcolor": "#E5ECF6",
          "polar": {
           "angularaxis": {
            "gridcolor": "white",
            "linecolor": "white",
            "ticks": ""
           },
           "bgcolor": "#E5ECF6",
           "radialaxis": {
            "gridcolor": "white",
            "linecolor": "white",
            "ticks": ""
           }
          },
          "scene": {
           "xaxis": {
            "backgroundcolor": "#E5ECF6",
            "gridcolor": "white",
            "gridwidth": 2,
            "linecolor": "white",
            "showbackground": true,
            "ticks": "",
            "zerolinecolor": "white"
           },
           "yaxis": {
            "backgroundcolor": "#E5ECF6",
            "gridcolor": "white",
            "gridwidth": 2,
            "linecolor": "white",
            "showbackground": true,
            "ticks": "",
            "zerolinecolor": "white"
           },
           "zaxis": {
            "backgroundcolor": "#E5ECF6",
            "gridcolor": "white",
            "gridwidth": 2,
            "linecolor": "white",
            "showbackground": true,
            "ticks": "",
            "zerolinecolor": "white"
           }
          },
          "shapedefaults": {
           "line": {
            "color": "#2a3f5f"
           }
          },
          "ternary": {
           "aaxis": {
            "gridcolor": "white",
            "linecolor": "white",
            "ticks": ""
           },
           "baxis": {
            "gridcolor": "white",
            "linecolor": "white",
            "ticks": ""
           },
           "bgcolor": "#E5ECF6",
           "caxis": {
            "gridcolor": "white",
            "linecolor": "white",
            "ticks": ""
           }
          },
          "title": {
           "x": 0.05
          },
          "xaxis": {
           "automargin": true,
           "gridcolor": "white",
           "linecolor": "white",
           "ticks": "",
           "title": {
            "standoff": 15
           },
           "zerolinecolor": "white",
           "zerolinewidth": 2
          },
          "yaxis": {
           "automargin": true,
           "gridcolor": "white",
           "linecolor": "white",
           "ticks": "",
           "title": {
            "standoff": 15
           },
           "zerolinecolor": "white",
           "zerolinewidth": 2
          }
         }
        },
        "xaxis": {
         "showgrid": false,
         "showline": false,
         "showticklabels": false,
         "zeroline": false
        },
        "yaxis": {
         "showgrid": false,
         "showline": false,
         "showticklabels": false,
         "zeroline": false
        }
       }
      },
      "text/html": [
       "<div>                            <div id=\"940477aa-34e2-4817-949e-2b0cee8ccf8d\" class=\"plotly-graph-div\" style=\"height:525px; width:100%;\"></div>            <script type=\"text/javascript\">                require([\"plotly\"], function(Plotly) {                    window.PLOTLYENV=window.PLOTLYENV || {};                                    if (document.getElementById(\"940477aa-34e2-4817-949e-2b0cee8ccf8d\")) {                    Plotly.newPlot(                        \"940477aa-34e2-4817-949e-2b0cee8ccf8d\",                        [{\"hoverinfo\":\"none\",\"line\":{\"color\":\"rgb(210,210,210)\",\"width\":1},\"mode\":\"lines\",\"x\":[23.4375,26.90625,null,26.90625,29.0,null,26.90625,28.0,null,26.90625,24.8125,null,24.8125,27.0,null,24.8125,26.0,null,24.8125,22.625,null,22.625,25.0,null,22.625,24.0,null,22.625,20.25,null,20.25,22.0,null,20.25,21.0,null,20.25,18.5,null,18.5,20.0,null,18.5,19.0,null,18.5,18.0,null,18.5,17.0,null,22.625,23.0,null,23.4375,19.96875,null,19.96875,7.8125,null,7.8125,9.0,null,7.8125,6.625,null,6.625,8.0,null,6.625,5.25,null,5.25,4.5,null,4.5,5.0,null,4.5,4.0,null,5.25,6.0,null,6.625,7.0,null,19.96875,32.125,null,32.125,31.25,null,31.25,30.5,null,30.5,30.5,null,30.5,31.0,null,30.5,30.0,null,31.25,32.0,null,32.125,33.0,null,19.96875,8.875,null,8.875,1.75,null,1.75,0.5,null,0.5,1.0,null,0.5,0.0,null,1.75,3.0,null,1.75,2.0,null,8.875,16.0,null,8.875,13.5,null,13.5,12.0,null,12.0,13.0,null,12.0,11.0,null,11.0,12.0,null,11.0,11.0,null,11.0,10.0,null,13.5,15.0,null,13.5,14.0,null],\"y\":[0.0,-1.0,null,-1.0,-2.0,null,-1.0,-2.0,null,-1.0,-2.0,null,-2.0,-3.0,null,-2.0,-3.0,null,-2.0,-3.0,null,-3.0,-4.0,null,-3.0,-4.0,null,-3.0,-4.0,null,-4.0,-5.0,null,-4.0,-5.0,null,-4.0,-5.0,null,-5.0,-6.0,null,-5.0,-6.0,null,-5.0,-6.0,null,-5.0,-6.0,null,-3.0,-4.0,null,0.0,-1.0,null,-1.0,-2.0,null,-2.0,-3.0,null,-2.0,-3.0,null,-3.0,-4.0,null,-3.0,-4.0,null,-4.0,-5.0,null,-5.0,-6.0,null,-5.0,-6.0,null,-4.0,-5.0,null,-3.0,-4.0,null,-1.0,-2.0,null,-2.0,-3.0,null,-3.0,-4.0,null,-4.0,-5.0,null,-5.0,-6.0,null,-5.0,-6.0,null,-3.0,-4.0,null,-2.0,-3.0,null,-1.0,-2.0,null,-2.0,-3.0,null,-3.0,-4.0,null,-4.0,-5.0,null,-4.0,-5.0,null,-3.0,-4.0,null,-3.0,-4.0,null,-2.0,-3.0,null,-2.0,-3.0,null,-3.0,-4.0,null,-4.0,-5.0,null,-4.0,-5.0,null,-5.0,-6.0,null,-5.0,-6.0,null,-5.0,-6.0,null,-3.0,-4.0,null,-3.0,-4.0,null],\"type\":\"scatter\"},{\"hoverinfo\":\"text\",\"marker\":{\"color\":\"#6175c1\",\"line\":{\"color\":\"rgb(50,50,50)\",\"width\":1},\"size\":18,\"symbol\":\"circle-dot\"},\"mode\":\"markers\",\"name\":\"bla\",\"opacity\":0.8,\"text\":[\"{\\u003cbr\\u003e    \\\"blocks_state\\\": \\\"the red block is clear, the yellow block is\\u003cbr\\u003eclear, the hand is empty, the red block is on top of the blue block,\\u003cbr\\u003ethe yellow block is on top of the orange block, the blue block is on\\u003cbr\\u003ethe table and the orange block is on the table.\\\"\\u003cbr\\u003e}\",\"{\\u003cbr\\u003e    \\\"blocks_state\\\": \\\"the blue block is clear, the red block is in the\\u003cbr\\u003ehand, the yellow block is clear, the hand is holding the red block,\\u003cbr\\u003ethe yellow block is on top of the orange block, the blue block is on\\u003cbr\\u003ethe table, and the orange block is on the table.\\\",\\u003cbr\\u003e    \\\"Q\\\": \\\"-4.457292556762695\\\",\\u003cbr\\u003e    \\\"intuition\\\": \\\"-3.665042\\\",\\u003cbr\\u003e    \\\"goal_reached\\\": \\\"(False, 0.0)\\\"\\u003cbr\\u003e}\",\"{\\u003cbr\\u003e    \\\"blocks_state\\\": \\\"the orange block is clear, the red block is\\u003cbr\\u003eclear, the yellow block is in the hand, the hand is holding the yellow\\u003cbr\\u003eblock, the red block is on top of the blue block, the blue block is on\\u003cbr\\u003ethe table, and the orange block is on the table.\\\",\\u003cbr\\u003e    \\\"Q\\\": \\\"30.365045653449165\\\",\\u003cbr\\u003e    \\\"intuition\\\": \\\"-1.0753479\\\",\\u003cbr\\u003e    \\\"goal_reached\\\": \\\"(False, 0.0)\\\"\\u003cbr\\u003e}\",\"{\\u003cbr\\u003e    \\\"blocks_state\\\": \\\"the red block is clear, the yellow block is\\u003cbr\\u003eclear, the hand is empty, the red block is on top of the blue block,\\u003cbr\\u003ethe yellow block is on top of the orange block, the blue block is on\\u003cbr\\u003ethe table, and the orange block is on the table.\\\",\\u003cbr\\u003e    \\\"Q\\\": \\\"-4.050265312194824\\\",\\u003cbr\\u003e    \\\"intuition\\\": \\\"-3.9842072\\\",\\u003cbr\\u003e    \\\"goal_reached\\\": \\\"(False, 0.0)\\\"\\u003cbr\\u003e}\",\"{\\u003cbr\\u003e    \\\"blocks_state\\\": \\\"the orange block is clear, the yellow block is\\u003cbr\\u003eclear, the hand is empty, the red block is on top of the blue block,\\u003cbr\\u003ethe yellow block is on top of the red block, the blue block is on the\\u003cbr\\u003etable, and the orange block is on the table.\\\",\\u003cbr\\u003e    \\\"Q\\\": \\\"-3.589111328125\\\",\\u003cbr\\u003e    \\\"intuition\\\": \\\"-1.0462189\\\",\\u003cbr\\u003e    \\\"goal_reached\\\": \\\"(False, 0.0)\\\"\\u003cbr\\u003e}\",\"{\\u003cbr\\u003e    \\\"blocks_state\\\": \\\"the orange block is clear, the red block is\\u003cbr\\u003eclear, the yellow block is clear, the hand is empty, the red block is\\u003cbr\\u003eon top of the blue block, the blue block is on the table, the orange\\u003cbr\\u003eblock is on the table, and the yellow block is on the table.\\\",\\u003cbr\\u003e    \\\"Q\\\": \\\"40.8234075818743\\\",\\u003cbr\\u003e    \\\"intuition\\\": \\\"-1.1728554\\\",\\u003cbr\\u003e    \\\"goal_reached\\\": \\\"(False, 0.0)\\\"\\u003cbr\\u003e}\",\"{\\u003cbr\\u003e    \\\"blocks_state\\\": \\\"the orange block is in the hand, the yellow block\\u003cbr\\u003eis clear, the hand is holding the orange block, the red block is on\\u003cbr\\u003etop of the blue block, the yellow block is on top of the red block,\\u003cbr\\u003eand the blue block is on the table.\\\",\\u003cbr\\u003e    \\\"Q\\\": \\\"-3.0660018920898438\\\",\\u003cbr\\u003e    \\\"intuition\\\": \\\"-2.0131855\\\",\\u003cbr\\u003e    \\\"goal_reached\\\": \\\"(False, 0.0)\\\"\\u003cbr\\u003e}\",\"{\\u003cbr\\u003e    \\\"blocks_state\\\": \\\"None\\\",\\u003cbr\\u003e    \\\"Q\\\": \\\"-1.1199960708618164\\\",\\u003cbr\\u003e    \\\"intuition\\\": \\\"-2.2399921\\\"\\u003cbr\\u003e}\",\"{\\u003cbr\\u003e    \\\"blocks_state\\\": \\\"the orange block is clear, the hand is empty, the\\u003cbr\\u003eorange block is on top of the yellow block, the red block is on top of\\u003cbr\\u003ethe blue block, the yellow block is on top of the red block, and the\\u003cbr\\u003eblue block is on the table.\\\",\\u003cbr\\u003e    \\\"Q\\\": \\\"-2.0594091415405273\\\",\\u003cbr\\u003e    \\\"intuition\\\": \\\"-2.130866\\\",\\u003cbr\\u003e    \\\"goal_reached\\\": \\\"(False, 0.0)\\\"\\u003cbr\\u003e}\",\"{\\u003cbr\\u003e    \\\"blocks_state\\\": \\\"None\\\",\\u003cbr\\u003e    \\\"Q\\\": \\\"-1.1550326347351074\\\",\\u003cbr\\u003e    \\\"intuition\\\": \\\"-2.3100653\\\"\\u003cbr\\u003e}\",\"{\\u003cbr\\u003e    \\\"blocks_state\\\": \\\"the orange block is in the hand, the yellow block\\u003cbr\\u003eis clear, the hand is holding the orange block, the red block is on\\u003cbr\\u003etop of the blue block, the yellow block is on top of the red block,\\u003cbr\\u003eand the blue block is on the table.\\\",\\u003cbr\\u003e    \\\"Q\\\": \\\"-0.9939761161804199\\\",\\u003cbr\\u003e    \\\"intuition\\\": \\\"-1.9879522\\\",\\u003cbr\\u003e    \\\"goal_reached\\\": \\\"(False, 0.0)\\\"\\u003cbr\\u003e}\",\"{\\u003cbr\\u003e    \\\"blocks_state\\\": \\\"None\\\",\\u003cbr\\u003e    \\\"Q\\\": \\\"-2.365988254547119\\\",\\u003cbr\\u003e    \\\"intuition\\\": \\\"-4.7319765\\\"\\u003cbr\\u003e}\",\"{\\u003cbr\\u003e    \\\"blocks_state\\\": \\\"None\\\",\\u003cbr\\u003e    \\\"Q\\\": \\\"-0.5910921096801758\\\",\\u003cbr\\u003e    \\\"intuition\\\": \\\"-1.1821842\\\"\\u003cbr\\u003e}\",\"{\\u003cbr\\u003e    \\\"blocks_state\\\": \\\"None\\\",\\u003cbr\\u003e    \\\"Q\\\": \\\"-3.00813627243042\\\",\\u003cbr\\u003e    \\\"intuition\\\": \\\"-6.0162725\\\"\\u003cbr\\u003e}\",\"{\\u003cbr\\u003e    \\\"blocks_state\\\": \\\"None\\\",\\u003cbr\\u003e    \\\"Q\\\": \\\"-0.9488101005554199\\\",\\u003cbr\\u003e    \\\"intuition\\\": \\\"-1.8976202\\\"\\u003cbr\\u003e}\",\"{\\u003cbr\\u003e    \\\"blocks_state\\\": \\\"the blue block is clear, the red block is clear,\\u003cbr\\u003ethe yellow block is clear, the hand is empty, the yellow block is on\\u003cbr\\u003etop of the orange block, the blue block is on the table, the orange\\u003cbr\\u003eblock is on the table, and the red block is on the table.\\\",\\u003cbr\\u003e    \\\"Q\\\": \\\"-2.6247715950012207\\\",\\u003cbr\\u003e    \\\"intuition\\\": \\\"-1.3084259\\\",\\u003cbr\\u003e    \\\"goal_reached\\\": \\\"(False, 0.0)\\\"\\u003cbr\\u003e}\",\"{\\u003cbr\\u003e    \\\"blocks_state\\\": \\\"None\\\",\\u003cbr\\u003e    \\\"Q\\\": \\\"-2.1252450942993164\\\",\\u003cbr\\u003e    \\\"intuition\\\": \\\"-4.25049\\\"\\u003cbr\\u003e}\",\"{\\u003cbr\\u003e    \\\"blocks_state\\\": \\\"None\\\",\\u003cbr\\u003e    \\\"Q\\\": \\\"-1.2583017349243164\\\",\\u003cbr\\u003e    \\\"intuition\\\": \\\"-2.5166035\\\"\\u003cbr\\u003e}\",\"{\\u003cbr\\u003e    \\\"blocks_state\\\": \\\"the blue block is clear, the orange block is\\u003cbr\\u003eclear, the red block is clear, the yellow block is in the hand, the\\u003cbr\\u003ehand is holding the yellow block, the blue block is on the table, the\\u003cbr\\u003eorange block is on the table, and the red block is on the table.\\\",\\u003cbr\\u003e    \\\"Q\\\": \\\"-1.9705586433410645\\\",\\u003cbr\\u003e    \\\"intuition\\\": \\\"-1.1967907\\\",\\u003cbr\\u003e    \\\"goal_reached\\\": \\\"(False, 0.0)\\\"\\u003cbr\\u003e}\",\"{\\u003cbr\\u003e    \\\"blocks_state\\\": \\\"None\\\",\\u003cbr\\u003e    \\\"Q\\\": \\\"-0.9551701545715332\\\",\\u003cbr\\u003e    \\\"intuition\\\": \\\"-1.9103403\\\"\\u003cbr\\u003e}\",\"{\\u003cbr\\u003e    \\\"blocks_state\\\": \\\"None\\\",\\u003cbr\\u003e    \\\"Q\\\": \\\"-2.174408435821533\\\",\\u003cbr\\u003e    \\\"intuition\\\": \\\"-4.348817\\\"\\u003cbr\\u003e}\",\"{\\u003cbr\\u003e    \\\"blocks_state\\\": \\\"the blue block is clear, the orange block is\\u003cbr\\u003eclear, the yellow block is clear, the hand is empty, the yellow block\\u003cbr\\u003eis on top of the red block, the blue block is on the table, the orange\\u003cbr\\u003eblock is on the table, and the red block is on the table.\\\",\\u003cbr\\u003e    \\\"Q\\\": \\\"-1.3721632957458496\\\",\\u003cbr\\u003e    \\\"intuition\\\": \\\"-0.86248875\\\",\\u003cbr\\u003e    \\\"goal_reached\\\": \\\"(False, 0.0)\\\"\\u003cbr\\u003e}\",\"{\\u003cbr\\u003e    \\\"blocks_state\\\": \\\"None\\\",\\u003cbr\\u003e    \\\"Q\\\": \\\"-0.9123578071594238\\\",\\u003cbr\\u003e    \\\"intuition\\\": \\\"-1.8247156\\\"\\u003cbr\\u003e}\",\"{\\u003cbr\\u003e    \\\"blocks_state\\\": \\\"None\\\",\\u003cbr\\u003e    \\\"Q\\\": \\\"-2.0739755630493164\\\",\\u003cbr\\u003e    \\\"intuition\\\": \\\"-4.147951\\\"\\u003cbr\\u003e}\",\"{\\u003cbr\\u003e    \\\"blocks_state\\\": \\\"None\\\",\\u003cbr\\u003e    \\\"Q\\\": \\\"-1.0427255630493164\\\",\\u003cbr\\u003e    \\\"intuition\\\": \\\"-2.0854511\\\"\\u003cbr\\u003e}\",\"{\\u003cbr\\u003e    \\\"blocks_state\\\": \\\"the blue block is clear, the orange block is\\u003cbr\\u003eclear, the red block is clear, the yellow block is in the hand, the\\u003cbr\\u003ehand is holding the yellow block, the blue block is on the table, the\\u003cbr\\u003eorange block is on the table, and the red block is on the table.\\\",\\u003cbr\\u003e    \\\"Q\\\": \\\"-0.9409189224243164\\\",\\u003cbr\\u003e    \\\"intuition\\\": \\\"-1.8818378\\\",\\u003cbr\\u003e    \\\"goal_reached\\\": \\\"(False, 0.0)\\\"\\u003cbr\\u003e}\",\"{\\u003cbr\\u003e    \\\"blocks_state\\\": \\\"None\\\",\\u003cbr\\u003e    \\\"Q\\\": \\\"-1.0470285415649414\\\",\\u003cbr\\u003e    \\\"intuition\\\": \\\"-2.094057\\\"\\u003cbr\\u003e}\",\"{\\u003cbr\\u003e    \\\"blocks_state\\\": \\\"None\\\",\\u003cbr\\u003e    \\\"Q\\\": \\\"-0.5542306900024414\\\",\\u003cbr\\u003e    \\\"intuition\\\": \\\"-1.1084614\\\"\\u003cbr\\u003e}\",\"{\\u003cbr\\u003e    \\\"blocks_state\\\": \\\"None\\\",\\u003cbr\\u003e    \\\"Q\\\": \\\"-3.4603590965270996\\\",\\u003cbr\\u003e    \\\"intuition\\\": \\\"-6.920718\\\"\\u003cbr\\u003e}\",\"{\\u003cbr\\u003e    \\\"blocks_state\\\": \\\"None\\\",\\u003cbr\\u003e    \\\"Q\\\": \\\"-0.7570843696594238\\\",\\u003cbr\\u003e    \\\"intuition\\\": \\\"-1.5141687\\\"\\u003cbr\\u003e}\",\"{\\u003cbr\\u003e    \\\"blocks_state\\\": \\\"the orange block is in the hand, the red block is\\u003cbr\\u003eclear, the yellow block is clear, the hand is holding the orange\\u003cbr\\u003eblock, the red block is on top of the blue block, the blue block is on\\u003cbr\\u003ethe table, and the yellow block is on the table.\\\",\\u003cbr\\u003e    \\\"Q\\\": \\\"48.639249324798584\\\",\\u003cbr\\u003e    \\\"intuition\\\": \\\"-2.0756855\\\",\\u003cbr\\u003e    \\\"goal_reached\\\": \\\"(False, 0.0)\\\"\\u003cbr\\u003e}\",\"{\\u003cbr\\u003e    \\\"blocks_state\\\": \\\"None\\\",\\u003cbr\\u003e    \\\"Q\\\": \\\"-1.3625507354736328\\\",\\u003cbr\\u003e    \\\"intuition\\\": \\\"-2.7251015\\\"\\u003cbr\\u003e}\",\"{\\u003cbr\\u003e    \\\"blocks_state\\\": \\\"the orange block is clear, the red block is\\u003cbr\\u003eclear, the yellow block is in the hand, the hand is holding the yellow\\u003cbr\\u003eblock, the red block is on top of the blue block, the blue block is on\\u003cbr\\u003ethe table, and the orange block is on the table.\\\",\\u003cbr\\u003e    \\\"Q\\\": \\\"-1.966649055480957\\\",\\u003cbr\\u003e    \\\"intuition\\\": \\\"-1.8886738\\\",\\u003cbr\\u003e    \\\"goal_reached\\\": \\\"(False, 0.0)\\\"\\u003cbr\\u003e}\",\"{\\u003cbr\\u003e    \\\"blocks_state\\\": \\\"the red block is clear, the yellow block is\\u003cbr\\u003eclear, the hand is empty, the red block is on top of the blue block,\\u003cbr\\u003ethe yellow block is on top of the orange block, the blue block is on\\u003cbr\\u003ethe table, and the orange block is on the table.\\\",\\u003cbr\\u003e    \\\"Q\\\": \\\"-1.0223121643066406\\\",\\u003cbr\\u003e    \\\"intuition\\\": \\\"-0.9382534\\\",\\u003cbr\\u003e    \\\"goal_reached\\\": \\\"(False, 0.0)\\\"\\u003cbr\\u003e}\",\"{\\u003cbr\\u003e    \\\"blocks_state\\\": \\\"None\\\",\\u003cbr\\u003e    \\\"Q\\\": \\\"-0.7342634201049805\\\",\\u003cbr\\u003e    \\\"intuition\\\": \\\"-1.4685268\\\"\\u003cbr\\u003e}\",\"{\\u003cbr\\u003e    \\\"blocks_state\\\": \\\"None\\\",\\u003cbr\\u003e    \\\"Q\\\": \\\"-1.0422558784484863\\\",\\u003cbr\\u003e    \\\"intuition\\\": \\\"-2.0845118\\\"\\u003cbr\\u003e}\",\"{\\u003cbr\\u003e    \\\"blocks_state\\\": \\\"None\\\",\\u003cbr\\u003e    \\\"Q\\\": \\\"-1.8043241500854492\\\",\\u003cbr\\u003e    \\\"intuition\\\": \\\"-3.6086483\\\"\\u003cbr\\u003e}\",\"{\\u003cbr\\u003e    \\\"blocks_state\\\": \\\"the orange block is clear, the red block is\\u003cbr\\u003eclear, the yellow block is in the hand, the hand is holding the yellow\\u003cbr\\u003eblock, the red block is on top of the blue block, the blue block is on\\u003cbr\\u003ethe table, and the orange block is on the table.\\\",\\u003cbr\\u003e    \\\"Q\\\": \\\"-0.5531854629516602\\\",\\u003cbr\\u003e    \\\"intuition\\\": \\\"-1.1063709\\\",\\u003cbr\\u003e    \\\"goal_reached\\\": \\\"(False, 0.0)\\\"\\u003cbr\\u003e}\",\"{\\u003cbr\\u003e    \\\"blocks_state\\\": \\\"None\\\",\\u003cbr\\u003e    \\\"Q\\\": \\\"-2.0607004165649414\\\",\\u003cbr\\u003e    \\\"intuition\\\": \\\"-4.121401\\\"\\u003cbr\\u003e}\",\"{\\u003cbr\\u003e    \\\"blocks_state\\\": \\\"None\\\",\\u003cbr\\u003e    \\\"Q\\\": \\\"-0.4983835220336914\\\",\\u003cbr\\u003e    \\\"intuition\\\": \\\"-0.99676704\\\"\\u003cbr\\u003e}\",\"{\\u003cbr\\u003e    \\\"blocks_state\\\": \\\"None\\\",\\u003cbr\\u003e    \\\"Q\\\": \\\"-0.6215853691101074\\\",\\u003cbr\\u003e    \\\"intuition\\\": \\\"-1.2431707\\\"\\u003cbr\\u003e}\",\"{\\u003cbr\\u003e    \\\"blocks_state\\\": \\\"None\\\",\\u003cbr\\u003e    \\\"Q\\\": \\\"-1.8043241500854492\\\",\\u003cbr\\u003e    \\\"intuition\\\": \\\"-3.6086483\\\"\\u003cbr\\u003e}\",\"{\\u003cbr\\u003e    \\\"blocks_state\\\": \\\"the orange block is clear, the red block is\\u003cbr\\u003eclear, the yellow block is in the hand, the hand is holding the yellow\\u003cbr\\u003eblock, the red block is on top of the blue block, the blue block is on\\u003cbr\\u003ethe table, and the orange block is on the table.\\\",\\u003cbr\\u003e    \\\"Q\\\": \\\"-2.058161735534668\\\",\\u003cbr\\u003e    \\\"intuition\\\": \\\"-1.1063709\\\",\\u003cbr\\u003e    \\\"goal_reached\\\": \\\"(False, 0.0)\\\"\\u003cbr\\u003e}\",\"{\\u003cbr\\u003e    \\\"blocks_state\\\": \\\"None\\\",\\u003cbr\\u003e    \\\"Q\\\": \\\"-2.0607004165649414\\\",\\u003cbr\\u003e    \\\"intuition\\\": \\\"-4.121401\\\"\\u003cbr\\u003e}\",\"{\\u003cbr\\u003e    \\\"blocks_state\\\": \\\"the orange block is clear, the yellow block is\\u003cbr\\u003eclear, the hand is empty, the red block is on top of the blue block,\\u003cbr\\u003ethe yellow block is on top of the red block, the blue block is on the\\u003cbr\\u003etable, and the orange block is on the table.\\\",\\u003cbr\\u003e    \\\"Q\\\": \\\"-1.5049762725830078\\\",\\u003cbr\\u003e    \\\"intuition\\\": \\\"-0.99676704\\\",\\u003cbr\\u003e    \\\"goal_reached\\\": \\\"(False, 0.0)\\\"\\u003cbr\\u003e}\",\"{\\u003cbr\\u003e    \\\"blocks_state\\\": \\\"None\\\",\\u003cbr\\u003e    \\\"Q\\\": \\\"-0.6215853691101074\\\",\\u003cbr\\u003e    \\\"intuition\\\": \\\"-1.2431707\\\"\\u003cbr\\u003e}\",\"{\\u003cbr\\u003e    \\\"blocks_state\\\": \\\"the orange block is in the hand, the yellow block\\u003cbr\\u003eis clear, the hand is holding the orange block, the red block is on\\u003cbr\\u003etop of the blue block, the yellow block is on top of the red block,\\u003cbr\\u003eand the blue block is on the table.\\\",\\u003cbr\\u003e    \\\"Q\\\": \\\"-1.0065927505493164\\\",\\u003cbr\\u003e    \\\"intuition\\\": \\\"-2.0131855\\\",\\u003cbr\\u003e    \\\"goal_reached\\\": \\\"(False, 0.0)\\\"\\u003cbr\\u003e}\",\"{\\u003cbr\\u003e    \\\"blocks_state\\\": \\\"None\\\",\\u003cbr\\u003e    \\\"Q\\\": \\\"-1.1199960708618164\\\",\\u003cbr\\u003e    \\\"intuition\\\": \\\"-2.2399921\\\"\\u003cbr\\u003e}\",\"{\\u003cbr\\u003e    \\\"blocks_state\\\": \\\"None\\\",\\u003cbr\\u003e    \\\"Q\\\": \\\"-1.0654330253601074\\\",\\u003cbr\\u003e    \\\"intuition\\\": \\\"-2.130866\\\"\\u003cbr\\u003e}\",\"{\\u003cbr\\u003e    \\\"blocks_state\\\": \\\"None\\\",\\u003cbr\\u003e    \\\"Q\\\": \\\"-1.1550326347351074\\\",\\u003cbr\\u003e    \\\"intuition\\\": \\\"-2.3100653\\\"\\u003cbr\\u003e}\",\"{\\u003cbr\\u003e    \\\"blocks_state\\\": \\\"the orange block is clear, the yellow block is\\u003cbr\\u003eclear, the hand is empty, the orange block is on top of the red block,\\u003cbr\\u003ethe red block is on top of the blue block, the blue block is on the\\u003cbr\\u003etable, and the yellow block is on the table.\\\",\\u003cbr\\u003e    \\\"Q\\\": \\\"49.6770920753479\\\",\\u003cbr\\u003e    \\\"intuition\\\": \\\"-0.64581585\\\",\\u003cbr\\u003e    \\\"goal_reached\\\": \\\"(True, 1.0)\\\"\\u003cbr\\u003e}\",\"{\\u003cbr\\u003e    \\\"blocks_state\\\": \\\"None\\\",\\u003cbr\\u003e    \\\"Q\\\": \\\"-1.5727553367614746\\\",\\u003cbr\\u003e    \\\"intuition\\\": \\\"-3.1455107\\\"\\u003cbr\\u003e}\",\"{\\u003cbr\\u003e    \\\"blocks_state\\\": \\\"None\\\",\\u003cbr\\u003e    \\\"Q\\\": \\\"-1.0844793319702148\\\",\\u003cbr\\u003e    \\\"intuition\\\": \\\"-2.1689587\\\"\\u003cbr\\u003e}\",\"{\\u003cbr\\u003e    \\\"blocks_state\\\": \\\"None\\\",\\u003cbr\\u003e    \\\"Q\\\": \\\"-1.033008098602295\\\",\\u003cbr\\u003e    \\\"intuition\\\": \\\"-2.0660162\\\"\\u003cbr\\u003e}\",\"{\\u003cbr\\u003e    \\\"blocks_state\\\": \\\"None\\\",\\u003cbr\\u003e    \\\"Q\\\": \\\"-1.1413583755493164\\\",\\u003cbr\\u003e    \\\"intuition\\\": \\\"-2.2827168\\\"\\u003cbr\\u003e}\"],\"x\":[23.4375,26.90625,19.96875,7.8125,32.125,8.875,31.25,33.0,30.5,32.0,30.5,31.0,30.0,29.0,28.0,24.8125,27.0,26.0,22.625,25.0,24.0,20.25,23.0,22.0,21.0,18.5,20.0,19.0,18.0,17.0,1.75,16.0,13.5,12.0,15.0,14.0,13.0,11.0,12.0,11.0,10.0,9.0,6.625,8.0,5.25,7.0,4.5,6.0,5.0,4.0,0.5,3.0,2.0,1.0,0.0],\"y\":[0.0,-1.0,-1.0,-2.0,-2.0,-2.0,-3.0,-3.0,-4.0,-4.0,-5.0,-6.0,-6.0,-2.0,-2.0,-2.0,-3.0,-3.0,-3.0,-4.0,-4.0,-4.0,-4.0,-5.0,-5.0,-5.0,-6.0,-6.0,-6.0,-6.0,-3.0,-3.0,-3.0,-4.0,-4.0,-4.0,-5.0,-5.0,-6.0,-6.0,-6.0,-3.0,-3.0,-4.0,-4.0,-4.0,-5.0,-5.0,-6.0,-6.0,-4.0,-4.0,-4.0,-5.0,-5.0],\"type\":\"scatter\"}],                        {\"template\":{\"data\":{\"histogram2dcontour\":[{\"type\":\"histogram2dcontour\",\"colorbar\":{\"outlinewidth\":0,\"ticks\":\"\"},\"colorscale\":[[0.0,\"#0d0887\"],[0.1111111111111111,\"#46039f\"],[0.2222222222222222,\"#7201a8\"],[0.3333333333333333,\"#9c179e\"],[0.4444444444444444,\"#bd3786\"],[0.5555555555555556,\"#d8576b\"],[0.6666666666666666,\"#ed7953\"],[0.7777777777777778,\"#fb9f3a\"],[0.8888888888888888,\"#fdca26\"],[1.0,\"#f0f921\"]]}],\"choropleth\":[{\"type\":\"choropleth\",\"colorbar\":{\"outlinewidth\":0,\"ticks\":\"\"}}],\"histogram2d\":[{\"type\":\"histogram2d\",\"colorbar\":{\"outlinewidth\":0,\"ticks\":\"\"},\"colorscale\":[[0.0,\"#0d0887\"],[0.1111111111111111,\"#46039f\"],[0.2222222222222222,\"#7201a8\"],[0.3333333333333333,\"#9c179e\"],[0.4444444444444444,\"#bd3786\"],[0.5555555555555556,\"#d8576b\"],[0.6666666666666666,\"#ed7953\"],[0.7777777777777778,\"#fb9f3a\"],[0.8888888888888888,\"#fdca26\"],[1.0,\"#f0f921\"]]}],\"heatmap\":[{\"type\":\"heatmap\",\"colorbar\":{\"outlinewidth\":0,\"ticks\":\"\"},\"colorscale\":[[0.0,\"#0d0887\"],[0.1111111111111111,\"#46039f\"],[0.2222222222222222,\"#7201a8\"],[0.3333333333333333,\"#9c179e\"],[0.4444444444444444,\"#bd3786\"],[0.5555555555555556,\"#d8576b\"],[0.6666666666666666,\"#ed7953\"],[0.7777777777777778,\"#fb9f3a\"],[0.8888888888888888,\"#fdca26\"],[1.0,\"#f0f921\"]]}],\"heatmapgl\":[{\"type\":\"heatmapgl\",\"colorbar\":{\"outlinewidth\":0,\"ticks\":\"\"},\"colorscale\":[[0.0,\"#0d0887\"],[0.1111111111111111,\"#46039f\"],[0.2222222222222222,\"#7201a8\"],[0.3333333333333333,\"#9c179e\"],[0.4444444444444444,\"#bd3786\"],[0.5555555555555556,\"#d8576b\"],[0.6666666666666666,\"#ed7953\"],[0.7777777777777778,\"#fb9f3a\"],[0.8888888888888888,\"#fdca26\"],[1.0,\"#f0f921\"]]}],\"contourcarpet\":[{\"type\":\"contourcarpet\",\"colorbar\":{\"outlinewidth\":0,\"ticks\":\"\"}}],\"contour\":[{\"type\":\"contour\",\"colorbar\":{\"outlinewidth\":0,\"ticks\":\"\"},\"colorscale\":[[0.0,\"#0d0887\"],[0.1111111111111111,\"#46039f\"],[0.2222222222222222,\"#7201a8\"],[0.3333333333333333,\"#9c179e\"],[0.4444444444444444,\"#bd3786\"],[0.5555555555555556,\"#d8576b\"],[0.6666666666666666,\"#ed7953\"],[0.7777777777777778,\"#fb9f3a\"],[0.8888888888888888,\"#fdca26\"],[1.0,\"#f0f921\"]]}],\"surface\":[{\"type\":\"surface\",\"colorbar\":{\"outlinewidth\":0,\"ticks\":\"\"},\"colorscale\":[[0.0,\"#0d0887\"],[0.1111111111111111,\"#46039f\"],[0.2222222222222222,\"#7201a8\"],[0.3333333333333333,\"#9c179e\"],[0.4444444444444444,\"#bd3786\"],[0.5555555555555556,\"#d8576b\"],[0.6666666666666666,\"#ed7953\"],[0.7777777777777778,\"#fb9f3a\"],[0.8888888888888888,\"#fdca26\"],[1.0,\"#f0f921\"]]}],\"mesh3d\":[{\"type\":\"mesh3d\",\"colorbar\":{\"outlinewidth\":0,\"ticks\":\"\"}}],\"scatter\":[{\"fillpattern\":{\"fillmode\":\"overlay\",\"size\":10,\"solidity\":0.2},\"type\":\"scatter\"}],\"parcoords\":[{\"type\":\"parcoords\",\"line\":{\"colorbar\":{\"outlinewidth\":0,\"ticks\":\"\"}}}],\"scatterpolargl\":[{\"type\":\"scatterpolargl\",\"marker\":{\"colorbar\":{\"outlinewidth\":0,\"ticks\":\"\"}}}],\"bar\":[{\"error_x\":{\"color\":\"#2a3f5f\"},\"error_y\":{\"color\":\"#2a3f5f\"},\"marker\":{\"line\":{\"color\":\"#E5ECF6\",\"width\":0.5},\"pattern\":{\"fillmode\":\"overlay\",\"size\":10,\"solidity\":0.2}},\"type\":\"bar\"}],\"scattergeo\":[{\"type\":\"scattergeo\",\"marker\":{\"colorbar\":{\"outlinewidth\":0,\"ticks\":\"\"}}}],\"scatterpolar\":[{\"type\":\"scatterpolar\",\"marker\":{\"colorbar\":{\"outlinewidth\":0,\"ticks\":\"\"}}}],\"histogram\":[{\"marker\":{\"pattern\":{\"fillmode\":\"overlay\",\"size\":10,\"solidity\":0.2}},\"type\":\"histogram\"}],\"scattergl\":[{\"type\":\"scattergl\",\"marker\":{\"colorbar\":{\"outlinewidth\":0,\"ticks\":\"\"}}}],\"scatter3d\":[{\"type\":\"scatter3d\",\"line\":{\"colorbar\":{\"outlinewidth\":0,\"ticks\":\"\"}},\"marker\":{\"colorbar\":{\"outlinewidth\":0,\"ticks\":\"\"}}}],\"scattermapbox\":[{\"type\":\"scattermapbox\",\"marker\":{\"colorbar\":{\"outlinewidth\":0,\"ticks\":\"\"}}}],\"scatterternary\":[{\"type\":\"scatterternary\",\"marker\":{\"colorbar\":{\"outlinewidth\":0,\"ticks\":\"\"}}}],\"scattercarpet\":[{\"type\":\"scattercarpet\",\"marker\":{\"colorbar\":{\"outlinewidth\":0,\"ticks\":\"\"}}}],\"carpet\":[{\"aaxis\":{\"endlinecolor\":\"#2a3f5f\",\"gridcolor\":\"white\",\"linecolor\":\"white\",\"minorgridcolor\":\"white\",\"startlinecolor\":\"#2a3f5f\"},\"baxis\":{\"endlinecolor\":\"#2a3f5f\",\"gridcolor\":\"white\",\"linecolor\":\"white\",\"minorgridcolor\":\"white\",\"startlinecolor\":\"#2a3f5f\"},\"type\":\"carpet\"}],\"table\":[{\"cells\":{\"fill\":{\"color\":\"#EBF0F8\"},\"line\":{\"color\":\"white\"}},\"header\":{\"fill\":{\"color\":\"#C8D4E3\"},\"line\":{\"color\":\"white\"}},\"type\":\"table\"}],\"barpolar\":[{\"marker\":{\"line\":{\"color\":\"#E5ECF6\",\"width\":0.5},\"pattern\":{\"fillmode\":\"overlay\",\"size\":10,\"solidity\":0.2}},\"type\":\"barpolar\"}],\"pie\":[{\"automargin\":true,\"type\":\"pie\"}]},\"layout\":{\"autotypenumbers\":\"strict\",\"colorway\":[\"#636efa\",\"#EF553B\",\"#00cc96\",\"#ab63fa\",\"#FFA15A\",\"#19d3f3\",\"#FF6692\",\"#B6E880\",\"#FF97FF\",\"#FECB52\"],\"font\":{\"color\":\"#2a3f5f\"},\"hovermode\":\"closest\",\"hoverlabel\":{\"align\":\"left\"},\"paper_bgcolor\":\"white\",\"plot_bgcolor\":\"#E5ECF6\",\"polar\":{\"bgcolor\":\"#E5ECF6\",\"angularaxis\":{\"gridcolor\":\"white\",\"linecolor\":\"white\",\"ticks\":\"\"},\"radialaxis\":{\"gridcolor\":\"white\",\"linecolor\":\"white\",\"ticks\":\"\"}},\"ternary\":{\"bgcolor\":\"#E5ECF6\",\"aaxis\":{\"gridcolor\":\"white\",\"linecolor\":\"white\",\"ticks\":\"\"},\"baxis\":{\"gridcolor\":\"white\",\"linecolor\":\"white\",\"ticks\":\"\"},\"caxis\":{\"gridcolor\":\"white\",\"linecolor\":\"white\",\"ticks\":\"\"}},\"coloraxis\":{\"colorbar\":{\"outlinewidth\":0,\"ticks\":\"\"}},\"colorscale\":{\"sequential\":[[0.0,\"#0d0887\"],[0.1111111111111111,\"#46039f\"],[0.2222222222222222,\"#7201a8\"],[0.3333333333333333,\"#9c179e\"],[0.4444444444444444,\"#bd3786\"],[0.5555555555555556,\"#d8576b\"],[0.6666666666666666,\"#ed7953\"],[0.7777777777777778,\"#fb9f3a\"],[0.8888888888888888,\"#fdca26\"],[1.0,\"#f0f921\"]],\"sequentialminus\":[[0.0,\"#0d0887\"],[0.1111111111111111,\"#46039f\"],[0.2222222222222222,\"#7201a8\"],[0.3333333333333333,\"#9c179e\"],[0.4444444444444444,\"#bd3786\"],[0.5555555555555556,\"#d8576b\"],[0.6666666666666666,\"#ed7953\"],[0.7777777777777778,\"#fb9f3a\"],[0.8888888888888888,\"#fdca26\"],[1.0,\"#f0f921\"]],\"diverging\":[[0,\"#8e0152\"],[0.1,\"#c51b7d\"],[0.2,\"#de77ae\"],[0.3,\"#f1b6da\"],[0.4,\"#fde0ef\"],[0.5,\"#f7f7f7\"],[0.6,\"#e6f5d0\"],[0.7,\"#b8e186\"],[0.8,\"#7fbc41\"],[0.9,\"#4d9221\"],[1,\"#276419\"]]},\"xaxis\":{\"gridcolor\":\"white\",\"linecolor\":\"white\",\"ticks\":\"\",\"title\":{\"standoff\":15},\"zerolinecolor\":\"white\",\"automargin\":true,\"zerolinewidth\":2},\"yaxis\":{\"gridcolor\":\"white\",\"linecolor\":\"white\",\"ticks\":\"\",\"title\":{\"standoff\":15},\"zerolinecolor\":\"white\",\"automargin\":true,\"zerolinewidth\":2},\"scene\":{\"xaxis\":{\"backgroundcolor\":\"#E5ECF6\",\"gridcolor\":\"white\",\"linecolor\":\"white\",\"showbackground\":true,\"ticks\":\"\",\"zerolinecolor\":\"white\",\"gridwidth\":2},\"yaxis\":{\"backgroundcolor\":\"#E5ECF6\",\"gridcolor\":\"white\",\"linecolor\":\"white\",\"showbackground\":true,\"ticks\":\"\",\"zerolinecolor\":\"white\",\"gridwidth\":2},\"zaxis\":{\"backgroundcolor\":\"#E5ECF6\",\"gridcolor\":\"white\",\"linecolor\":\"white\",\"showbackground\":true,\"ticks\":\"\",\"zerolinecolor\":\"white\",\"gridwidth\":2}},\"shapedefaults\":{\"line\":{\"color\":\"#2a3f5f\"}},\"annotationdefaults\":{\"arrowcolor\":\"#2a3f5f\",\"arrowhead\":0,\"arrowwidth\":1},\"geo\":{\"bgcolor\":\"white\",\"landcolor\":\"#E5ECF6\",\"subunitcolor\":\"white\",\"showland\":true,\"showlakes\":true,\"lakecolor\":\"white\"},\"title\":{\"x\":0.05},\"mapbox\":{\"style\":\"light\"}}},\"font\":{\"size\":12},\"xaxis\":{\"showline\":false,\"zeroline\":false,\"showgrid\":false,\"showticklabels\":false},\"yaxis\":{\"showline\":false,\"zeroline\":false,\"showgrid\":false,\"showticklabels\":false},\"margin\":{\"l\":10,\"r\":10,\"b\":10,\"t\":10},\"annotations\":[{\"font\":{\"color\":\"rgb(250,250,250)\",\"size\":10},\"showarrow\":false,\"text\":\"0\",\"x\":23.4375,\"xref\":\"x\",\"y\":0.0,\"yref\":\"y\"},{\"font\":{\"color\":\"rgb(250,250,250)\",\"size\":10},\"showarrow\":false,\"text\":\"1\",\"x\":26.90625,\"xref\":\"x\",\"y\":-1.0,\"yref\":\"y\"},{\"font\":{\"color\":\"rgb(250,250,250)\",\"size\":10},\"showarrow\":false,\"text\":\"2\",\"x\":19.96875,\"xref\":\"x\",\"y\":-1.0,\"yref\":\"y\"},{\"font\":{\"color\":\"rgb(250,250,250)\",\"size\":10},\"showarrow\":false,\"text\":\"3\",\"x\":7.8125,\"xref\":\"x\",\"y\":-2.0,\"yref\":\"y\"},{\"font\":{\"color\":\"rgb(250,250,250)\",\"size\":10},\"showarrow\":false,\"text\":\"4\",\"x\":32.125,\"xref\":\"x\",\"y\":-2.0,\"yref\":\"y\"},{\"font\":{\"color\":\"rgb(250,250,250)\",\"size\":10},\"showarrow\":false,\"text\":\"5\",\"x\":8.875,\"xref\":\"x\",\"y\":-2.0,\"yref\":\"y\"},{\"font\":{\"color\":\"rgb(250,250,250)\",\"size\":10},\"showarrow\":false,\"text\":\"6\",\"x\":31.25,\"xref\":\"x\",\"y\":-3.0,\"yref\":\"y\"},{\"font\":{\"color\":\"rgb(250,250,250)\",\"size\":10},\"showarrow\":false,\"text\":\"7\",\"x\":33.0,\"xref\":\"x\",\"y\":-3.0,\"yref\":\"y\"},{\"font\":{\"color\":\"rgb(250,250,250)\",\"size\":10},\"showarrow\":false,\"text\":\"8\",\"x\":30.5,\"xref\":\"x\",\"y\":-4.0,\"yref\":\"y\"},{\"font\":{\"color\":\"rgb(250,250,250)\",\"size\":10},\"showarrow\":false,\"text\":\"9\",\"x\":32.0,\"xref\":\"x\",\"y\":-4.0,\"yref\":\"y\"},{\"font\":{\"color\":\"rgb(250,250,250)\",\"size\":10},\"showarrow\":false,\"text\":\"10\",\"x\":30.5,\"xref\":\"x\",\"y\":-5.0,\"yref\":\"y\"},{\"font\":{\"color\":\"rgb(250,250,250)\",\"size\":10},\"showarrow\":false,\"text\":\"11\",\"x\":31.0,\"xref\":\"x\",\"y\":-6.0,\"yref\":\"y\"},{\"font\":{\"color\":\"rgb(250,250,250)\",\"size\":10},\"showarrow\":false,\"text\":\"12\",\"x\":30.0,\"xref\":\"x\",\"y\":-6.0,\"yref\":\"y\"},{\"font\":{\"color\":\"rgb(250,250,250)\",\"size\":10},\"showarrow\":false,\"text\":\"13\",\"x\":29.0,\"xref\":\"x\",\"y\":-2.0,\"yref\":\"y\"},{\"font\":{\"color\":\"rgb(250,250,250)\",\"size\":10},\"showarrow\":false,\"text\":\"14\",\"x\":28.0,\"xref\":\"x\",\"y\":-2.0,\"yref\":\"y\"},{\"font\":{\"color\":\"rgb(250,250,250)\",\"size\":10},\"showarrow\":false,\"text\":\"15\",\"x\":24.8125,\"xref\":\"x\",\"y\":-2.0,\"yref\":\"y\"},{\"font\":{\"color\":\"rgb(250,250,250)\",\"size\":10},\"showarrow\":false,\"text\":\"16\",\"x\":27.0,\"xref\":\"x\",\"y\":-3.0,\"yref\":\"y\"},{\"font\":{\"color\":\"rgb(250,250,250)\",\"size\":10},\"showarrow\":false,\"text\":\"17\",\"x\":26.0,\"xref\":\"x\",\"y\":-3.0,\"yref\":\"y\"},{\"font\":{\"color\":\"rgb(250,250,250)\",\"size\":10},\"showarrow\":false,\"text\":\"18\",\"x\":22.625,\"xref\":\"x\",\"y\":-3.0,\"yref\":\"y\"},{\"font\":{\"color\":\"rgb(250,250,250)\",\"size\":10},\"showarrow\":false,\"text\":\"19\",\"x\":25.0,\"xref\":\"x\",\"y\":-4.0,\"yref\":\"y\"},{\"font\":{\"color\":\"rgb(250,250,250)\",\"size\":10},\"showarrow\":false,\"text\":\"20\",\"x\":24.0,\"xref\":\"x\",\"y\":-4.0,\"yref\":\"y\"},{\"font\":{\"color\":\"rgb(250,250,250)\",\"size\":10},\"showarrow\":false,\"text\":\"21\",\"x\":20.25,\"xref\":\"x\",\"y\":-4.0,\"yref\":\"y\"},{\"font\":{\"color\":\"rgb(250,250,250)\",\"size\":10},\"showarrow\":false,\"text\":\"22\",\"x\":23.0,\"xref\":\"x\",\"y\":-4.0,\"yref\":\"y\"},{\"font\":{\"color\":\"rgb(250,250,250)\",\"size\":10},\"showarrow\":false,\"text\":\"23\",\"x\":22.0,\"xref\":\"x\",\"y\":-5.0,\"yref\":\"y\"},{\"font\":{\"color\":\"rgb(250,250,250)\",\"size\":10},\"showarrow\":false,\"text\":\"24\",\"x\":21.0,\"xref\":\"x\",\"y\":-5.0,\"yref\":\"y\"},{\"font\":{\"color\":\"rgb(250,250,250)\",\"size\":10},\"showarrow\":false,\"text\":\"25\",\"x\":18.5,\"xref\":\"x\",\"y\":-5.0,\"yref\":\"y\"},{\"font\":{\"color\":\"rgb(250,250,250)\",\"size\":10},\"showarrow\":false,\"text\":\"26\",\"x\":20.0,\"xref\":\"x\",\"y\":-6.0,\"yref\":\"y\"},{\"font\":{\"color\":\"rgb(250,250,250)\",\"size\":10},\"showarrow\":false,\"text\":\"27\",\"x\":19.0,\"xref\":\"x\",\"y\":-6.0,\"yref\":\"y\"},{\"font\":{\"color\":\"rgb(250,250,250)\",\"size\":10},\"showarrow\":false,\"text\":\"28\",\"x\":18.0,\"xref\":\"x\",\"y\":-6.0,\"yref\":\"y\"},{\"font\":{\"color\":\"rgb(250,250,250)\",\"size\":10},\"showarrow\":false,\"text\":\"29\",\"x\":17.0,\"xref\":\"x\",\"y\":-6.0,\"yref\":\"y\"},{\"font\":{\"color\":\"rgb(250,250,250)\",\"size\":10},\"showarrow\":false,\"text\":\"30\",\"x\":1.75,\"xref\":\"x\",\"y\":-3.0,\"yref\":\"y\"},{\"font\":{\"color\":\"rgb(250,250,250)\",\"size\":10},\"showarrow\":false,\"text\":\"31\",\"x\":16.0,\"xref\":\"x\",\"y\":-3.0,\"yref\":\"y\"},{\"font\":{\"color\":\"rgb(250,250,250)\",\"size\":10},\"showarrow\":false,\"text\":\"32\",\"x\":13.5,\"xref\":\"x\",\"y\":-3.0,\"yref\":\"y\"},{\"font\":{\"color\":\"rgb(250,250,250)\",\"size\":10},\"showarrow\":false,\"text\":\"33\",\"x\":12.0,\"xref\":\"x\",\"y\":-4.0,\"yref\":\"y\"},{\"font\":{\"color\":\"rgb(250,250,250)\",\"size\":10},\"showarrow\":false,\"text\":\"34\",\"x\":15.0,\"xref\":\"x\",\"y\":-4.0,\"yref\":\"y\"},{\"font\":{\"color\":\"rgb(250,250,250)\",\"size\":10},\"showarrow\":false,\"text\":\"35\",\"x\":14.0,\"xref\":\"x\",\"y\":-4.0,\"yref\":\"y\"},{\"font\":{\"color\":\"rgb(250,250,250)\",\"size\":10},\"showarrow\":false,\"text\":\"36\",\"x\":13.0,\"xref\":\"x\",\"y\":-5.0,\"yref\":\"y\"},{\"font\":{\"color\":\"rgb(250,250,250)\",\"size\":10},\"showarrow\":false,\"text\":\"37\",\"x\":11.0,\"xref\":\"x\",\"y\":-5.0,\"yref\":\"y\"},{\"font\":{\"color\":\"rgb(250,250,250)\",\"size\":10},\"showarrow\":false,\"text\":\"38\",\"x\":12.0,\"xref\":\"x\",\"y\":-6.0,\"yref\":\"y\"},{\"font\":{\"color\":\"rgb(250,250,250)\",\"size\":10},\"showarrow\":false,\"text\":\"39\",\"x\":11.0,\"xref\":\"x\",\"y\":-6.0,\"yref\":\"y\"},{\"font\":{\"color\":\"rgb(250,250,250)\",\"size\":10},\"showarrow\":false,\"text\":\"40\",\"x\":10.0,\"xref\":\"x\",\"y\":-6.0,\"yref\":\"y\"},{\"font\":{\"color\":\"rgb(250,250,250)\",\"size\":10},\"showarrow\":false,\"text\":\"41\",\"x\":9.0,\"xref\":\"x\",\"y\":-3.0,\"yref\":\"y\"},{\"font\":{\"color\":\"rgb(250,250,250)\",\"size\":10},\"showarrow\":false,\"text\":\"42\",\"x\":6.625,\"xref\":\"x\",\"y\":-3.0,\"yref\":\"y\"},{\"font\":{\"color\":\"rgb(250,250,250)\",\"size\":10},\"showarrow\":false,\"text\":\"43\",\"x\":8.0,\"xref\":\"x\",\"y\":-4.0,\"yref\":\"y\"},{\"font\":{\"color\":\"rgb(250,250,250)\",\"size\":10},\"showarrow\":false,\"text\":\"44\",\"x\":5.25,\"xref\":\"x\",\"y\":-4.0,\"yref\":\"y\"},{\"font\":{\"color\":\"rgb(250,250,250)\",\"size\":10},\"showarrow\":false,\"text\":\"45\",\"x\":7.0,\"xref\":\"x\",\"y\":-4.0,\"yref\":\"y\"},{\"font\":{\"color\":\"rgb(250,250,250)\",\"size\":10},\"showarrow\":false,\"text\":\"46\",\"x\":4.5,\"xref\":\"x\",\"y\":-5.0,\"yref\":\"y\"},{\"font\":{\"color\":\"rgb(250,250,250)\",\"size\":10},\"showarrow\":false,\"text\":\"47\",\"x\":6.0,\"xref\":\"x\",\"y\":-5.0,\"yref\":\"y\"},{\"font\":{\"color\":\"rgb(250,250,250)\",\"size\":10},\"showarrow\":false,\"text\":\"48\",\"x\":5.0,\"xref\":\"x\",\"y\":-6.0,\"yref\":\"y\"},{\"font\":{\"color\":\"rgb(250,250,250)\",\"size\":10},\"showarrow\":false,\"text\":\"49\",\"x\":4.0,\"xref\":\"x\",\"y\":-6.0,\"yref\":\"y\"},{\"font\":{\"color\":\"rgb(250,250,250)\",\"size\":10},\"showarrow\":false,\"text\":\"50\",\"x\":0.5,\"xref\":\"x\",\"y\":-4.0,\"yref\":\"y\"},{\"font\":{\"color\":\"rgb(250,250,250)\",\"size\":10},\"showarrow\":false,\"text\":\"51\",\"x\":3.0,\"xref\":\"x\",\"y\":-4.0,\"yref\":\"y\"},{\"font\":{\"color\":\"rgb(250,250,250)\",\"size\":10},\"showarrow\":false,\"text\":\"52\",\"x\":2.0,\"xref\":\"x\",\"y\":-4.0,\"yref\":\"y\"},{\"font\":{\"color\":\"rgb(250,250,250)\",\"size\":10},\"showarrow\":false,\"text\":\"53\",\"x\":1.0,\"xref\":\"x\",\"y\":-5.0,\"yref\":\"y\"},{\"font\":{\"color\":\"rgb(250,250,250)\",\"size\":10},\"showarrow\":false,\"text\":\"54\",\"x\":0.0,\"xref\":\"x\",\"y\":-5.0,\"yref\":\"y\"}],\"showlegend\":false,\"hovermode\":\"closest\",\"plot_bgcolor\":\"rgb(248,248,248)\"},                        {\"responsive\": true}                    ).then(function(){\n",
       "                            \n",
       "var gd = document.getElementById('940477aa-34e2-4817-949e-2b0cee8ccf8d');\n",
       "var x = new MutationObserver(function (mutations, observer) {{\n",
       "        var display = window.getComputedStyle(gd).display;\n",
       "        if (!display || display === 'none') {{\n",
       "            console.log([gd, 'removed!']);\n",
       "            Plotly.purge(gd);\n",
       "            observer.disconnect();\n",
       "        }}\n",
       "}});\n",
       "\n",
       "// Listen for the removal of the full notebook cells\n",
       "var notebookContainer = gd.closest('#notebook-container');\n",
       "if (notebookContainer) {{\n",
       "    x.observe(notebookContainer, {childList: true});\n",
       "}}\n",
       "\n",
       "// Listen for the clearing of the current output cell\n",
       "var outputEl = gd.closest('.output');\n",
       "if (outputEl) {{\n",
       "    x.observe(outputEl, {childList: true});\n",
       "}}\n",
       "\n",
       "                        })                };                });            </script>        </div>"
      ]
     },
     "metadata": {},
     "output_type": "display_data"
    }
   ],
   "source": [
    "nodes, edges = log.get_tree(9).visualize()"
   ]
  },
  {
   "cell_type": "code",
   "execution_count": 48,
   "metadata": {},
   "outputs": [],
   "source": [
    "path = \"/home/shibo/LLM-search/logs/bw_MCTS/07062023-115734/algo_output/\""
   ]
  },
  {
   "cell_type": "code",
   "execution_count": 49,
   "metadata": {},
   "outputs": [],
   "source": [
    "import os\n",
    "success = 0\n",
    "for file in os.listdir(path):\n",
    "    # print(file)\n",
    "    log = TreeLog.from_MCTSResults(path + file, lambda node: {\"blocks_state\": node.state.blocks_state if node.state else None}, lambda node: {\"Q\": node.Q, **get_reward(node)})\n",
    "    tree = log.get_tree(-1)\n",
    "    for edge in tree.edges:\n",
    "        if \"Q\" in edge[-1] and float(edge[-1][\"Q\"]) > 40:\n",
    "            success += 1\n",
    "            break"
   ]
  },
  {
   "cell_type": "code",
   "execution_count": 50,
   "metadata": {},
   "outputs": [
    {
     "data": {
      "text/plain": [
       "0.9122807017543859"
      ]
     },
     "execution_count": 50,
     "metadata": {},
     "output_type": "execute_result"
    }
   ],
   "source": [
    "success / len(os.listdir(path))"
   ]
  },
  {
   "cell_type": "code",
   "execution_count": 51,
   "metadata": {},
   "outputs": [
    {
     "data": {
      "text/plain": [
       "57"
      ]
     },
     "execution_count": 51,
     "metadata": {},
     "output_type": "execute_result"
    }
   ],
   "source": [
    "len(os.listdir(path))"
   ]
  },
  {
   "cell_type": "code",
   "execution_count": 52,
   "metadata": {},
   "outputs": [
    {
     "data": {
      "text/plain": [
       "52"
      ]
     },
     "execution_count": 52,
     "metadata": {},
     "output_type": "execute_result"
    }
   ],
   "source": [
    "success"
   ]
  },
  {
   "cell_type": "code",
   "execution_count": 59,
   "metadata": {},
   "outputs": [],
   "source": [
    "path = \"/home/shibo/LLM-search/logs/bw_MCTS/07062023-162905/algo_output/\""
   ]
  },
  {
   "cell_type": "code",
   "execution_count": 60,
   "metadata": {},
   "outputs": [
    {
     "name": "stdout",
     "output_type": "stream",
     "text": [
      "0 0\n"
     ]
    }
   ],
   "source": [
    "import os\n",
    "success = 0\n",
    "for file in os.listdir(path):\n",
    "    # print(file)\n",
    "    log = TreeLog.from_MCTSResults(path + file, lambda node: {\"blocks_state\": node.state.blocks_state if node.state else None}, lambda node: {\"Q\": node.Q, **get_reward(node)})\n",
    "    tree = log.get_tree(-1)\n",
    "    for edge in tree.edges:\n",
    "        if \"Q\" in edge[-1] and float(edge[-1][\"Q\"]) > 40:\n",
    "            success += 1\n",
    "            break\n",
    "print(success, len(os.listdir(path)))"
   ]
  },
  {
   "cell_type": "code",
   "execution_count": 56,
   "metadata": {},
   "outputs": [
    {
     "data": {
      "application/vnd.plotly.v1+json": {
       "config": {
        "plotlyServerURL": "https://plot.ly"
       },
       "data": [
        {
         "hoverinfo": "none",
         "line": {
          "color": "rgb(210,210,210)",
          "width": 1
         },
         "mode": "lines",
         "type": "scatter",
         "x": [
          20.921875,
          23.375,
          null,
          23.375,
          12.125,
          null,
          12.125,
          13,
          null,
          12.125,
          11.25,
          null,
          11.25,
          10.5,
          null,
          10.5,
          10.5,
          null,
          10.5,
          11,
          null,
          10.5,
          10,
          null,
          11.25,
          12,
          null,
          23.375,
          34.625,
          null,
          34.625,
          36,
          null,
          34.625,
          33.25,
          null,
          33.25,
          35,
          null,
          33.25,
          34,
          null,
          33.25,
          31.5,
          null,
          31.5,
          33,
          null,
          31.5,
          32,
          null,
          31.5,
          30,
          null,
          30,
          31,
          null,
          30,
          30,
          null,
          30,
          29,
          null,
          23.375,
          24.25,
          null,
          24.25,
          26,
          null,
          24.25,
          25,
          null,
          24.25,
          22.5,
          null,
          22.5,
          24,
          null,
          22.5,
          21,
          null,
          21,
          20,
          null,
          20,
          21,
          null,
          20,
          20,
          null,
          20,
          19,
          null,
          21,
          22,
          null,
          22.5,
          23,
          null,
          20.921875,
          18.46875,
          null,
          18.46875,
          23.375,
          null,
          23.375,
          23.375,
          null,
          23.375,
          8.5,
          null,
          8.5,
          8.5,
          null,
          8.5,
          9,
          null,
          8.5,
          8,
          null,
          23.375,
          38.25,
          null,
          38.25,
          39,
          null,
          38.25,
          37.5,
          null,
          37.5,
          38,
          null,
          37.5,
          37,
          null,
          18.46875,
          13.5625,
          null,
          13.5625,
          10.25,
          null,
          10.25,
          18,
          null,
          10.25,
          16,
          null,
          16,
          17,
          null,
          16,
          15,
          null,
          15,
          16,
          null,
          15,
          15,
          null,
          15,
          14,
          null,
          10.25,
          2.5,
          null,
          2.5,
          4,
          null,
          2.5,
          3,
          null,
          2.5,
          1,
          null,
          1,
          2,
          null,
          1,
          1,
          null,
          1,
          0,
          null,
          13.5625,
          16.875,
          null,
          16.875,
          27.5,
          null,
          27.5,
          27.5,
          null,
          27.5,
          28,
          null,
          27.5,
          27,
          null,
          16.875,
          6.25,
          null,
          6.25,
          7,
          null,
          6.25,
          5.5,
          null,
          5.5,
          6,
          null,
          5.5,
          5,
          null
         ],
         "y": [
          0,
          -1,
          null,
          -1,
          -2,
          null,
          -2,
          -3,
          null,
          -2,
          -3,
          null,
          -3,
          -4,
          null,
          -4,
          -5,
          null,
          -5,
          -6,
          null,
          -5,
          -6,
          null,
          -3,
          -4,
          null,
          -1,
          -2,
          null,
          -2,
          -3,
          null,
          -2,
          -3,
          null,
          -3,
          -4,
          null,
          -3,
          -4,
          null,
          -3,
          -4,
          null,
          -4,
          -5,
          null,
          -4,
          -5,
          null,
          -4,
          -5,
          null,
          -5,
          -6,
          null,
          -5,
          -6,
          null,
          -5,
          -6,
          null,
          -1,
          -2,
          null,
          -2,
          -3,
          null,
          -2,
          -3,
          null,
          -2,
          -3,
          null,
          -3,
          -4,
          null,
          -3,
          -4,
          null,
          -4,
          -5,
          null,
          -5,
          -6,
          null,
          -5,
          -6,
          null,
          -5,
          -6,
          null,
          -4,
          -5,
          null,
          -3,
          -4,
          null,
          0,
          -1,
          null,
          -1,
          -2,
          null,
          -2,
          -3,
          null,
          -3,
          -4,
          null,
          -4,
          -5,
          null,
          -5,
          -6,
          null,
          -5,
          -6,
          null,
          -3,
          -4,
          null,
          -4,
          -5,
          null,
          -4,
          -5,
          null,
          -5,
          -6,
          null,
          -5,
          -6,
          null,
          -1,
          -2,
          null,
          -2,
          -3,
          null,
          -3,
          -4,
          null,
          -3,
          -4,
          null,
          -4,
          -5,
          null,
          -4,
          -5,
          null,
          -5,
          -6,
          null,
          -5,
          -6,
          null,
          -5,
          -6,
          null,
          -3,
          -4,
          null,
          -4,
          -5,
          null,
          -4,
          -5,
          null,
          -4,
          -5,
          null,
          -5,
          -6,
          null,
          -5,
          -6,
          null,
          -5,
          -6,
          null,
          -2,
          -3,
          null,
          -3,
          -4,
          null,
          -4,
          -5,
          null,
          -5,
          -6,
          null,
          -5,
          -6,
          null,
          -3,
          -4,
          null,
          -4,
          -5,
          null,
          -4,
          -5,
          null,
          -5,
          -6,
          null,
          -5,
          -6,
          null
         ]
        },
        {
         "hoverinfo": "text",
         "marker": {
          "color": "#6175c1",
          "line": {
           "color": "rgb(50,50,50)",
           "width": 1
          },
          "size": 18,
          "symbol": "circle-dot"
         },
         "mode": "markers",
         "name": "bla",
         "opacity": 0.8,
         "text": [
          "{<br>    \"blocks_state\": \"the red block is clear, the yellow block is<br>clear, the hand is empty, the red block is on top of the blue block,<br>the blue block is on top of the orange block, the orange block is on<br>the table and the yellow block is on the table.\"<br>}",
          "{<br>    \"blocks_state\": \"the blue block is clear, the red block is in the<br>hand, the yellow block is clear, the hand is holding the red block,<br>the blue block is on top of the orange block, the orange block is on<br>the table, and the yellow block is on the table.\",<br>    \"Q\": \"-5.401427427927653\",<br>    \"intuition\": \"-2.7529306\",<br>    \"goal_reached\": \"(False, 0.0)\"<br>}",
          "{<br>    \"blocks_state\": \"the red block is clear, the yellow block is in<br>the hand, the hand is holding the yellow block, the blue block is on<br>top of the orange block, the red block is on top of the blue block,<br>and the orange block is on the table.\",<br>    \"Q\": \"-4.737861905779157\",<br>    \"intuition\": \"-1.9433594\",<br>    \"goal_reached\": \"(False, 0.0)\"<br>}",
          "{<br>    \"blocks_state\": \"the yellow block is clear, the hand is empty, the<br>blue block is on top of the orange block, the red block is on top of<br>the blue block, the yellow block is on top of the red block, and the<br>orange block is on the table.\",<br>    \"Q\": \"-3.7312068939208984\",<br>    \"intuition\": \"-0.77282715\",<br>    \"goal_reached\": \"(False, 0.0)\"<br>}",
          "{<br>    \"blocks_state\": \"the red block is clear, the yellow block is<br>clear, the hand is empty, the blue block is on top of the orange<br>block, the red block is on top of the blue block, the orange block is<br>on the table, and the yellow block is on the table.\",<br>    \"Q\": \"-3.7924137115478516\",<br>    \"intuition\": \"-1.8987131\",<br>    \"goal_reached\": \"(False, 0.0)\"<br>}",
          "{<br>    \"blocks_state\": \"the red block is clear, the yellow block is in<br>the hand, the hand is holding the yellow block, the blue block is on<br>top of the orange block, the red block is on top of the blue block,<br>and the orange block is on the table.\",<br>    \"Q\": \"-3.3447933197021484\",<br>    \"intuition\": \"-2.3627996\",<br>    \"goal_reached\": \"(False, 0.0)\"<br>}",
          "{<br>    \"blocks_state\": \"the yellow block is clear, the hand is empty, the<br>blue block is on top of the orange block, the red block is on top of<br>the blue block, the yellow block is on top of the red block, and the<br>orange block is on the table.\",<br>    \"Q\": \"-3.0872855186462402\",<br>    \"intuition\": \"-3.8117714\",<br>    \"goal_reached\": \"(False, 0.0)\"<br>}",
          "{<br>    \"blocks_state\": \"the red block is clear, the yellow block is<br>clear, the hand is empty, the blue block is on top of the orange<br>block, the red block is on top of the blue block, the orange block is<br>on the table, and the yellow block is on the table.\",<br>    \"Q\": \"-1.7014474868774414\",<br>    \"intuition\": \"-1.4468393\",<br>    \"goal_reached\": \"(False, 0.0)\"<br>}",
          "{<br>    \"blocks_state\": \"None\",<br>    \"Q\": \"-1.4843764305114746\",<br>    \"intuition\": \"-2.9687529\"<br>}",
          "{<br>    \"blocks_state\": \"the red block is clear, the yellow block is in<br>the hand, the hand is holding the yellow block, the blue block is on<br>top of the orange block, the red block is on top of the blue block,<br>and the orange block is on the table.\",<br>    \"Q\": \"-0.9780278205871582\",<br>    \"intuition\": \"-1.9560556\",<br>    \"goal_reached\": \"(False, 0.0)\"<br>}",
          "{<br>    \"blocks_state\": \"None\",<br>    \"Q\": \"-0.3597879409790039\",<br>    \"intuition\": \"-0.7195759\"<br>}",
          "{<br>    \"blocks_state\": \"None\",<br>    \"Q\": \"-0.9721155166625977\",<br>    \"intuition\": \"-1.944231\"<br>}",
          "{<br>    \"blocks_state\": \"the red block is clear, the yellow block is<br>clear, the hand is empty, the blue block is on top of the orange<br>block, the red block is on top of the blue block, the orange block is<br>on the table, and the yellow block is on the table.\",<br>    \"Q\": \"-5.50244665145874\",<br>    \"intuition\": \"-5.966462\",<br>    \"goal_reached\": \"(False, 0.0)\"<br>}",
          "{<br>    \"blocks_state\": \"the blue block is clear, the red block is clear,<br>the hand is empty, the blue block is on top of the orange block, the<br>red block is on top of the yellow block, the orange block is on the<br>table, and the yellow block is on the table.\",<br>    \"Q\": \"-3.02009916305542\",<br>    \"intuition\": \"-0.808259\",<br>    \"goal_reached\": \"(False, 0.5)\"<br>}",
          "{<br>    \"blocks_state\": \"the blue block is clear, the red block is clear,<br>the yellow block is clear, the hand is empty, the blue block is on top<br>of the orange block, the orange block is on the table, the red block<br>is on the table, and the yellow block is on the table.\",<br>    \"Q\": \"-3.552340507507324\",<br>    \"intuition\": \"-1.3947763\",<br>    \"goal_reached\": \"(False, 0.0)\"<br>}",
          "{<br>    \"blocks_state\": \"None\",<br>    \"Q\": \"-1.3301706314086914\",<br>    \"intuition\": \"-2.6603413\"<br>}",
          "{<br>    \"blocks_state\": \"the blue block is clear, the red block is in the<br>hand, the yellow block is clear, the hand is holding the red block,<br>the blue block is on top of the orange block, the orange block is on<br>the table, and the yellow block is on the table.\",<br>    \"Q\": \"-2.865969657897949\",<br>    \"intuition\": \"-2.2874784\",<br>    \"goal_reached\": \"(False, 0.0)\"<br>}",
          "{<br>    \"blocks_state\": \"None\",<br>    \"Q\": \"-0.9808130264282227\",<br>    \"intuition\": \"-1.961626\"<br>}",
          "{<br>    \"blocks_state\": \"None\",<br>    \"Q\": \"-2.6453638076782227\",<br>    \"intuition\": \"-5.2907276\"<br>}",
          "{<br>    \"blocks_state\": \"the blue block is clear, the red block is clear,<br>the yellow block is clear, the hand is empty, the blue block is on top<br>of the orange block, the orange block is on the table, the red block<br>is on the table, and the yellow block is on the table.\",<br>    \"Q\": \"-1.7222304344177246\",<br>    \"intuition\": \"-1.6856699\",<br>    \"goal_reached\": \"(False, 0.0)\"<br>}",
          "{<br>    \"blocks_state\": \"None\",<br>    \"Q\": \"-1.3153080940246582\",<br>    \"intuition\": \"-2.6306162\"<br>}",
          "{<br>    \"blocks_state\": \"None\",<br>    \"Q\": \"-1.4418954849243164\",<br>    \"intuition\": \"-2.883791\"<br>}",
          "{<br>    \"blocks_state\": \"the blue block is clear, the red block is clear,<br>the yellow block is in the hand, the hand is holding the yellow block,<br>the blue block is on top of the orange block, the orange block is on<br>the table, and the red block is on the table.\",<br>    \"Q\": \"-0.8793954849243164\",<br>    \"intuition\": \"-1.758791\",<br>    \"goal_reached\": \"(False, 0.0)\"<br>}",
          "{<br>    \"blocks_state\": \"None\",<br>    \"Q\": \"-1.7976388931274414\",<br>    \"intuition\": \"-3.5952778\"<br>}",
          "{<br>    \"blocks_state\": \"None\",<br>    \"Q\": \"-0.3911447525024414\",<br>    \"intuition\": \"-0.7822895\"<br>}",
          "{<br>    \"blocks_state\": \"None\",<br>    \"Q\": \"-1.0779657363891602\",<br>    \"intuition\": \"-2.1559315\"<br>}",
          "{<br>    \"blocks_state\": \"the blue block is clear, the red block is in the<br>hand, the yellow block is clear, the hand is holding the red block,<br>the blue block is on top of the orange block, the orange block is on<br>the table, and the yellow block is on the table.\",<br>    \"Q\": \"-2.96242094039917\",<br>    \"intuition\": \"-2.9687529\",<br>    \"goal_reached\": \"(False, 0.0)\"<br>}",
          "{<br>    \"blocks_state\": \"the red block is clear, the yellow block is in<br>the hand, the hand is holding the yellow block, the blue block is on<br>top of the orange block, the red block is on top of the blue block,<br>and the orange block is on the table.\",<br>    \"Q\": \"-2.723693370819092\",<br>    \"intuition\": \"-1.9560556\",<br>    \"goal_reached\": \"(False, 0.0)\"<br>}",
          "{<br>    \"blocks_state\": \"the yellow block is clear, the hand is empty, the<br>blue block is on top of the orange block, the red block is on top of<br>the blue block, the yellow block is on top of the red block, and the<br>orange block is on the table.\",<br>    \"Q\": \"-1.5411877632141113\",<br>    \"intuition\": \"-0.7195759\",<br>    \"goal_reached\": \"(False, 0.0)\"<br>}",
          "{<br>    \"blocks_state\": \"the red block is clear, the yellow block is<br>clear, the hand is empty, the blue block is on top of the orange<br>block, the red block is on top of the blue block, the orange block is<br>on the table, and the yellow block is on the table.\",<br>    \"Q\": \"-1.9501433372497559\",<br>    \"intuition\": \"-1.944231\",<br>    \"goal_reached\": \"(False, 0.0)\"<br>}",
          "{<br>    \"blocks_state\": \"the red block is clear, the yellow block is in<br>the hand, the hand is holding the yellow block, the blue block is on<br>top of the orange block, the red block is on top of the blue block,<br>and the orange block is on the table.\",<br>    \"Q\": \"-1.1813998222351074\",<br>    \"intuition\": \"-2.3627996\",<br>    \"goal_reached\": \"(False, 0.0)\"<br>}",
          "{<br>    \"blocks_state\": \"None\",<br>    \"Q\": \"-1.9058856964111328\",<br>    \"intuition\": \"-3.8117714\"<br>}",
          "{<br>    \"blocks_state\": \"None\",<br>    \"Q\": \"-0.7234196662902832\",<br>    \"intuition\": \"-1.4468393\"<br>}",
          "{<br>    \"blocks_state\": \"None\",<br>    \"Q\": \"-1.3153080940246582\",<br>    \"intuition\": \"-2.6306162\"<br>}",
          "{<br>    \"blocks_state\": \"None\",<br>    \"Q\": \"-1.4418954849243164\",<br>    \"intuition\": \"-2.883791\"<br>}",
          "{<br>    \"blocks_state\": \"the blue block is clear, the red block is clear,<br>the yellow block is in the hand, the hand is holding the yellow block,<br>the blue block is on top of the orange block, the orange block is on<br>the table, and the red block is on the table.\",<br>    \"Q\": \"-2.854952335357666\",<br>    \"intuition\": \"-1.758791\",<br>    \"goal_reached\": \"(False, 0.0)\"<br>}",
          "{<br>    \"blocks_state\": \"None\",<br>    \"Q\": \"-1.7976388931274414\",<br>    \"intuition\": \"-3.5952778\"<br>}",
          "{<br>    \"blocks_state\": \"the blue block is clear, the yellow block is<br>clear, the hand is empty, the blue block is on top of the orange<br>block, the yellow block is on top of the red block, the orange block<br>is on the table, and the red block is on the table.\",<br>    \"Q\": \"-1.9755568504333496\",<br>    \"intuition\": \"-0.7822895\",<br>    \"goal_reached\": \"(False, 0.0)\"<br>}",
          "{<br>    \"blocks_state\": \"None\",<br>    \"Q\": \"-1.0779657363891602\",<br>    \"intuition\": \"-2.1559315\"<br>}",
          "{<br>    \"blocks_state\": \"the blue block is in the hand, the orange block<br>is clear, the yellow block is clear, the hand is holding the blue<br>block, the yellow block is on top of the red block, the orange block<br>is on the table, and the red block is on the table.\",<br>    \"Q\": \"-1.5844120979309082\",<br>    \"intuition\": \"-3.1688242\",<br>    \"goal_reached\": \"(False, 0.0)\"<br>}",
          "{<br>    \"blocks_state\": \"None\",<br>    \"Q\": \"-1.6418466567993164\",<br>    \"intuition\": \"-3.2836933\"<br>}",
          "{<br>    \"blocks_state\": \"None\",<br>    \"Q\": \"-1.7889108657836914\",<br>    \"intuition\": \"-3.5778217\"<br>}",
          "{<br>    \"blocks_state\": \"None\",<br>    \"Q\": \"-0.5857858657836914\",<br>    \"intuition\": \"-1.1715717\"<br>}",
          "{<br>    \"blocks_state\": \"None\",<br>    \"Q\": \"-0.9370584487915039\",<br>    \"intuition\": \"-1.8741169\"<br>}",
          "{<br>    \"blocks_state\": \"None\",<br>    \"Q\": \"-2.851334571838379\",<br>    \"intuition\": \"-5.702669\"<br>}",
          "{<br>    \"blocks_state\": \"the blue block is clear, the red block is clear,<br>the hand is empty, the blue block is on top of the orange block, the<br>red block is on top of the yellow block, the orange block is on the<br>table, and the yellow block is on the table.\",<br>    \"Q\": \"-1.3042168617248535\",<br>    \"intuition\": \"-0.8209553\",<br>    \"goal_reached\": \"(False, 0.5)\"<br>}",
          "{<br>    \"blocks_state\": \"the blue block is clear, the red block is clear,<br>the yellow block is clear, the hand is empty, the blue block is on top<br>of the orange block, the orange block is on the table, the red block<br>is on the table, and the yellow block is on the table.\",<br>    \"Q\": \"-1.651872158050537\",<br>    \"intuition\": \"-1.5449533\",<br>    \"goal_reached\": \"(False, 0.0)\"<br>}",
          "{<br>    \"blocks_state\": \"None\",<br>    \"Q\": \"-1.3301706314086914\",<br>    \"intuition\": \"-2.6603413\"<br>}",
          "{<br>    \"blocks_state\": \"the blue block is clear, the red block is in the<br>hand, the yellow block is clear, the hand is holding the red block,<br>the blue block is on top of the orange block, the orange block is on<br>the table, and the yellow block is on the table.\",<br>    \"Q\": \"-1.1437392234802246\",<br>    \"intuition\": \"-2.2874784\",<br>    \"goal_reached\": \"(False, 0.0)\"<br>}",
          "{<br>    \"blocks_state\": \"None\",<br>    \"Q\": \"-0.9808130264282227\",<br>    \"intuition\": \"-1.961626\"<br>}",
          "{<br>    \"blocks_state\": \"None\",<br>    \"Q\": \"-2.6453638076782227\",<br>    \"intuition\": \"-5.2907276\"<br>}",
          "{<br>    \"blocks_state\": \"None\",<br>    \"Q\": \"-0.8428349494934082\",<br>    \"intuition\": \"-1.6856699\"<br>}",
          "{<br>    \"blocks_state\": \"None\",<br>    \"Q\": \"-1.4843764305114746\",<br>    \"intuition\": \"-2.9687529\"<br>}",
          "{<br>    \"blocks_state\": \"the red block is clear, the yellow block is in<br>the hand, the hand is holding the yellow block, the blue block is on<br>top of the orange block, the red block is on top of the blue block,<br>and the orange block is on the table.\",<br>    \"Q\": \"-2.5192155838012695\",<br>    \"intuition\": \"-1.9560556\",<br>    \"goal_reached\": \"(False, 0.0)\"<br>}",
          "{<br>    \"blocks_state\": \"the yellow block is clear, the hand is empty, the<br>blue block is on top of the orange block, the red block is on top of<br>the blue block, the yellow block is on top of the red block, and the<br>orange block is on the table.\",<br>    \"Q\": \"-1.5411877632141113\",<br>    \"intuition\": \"-0.7195759\",<br>    \"goal_reached\": \"(False, 0.0)\"<br>}",
          "{<br>    \"blocks_state\": \"None\",<br>    \"Q\": \"-0.9721155166625977\",<br>    \"intuition\": \"-1.944231\"<br>}",
          "{<br>    \"blocks_state\": \"the red block is clear, the yellow block is in<br>the hand, the hand is holding the yellow block, the blue block is on<br>top of the orange block, the red block is on top of the blue block,<br>and the orange block is on the table.\",<br>    \"Q\": \"-1.1813998222351074\",<br>    \"intuition\": \"-2.3627996\",<br>    \"goal_reached\": \"(False, 0.0)\"<br>}",
          "{<br>    \"blocks_state\": \"None\",<br>    \"Q\": \"-1.9058856964111328\",<br>    \"intuition\": \"-3.8117714\"<br>}",
          "{<br>    \"blocks_state\": \"None\",<br>    \"Q\": \"-0.7234196662902832\",<br>    \"intuition\": \"-1.4468393\"<br>}",
          "{<br>    \"blocks_state\": \"the red block is clear, the yellow block is in<br>the hand, the hand is holding the yellow block, the blue block is on<br>top of the orange block, the red block is on top of the blue block,<br>and the orange block is on the table.\",<br>    \"Q\": \"-1.1813998222351074\",<br>    \"intuition\": \"-2.3627996\",<br>    \"goal_reached\": \"(False, 0.0)\"<br>}",
          "{<br>    \"blocks_state\": \"None\",<br>    \"Q\": \"-1.9058856964111328\",<br>    \"intuition\": \"-3.8117714\"<br>}",
          "{<br>    \"blocks_state\": \"None\",<br>    \"Q\": \"-0.7234196662902832\",<br>    \"intuition\": \"-1.4468393\"<br>}",
          "{<br>    \"blocks_state\": \"None\",<br>    \"Q\": \"-1.4843764305114746\",<br>    \"intuition\": \"-2.9687529\"<br>}",
          "{<br>    \"blocks_state\": \"the red block is clear, the yellow block is in<br>the hand, the hand is holding the yellow block, the blue block is on<br>top of the orange block, the red block is on top of the blue block,<br>and the orange block is on the table.\",<br>    \"Q\": \"-0.9780278205871582\",<br>    \"intuition\": \"-1.9560556\",<br>    \"goal_reached\": \"(False, 0.0)\"<br>}",
          "{<br>    \"blocks_state\": \"None\",<br>    \"Q\": \"-0.3597879409790039\",<br>    \"intuition\": \"-0.7195759\"<br>}",
          "{<br>    \"blocks_state\": \"None\",<br>    \"Q\": \"-0.9721155166625977\",<br>    \"intuition\": \"-1.944231\"<br>}",
          "{<br>    \"blocks_state\": \"None\",<br>    \"Q\": \"-1.3153080940246582\",<br>    \"intuition\": \"-2.6306162\"<br>}",
          "{<br>    \"blocks_state\": \"None\",<br>    \"Q\": \"-1.4418954849243164\",<br>    \"intuition\": \"-2.883791\"<br>}",
          "{<br>    \"blocks_state\": \"the blue block is clear, the red block is clear,<br>the yellow block is in the hand, the hand is holding the yellow block,<br>the blue block is on top of the orange block, the orange block is on<br>the table, and the red block is on the table.\",<br>    \"Q\": \"-0.8793954849243164\",<br>    \"intuition\": \"-1.758791\",<br>    \"goal_reached\": \"(False, 0.0)\"<br>}",
          "{<br>    \"blocks_state\": \"None\",<br>    \"Q\": \"-1.7976388931274414\",<br>    \"intuition\": \"-3.5952778\"<br>}",
          "{<br>    \"blocks_state\": \"None\",<br>    \"Q\": \"-0.3911447525024414\",<br>    \"intuition\": \"-0.7822895\"<br>}",
          "{<br>    \"blocks_state\": \"None\",<br>    \"Q\": \"-1.0779657363891602\",<br>    \"intuition\": \"-2.1559315\"<br>}"
         ],
         "type": "scatter",
         "x": [
          20.921875,
          23.375,
          18.46875,
          23.375,
          13.5625,
          23.375,
          8.5,
          38.25,
          39,
          37.5,
          38,
          37,
          12.125,
          34.625,
          24.25,
          36,
          33.25,
          35,
          34,
          31.5,
          33,
          32,
          30,
          31,
          30,
          29,
          10.25,
          16.875,
          27.5,
          6.25,
          27.5,
          28,
          27,
          26,
          25,
          22.5,
          24,
          21,
          23,
          20,
          22,
          21,
          20,
          19,
          18,
          16,
          2.5,
          17,
          15,
          16,
          15,
          14,
          13,
          11.25,
          10.5,
          12,
          10.5,
          11,
          10,
          8.5,
          9,
          8,
          7,
          5.5,
          6,
          5,
          4,
          3,
          1,
          2,
          1,
          0
         ],
         "y": [
          0,
          -1,
          -1,
          -2,
          -2,
          -3,
          -4,
          -4,
          -5,
          -5,
          -6,
          -6,
          -2,
          -2,
          -2,
          -3,
          -3,
          -4,
          -4,
          -4,
          -5,
          -5,
          -5,
          -6,
          -6,
          -6,
          -3,
          -3,
          -4,
          -4,
          -5,
          -6,
          -6,
          -3,
          -3,
          -3,
          -4,
          -4,
          -4,
          -5,
          -5,
          -6,
          -6,
          -6,
          -4,
          -4,
          -4,
          -5,
          -5,
          -6,
          -6,
          -6,
          -3,
          -3,
          -4,
          -4,
          -5,
          -6,
          -6,
          -5,
          -6,
          -6,
          -5,
          -5,
          -6,
          -6,
          -5,
          -5,
          -5,
          -6,
          -6,
          -6
         ]
        }
       ],
       "layout": {
        "annotations": [
         {
          "font": {
           "color": "rgb(250,250,250)",
           "size": 10
          },
          "showarrow": false,
          "text": "0",
          "x": 20.921875,
          "xref": "x",
          "y": 0,
          "yref": "y"
         },
         {
          "font": {
           "color": "rgb(250,250,250)",
           "size": 10
          },
          "showarrow": false,
          "text": "1",
          "x": 23.375,
          "xref": "x",
          "y": -1,
          "yref": "y"
         },
         {
          "font": {
           "color": "rgb(250,250,250)",
           "size": 10
          },
          "showarrow": false,
          "text": "2",
          "x": 18.46875,
          "xref": "x",
          "y": -1,
          "yref": "y"
         },
         {
          "font": {
           "color": "rgb(250,250,250)",
           "size": 10
          },
          "showarrow": false,
          "text": "3",
          "x": 23.375,
          "xref": "x",
          "y": -2,
          "yref": "y"
         },
         {
          "font": {
           "color": "rgb(250,250,250)",
           "size": 10
          },
          "showarrow": false,
          "text": "4",
          "x": 13.5625,
          "xref": "x",
          "y": -2,
          "yref": "y"
         },
         {
          "font": {
           "color": "rgb(250,250,250)",
           "size": 10
          },
          "showarrow": false,
          "text": "5",
          "x": 23.375,
          "xref": "x",
          "y": -3,
          "yref": "y"
         },
         {
          "font": {
           "color": "rgb(250,250,250)",
           "size": 10
          },
          "showarrow": false,
          "text": "6",
          "x": 8.5,
          "xref": "x",
          "y": -4,
          "yref": "y"
         },
         {
          "font": {
           "color": "rgb(250,250,250)",
           "size": 10
          },
          "showarrow": false,
          "text": "7",
          "x": 38.25,
          "xref": "x",
          "y": -4,
          "yref": "y"
         },
         {
          "font": {
           "color": "rgb(250,250,250)",
           "size": 10
          },
          "showarrow": false,
          "text": "8",
          "x": 39,
          "xref": "x",
          "y": -5,
          "yref": "y"
         },
         {
          "font": {
           "color": "rgb(250,250,250)",
           "size": 10
          },
          "showarrow": false,
          "text": "9",
          "x": 37.5,
          "xref": "x",
          "y": -5,
          "yref": "y"
         },
         {
          "font": {
           "color": "rgb(250,250,250)",
           "size": 10
          },
          "showarrow": false,
          "text": "10",
          "x": 38,
          "xref": "x",
          "y": -6,
          "yref": "y"
         },
         {
          "font": {
           "color": "rgb(250,250,250)",
           "size": 10
          },
          "showarrow": false,
          "text": "11",
          "x": 37,
          "xref": "x",
          "y": -6,
          "yref": "y"
         },
         {
          "font": {
           "color": "rgb(250,250,250)",
           "size": 10
          },
          "showarrow": false,
          "text": "12",
          "x": 12.125,
          "xref": "x",
          "y": -2,
          "yref": "y"
         },
         {
          "font": {
           "color": "rgb(250,250,250)",
           "size": 10
          },
          "showarrow": false,
          "text": "13",
          "x": 34.625,
          "xref": "x",
          "y": -2,
          "yref": "y"
         },
         {
          "font": {
           "color": "rgb(250,250,250)",
           "size": 10
          },
          "showarrow": false,
          "text": "14",
          "x": 24.25,
          "xref": "x",
          "y": -2,
          "yref": "y"
         },
         {
          "font": {
           "color": "rgb(250,250,250)",
           "size": 10
          },
          "showarrow": false,
          "text": "15",
          "x": 36,
          "xref": "x",
          "y": -3,
          "yref": "y"
         },
         {
          "font": {
           "color": "rgb(250,250,250)",
           "size": 10
          },
          "showarrow": false,
          "text": "16",
          "x": 33.25,
          "xref": "x",
          "y": -3,
          "yref": "y"
         },
         {
          "font": {
           "color": "rgb(250,250,250)",
           "size": 10
          },
          "showarrow": false,
          "text": "17",
          "x": 35,
          "xref": "x",
          "y": -4,
          "yref": "y"
         },
         {
          "font": {
           "color": "rgb(250,250,250)",
           "size": 10
          },
          "showarrow": false,
          "text": "18",
          "x": 34,
          "xref": "x",
          "y": -4,
          "yref": "y"
         },
         {
          "font": {
           "color": "rgb(250,250,250)",
           "size": 10
          },
          "showarrow": false,
          "text": "19",
          "x": 31.5,
          "xref": "x",
          "y": -4,
          "yref": "y"
         },
         {
          "font": {
           "color": "rgb(250,250,250)",
           "size": 10
          },
          "showarrow": false,
          "text": "20",
          "x": 33,
          "xref": "x",
          "y": -5,
          "yref": "y"
         },
         {
          "font": {
           "color": "rgb(250,250,250)",
           "size": 10
          },
          "showarrow": false,
          "text": "21",
          "x": 32,
          "xref": "x",
          "y": -5,
          "yref": "y"
         },
         {
          "font": {
           "color": "rgb(250,250,250)",
           "size": 10
          },
          "showarrow": false,
          "text": "22",
          "x": 30,
          "xref": "x",
          "y": -5,
          "yref": "y"
         },
         {
          "font": {
           "color": "rgb(250,250,250)",
           "size": 10
          },
          "showarrow": false,
          "text": "23",
          "x": 31,
          "xref": "x",
          "y": -6,
          "yref": "y"
         },
         {
          "font": {
           "color": "rgb(250,250,250)",
           "size": 10
          },
          "showarrow": false,
          "text": "24",
          "x": 30,
          "xref": "x",
          "y": -6,
          "yref": "y"
         },
         {
          "font": {
           "color": "rgb(250,250,250)",
           "size": 10
          },
          "showarrow": false,
          "text": "25",
          "x": 29,
          "xref": "x",
          "y": -6,
          "yref": "y"
         },
         {
          "font": {
           "color": "rgb(250,250,250)",
           "size": 10
          },
          "showarrow": false,
          "text": "26",
          "x": 10.25,
          "xref": "x",
          "y": -3,
          "yref": "y"
         },
         {
          "font": {
           "color": "rgb(250,250,250)",
           "size": 10
          },
          "showarrow": false,
          "text": "27",
          "x": 16.875,
          "xref": "x",
          "y": -3,
          "yref": "y"
         },
         {
          "font": {
           "color": "rgb(250,250,250)",
           "size": 10
          },
          "showarrow": false,
          "text": "28",
          "x": 27.5,
          "xref": "x",
          "y": -4,
          "yref": "y"
         },
         {
          "font": {
           "color": "rgb(250,250,250)",
           "size": 10
          },
          "showarrow": false,
          "text": "29",
          "x": 6.25,
          "xref": "x",
          "y": -4,
          "yref": "y"
         },
         {
          "font": {
           "color": "rgb(250,250,250)",
           "size": 10
          },
          "showarrow": false,
          "text": "30",
          "x": 27.5,
          "xref": "x",
          "y": -5,
          "yref": "y"
         },
         {
          "font": {
           "color": "rgb(250,250,250)",
           "size": 10
          },
          "showarrow": false,
          "text": "31",
          "x": 28,
          "xref": "x",
          "y": -6,
          "yref": "y"
         },
         {
          "font": {
           "color": "rgb(250,250,250)",
           "size": 10
          },
          "showarrow": false,
          "text": "32",
          "x": 27,
          "xref": "x",
          "y": -6,
          "yref": "y"
         },
         {
          "font": {
           "color": "rgb(250,250,250)",
           "size": 10
          },
          "showarrow": false,
          "text": "33",
          "x": 26,
          "xref": "x",
          "y": -3,
          "yref": "y"
         },
         {
          "font": {
           "color": "rgb(250,250,250)",
           "size": 10
          },
          "showarrow": false,
          "text": "34",
          "x": 25,
          "xref": "x",
          "y": -3,
          "yref": "y"
         },
         {
          "font": {
           "color": "rgb(250,250,250)",
           "size": 10
          },
          "showarrow": false,
          "text": "35",
          "x": 22.5,
          "xref": "x",
          "y": -3,
          "yref": "y"
         },
         {
          "font": {
           "color": "rgb(250,250,250)",
           "size": 10
          },
          "showarrow": false,
          "text": "36",
          "x": 24,
          "xref": "x",
          "y": -4,
          "yref": "y"
         },
         {
          "font": {
           "color": "rgb(250,250,250)",
           "size": 10
          },
          "showarrow": false,
          "text": "37",
          "x": 21,
          "xref": "x",
          "y": -4,
          "yref": "y"
         },
         {
          "font": {
           "color": "rgb(250,250,250)",
           "size": 10
          },
          "showarrow": false,
          "text": "38",
          "x": 23,
          "xref": "x",
          "y": -4,
          "yref": "y"
         },
         {
          "font": {
           "color": "rgb(250,250,250)",
           "size": 10
          },
          "showarrow": false,
          "text": "39",
          "x": 20,
          "xref": "x",
          "y": -5,
          "yref": "y"
         },
         {
          "font": {
           "color": "rgb(250,250,250)",
           "size": 10
          },
          "showarrow": false,
          "text": "40",
          "x": 22,
          "xref": "x",
          "y": -5,
          "yref": "y"
         },
         {
          "font": {
           "color": "rgb(250,250,250)",
           "size": 10
          },
          "showarrow": false,
          "text": "41",
          "x": 21,
          "xref": "x",
          "y": -6,
          "yref": "y"
         },
         {
          "font": {
           "color": "rgb(250,250,250)",
           "size": 10
          },
          "showarrow": false,
          "text": "42",
          "x": 20,
          "xref": "x",
          "y": -6,
          "yref": "y"
         },
         {
          "font": {
           "color": "rgb(250,250,250)",
           "size": 10
          },
          "showarrow": false,
          "text": "43",
          "x": 19,
          "xref": "x",
          "y": -6,
          "yref": "y"
         },
         {
          "font": {
           "color": "rgb(250,250,250)",
           "size": 10
          },
          "showarrow": false,
          "text": "44",
          "x": 18,
          "xref": "x",
          "y": -4,
          "yref": "y"
         },
         {
          "font": {
           "color": "rgb(250,250,250)",
           "size": 10
          },
          "showarrow": false,
          "text": "45",
          "x": 16,
          "xref": "x",
          "y": -4,
          "yref": "y"
         },
         {
          "font": {
           "color": "rgb(250,250,250)",
           "size": 10
          },
          "showarrow": false,
          "text": "46",
          "x": 2.5,
          "xref": "x",
          "y": -4,
          "yref": "y"
         },
         {
          "font": {
           "color": "rgb(250,250,250)",
           "size": 10
          },
          "showarrow": false,
          "text": "47",
          "x": 17,
          "xref": "x",
          "y": -5,
          "yref": "y"
         },
         {
          "font": {
           "color": "rgb(250,250,250)",
           "size": 10
          },
          "showarrow": false,
          "text": "48",
          "x": 15,
          "xref": "x",
          "y": -5,
          "yref": "y"
         },
         {
          "font": {
           "color": "rgb(250,250,250)",
           "size": 10
          },
          "showarrow": false,
          "text": "49",
          "x": 16,
          "xref": "x",
          "y": -6,
          "yref": "y"
         },
         {
          "font": {
           "color": "rgb(250,250,250)",
           "size": 10
          },
          "showarrow": false,
          "text": "50",
          "x": 15,
          "xref": "x",
          "y": -6,
          "yref": "y"
         },
         {
          "font": {
           "color": "rgb(250,250,250)",
           "size": 10
          },
          "showarrow": false,
          "text": "51",
          "x": 14,
          "xref": "x",
          "y": -6,
          "yref": "y"
         },
         {
          "font": {
           "color": "rgb(250,250,250)",
           "size": 10
          },
          "showarrow": false,
          "text": "52",
          "x": 13,
          "xref": "x",
          "y": -3,
          "yref": "y"
         },
         {
          "font": {
           "color": "rgb(250,250,250)",
           "size": 10
          },
          "showarrow": false,
          "text": "53",
          "x": 11.25,
          "xref": "x",
          "y": -3,
          "yref": "y"
         },
         {
          "font": {
           "color": "rgb(250,250,250)",
           "size": 10
          },
          "showarrow": false,
          "text": "54",
          "x": 10.5,
          "xref": "x",
          "y": -4,
          "yref": "y"
         },
         {
          "font": {
           "color": "rgb(250,250,250)",
           "size": 10
          },
          "showarrow": false,
          "text": "55",
          "x": 12,
          "xref": "x",
          "y": -4,
          "yref": "y"
         },
         {
          "font": {
           "color": "rgb(250,250,250)",
           "size": 10
          },
          "showarrow": false,
          "text": "56",
          "x": 10.5,
          "xref": "x",
          "y": -5,
          "yref": "y"
         },
         {
          "font": {
           "color": "rgb(250,250,250)",
           "size": 10
          },
          "showarrow": false,
          "text": "57",
          "x": 11,
          "xref": "x",
          "y": -6,
          "yref": "y"
         },
         {
          "font": {
           "color": "rgb(250,250,250)",
           "size": 10
          },
          "showarrow": false,
          "text": "58",
          "x": 10,
          "xref": "x",
          "y": -6,
          "yref": "y"
         },
         {
          "font": {
           "color": "rgb(250,250,250)",
           "size": 10
          },
          "showarrow": false,
          "text": "59",
          "x": 8.5,
          "xref": "x",
          "y": -5,
          "yref": "y"
         },
         {
          "font": {
           "color": "rgb(250,250,250)",
           "size": 10
          },
          "showarrow": false,
          "text": "60",
          "x": 9,
          "xref": "x",
          "y": -6,
          "yref": "y"
         },
         {
          "font": {
           "color": "rgb(250,250,250)",
           "size": 10
          },
          "showarrow": false,
          "text": "61",
          "x": 8,
          "xref": "x",
          "y": -6,
          "yref": "y"
         },
         {
          "font": {
           "color": "rgb(250,250,250)",
           "size": 10
          },
          "showarrow": false,
          "text": "62",
          "x": 7,
          "xref": "x",
          "y": -5,
          "yref": "y"
         },
         {
          "font": {
           "color": "rgb(250,250,250)",
           "size": 10
          },
          "showarrow": false,
          "text": "63",
          "x": 5.5,
          "xref": "x",
          "y": -5,
          "yref": "y"
         },
         {
          "font": {
           "color": "rgb(250,250,250)",
           "size": 10
          },
          "showarrow": false,
          "text": "64",
          "x": 6,
          "xref": "x",
          "y": -6,
          "yref": "y"
         },
         {
          "font": {
           "color": "rgb(250,250,250)",
           "size": 10
          },
          "showarrow": false,
          "text": "65",
          "x": 5,
          "xref": "x",
          "y": -6,
          "yref": "y"
         },
         {
          "font": {
           "color": "rgb(250,250,250)",
           "size": 10
          },
          "showarrow": false,
          "text": "66",
          "x": 4,
          "xref": "x",
          "y": -5,
          "yref": "y"
         },
         {
          "font": {
           "color": "rgb(250,250,250)",
           "size": 10
          },
          "showarrow": false,
          "text": "67",
          "x": 3,
          "xref": "x",
          "y": -5,
          "yref": "y"
         },
         {
          "font": {
           "color": "rgb(250,250,250)",
           "size": 10
          },
          "showarrow": false,
          "text": "68",
          "x": 1,
          "xref": "x",
          "y": -5,
          "yref": "y"
         },
         {
          "font": {
           "color": "rgb(250,250,250)",
           "size": 10
          },
          "showarrow": false,
          "text": "69",
          "x": 2,
          "xref": "x",
          "y": -6,
          "yref": "y"
         },
         {
          "font": {
           "color": "rgb(250,250,250)",
           "size": 10
          },
          "showarrow": false,
          "text": "70",
          "x": 1,
          "xref": "x",
          "y": -6,
          "yref": "y"
         },
         {
          "font": {
           "color": "rgb(250,250,250)",
           "size": 10
          },
          "showarrow": false,
          "text": "71",
          "x": 0,
          "xref": "x",
          "y": -6,
          "yref": "y"
         }
        ],
        "font": {
         "size": 12
        },
        "hovermode": "closest",
        "margin": {
         "b": 10,
         "l": 10,
         "r": 10,
         "t": 10
        },
        "plot_bgcolor": "rgb(248,248,248)",
        "showlegend": false,
        "template": {
         "data": {
          "bar": [
           {
            "error_x": {
             "color": "#2a3f5f"
            },
            "error_y": {
             "color": "#2a3f5f"
            },
            "marker": {
             "line": {
              "color": "#E5ECF6",
              "width": 0.5
             },
             "pattern": {
              "fillmode": "overlay",
              "size": 10,
              "solidity": 0.2
             }
            },
            "type": "bar"
           }
          ],
          "barpolar": [
           {
            "marker": {
             "line": {
              "color": "#E5ECF6",
              "width": 0.5
             },
             "pattern": {
              "fillmode": "overlay",
              "size": 10,
              "solidity": 0.2
             }
            },
            "type": "barpolar"
           }
          ],
          "carpet": [
           {
            "aaxis": {
             "endlinecolor": "#2a3f5f",
             "gridcolor": "white",
             "linecolor": "white",
             "minorgridcolor": "white",
             "startlinecolor": "#2a3f5f"
            },
            "baxis": {
             "endlinecolor": "#2a3f5f",
             "gridcolor": "white",
             "linecolor": "white",
             "minorgridcolor": "white",
             "startlinecolor": "#2a3f5f"
            },
            "type": "carpet"
           }
          ],
          "choropleth": [
           {
            "colorbar": {
             "outlinewidth": 0,
             "ticks": ""
            },
            "type": "choropleth"
           }
          ],
          "contour": [
           {
            "colorbar": {
             "outlinewidth": 0,
             "ticks": ""
            },
            "colorscale": [
             [
              0,
              "#0d0887"
             ],
             [
              0.1111111111111111,
              "#46039f"
             ],
             [
              0.2222222222222222,
              "#7201a8"
             ],
             [
              0.3333333333333333,
              "#9c179e"
             ],
             [
              0.4444444444444444,
              "#bd3786"
             ],
             [
              0.5555555555555556,
              "#d8576b"
             ],
             [
              0.6666666666666666,
              "#ed7953"
             ],
             [
              0.7777777777777778,
              "#fb9f3a"
             ],
             [
              0.8888888888888888,
              "#fdca26"
             ],
             [
              1,
              "#f0f921"
             ]
            ],
            "type": "contour"
           }
          ],
          "contourcarpet": [
           {
            "colorbar": {
             "outlinewidth": 0,
             "ticks": ""
            },
            "type": "contourcarpet"
           }
          ],
          "heatmap": [
           {
            "colorbar": {
             "outlinewidth": 0,
             "ticks": ""
            },
            "colorscale": [
             [
              0,
              "#0d0887"
             ],
             [
              0.1111111111111111,
              "#46039f"
             ],
             [
              0.2222222222222222,
              "#7201a8"
             ],
             [
              0.3333333333333333,
              "#9c179e"
             ],
             [
              0.4444444444444444,
              "#bd3786"
             ],
             [
              0.5555555555555556,
              "#d8576b"
             ],
             [
              0.6666666666666666,
              "#ed7953"
             ],
             [
              0.7777777777777778,
              "#fb9f3a"
             ],
             [
              0.8888888888888888,
              "#fdca26"
             ],
             [
              1,
              "#f0f921"
             ]
            ],
            "type": "heatmap"
           }
          ],
          "heatmapgl": [
           {
            "colorbar": {
             "outlinewidth": 0,
             "ticks": ""
            },
            "colorscale": [
             [
              0,
              "#0d0887"
             ],
             [
              0.1111111111111111,
              "#46039f"
             ],
             [
              0.2222222222222222,
              "#7201a8"
             ],
             [
              0.3333333333333333,
              "#9c179e"
             ],
             [
              0.4444444444444444,
              "#bd3786"
             ],
             [
              0.5555555555555556,
              "#d8576b"
             ],
             [
              0.6666666666666666,
              "#ed7953"
             ],
             [
              0.7777777777777778,
              "#fb9f3a"
             ],
             [
              0.8888888888888888,
              "#fdca26"
             ],
             [
              1,
              "#f0f921"
             ]
            ],
            "type": "heatmapgl"
           }
          ],
          "histogram": [
           {
            "marker": {
             "pattern": {
              "fillmode": "overlay",
              "size": 10,
              "solidity": 0.2
             }
            },
            "type": "histogram"
           }
          ],
          "histogram2d": [
           {
            "colorbar": {
             "outlinewidth": 0,
             "ticks": ""
            },
            "colorscale": [
             [
              0,
              "#0d0887"
             ],
             [
              0.1111111111111111,
              "#46039f"
             ],
             [
              0.2222222222222222,
              "#7201a8"
             ],
             [
              0.3333333333333333,
              "#9c179e"
             ],
             [
              0.4444444444444444,
              "#bd3786"
             ],
             [
              0.5555555555555556,
              "#d8576b"
             ],
             [
              0.6666666666666666,
              "#ed7953"
             ],
             [
              0.7777777777777778,
              "#fb9f3a"
             ],
             [
              0.8888888888888888,
              "#fdca26"
             ],
             [
              1,
              "#f0f921"
             ]
            ],
            "type": "histogram2d"
           }
          ],
          "histogram2dcontour": [
           {
            "colorbar": {
             "outlinewidth": 0,
             "ticks": ""
            },
            "colorscale": [
             [
              0,
              "#0d0887"
             ],
             [
              0.1111111111111111,
              "#46039f"
             ],
             [
              0.2222222222222222,
              "#7201a8"
             ],
             [
              0.3333333333333333,
              "#9c179e"
             ],
             [
              0.4444444444444444,
              "#bd3786"
             ],
             [
              0.5555555555555556,
              "#d8576b"
             ],
             [
              0.6666666666666666,
              "#ed7953"
             ],
             [
              0.7777777777777778,
              "#fb9f3a"
             ],
             [
              0.8888888888888888,
              "#fdca26"
             ],
             [
              1,
              "#f0f921"
             ]
            ],
            "type": "histogram2dcontour"
           }
          ],
          "mesh3d": [
           {
            "colorbar": {
             "outlinewidth": 0,
             "ticks": ""
            },
            "type": "mesh3d"
           }
          ],
          "parcoords": [
           {
            "line": {
             "colorbar": {
              "outlinewidth": 0,
              "ticks": ""
             }
            },
            "type": "parcoords"
           }
          ],
          "pie": [
           {
            "automargin": true,
            "type": "pie"
           }
          ],
          "scatter": [
           {
            "fillpattern": {
             "fillmode": "overlay",
             "size": 10,
             "solidity": 0.2
            },
            "type": "scatter"
           }
          ],
          "scatter3d": [
           {
            "line": {
             "colorbar": {
              "outlinewidth": 0,
              "ticks": ""
             }
            },
            "marker": {
             "colorbar": {
              "outlinewidth": 0,
              "ticks": ""
             }
            },
            "type": "scatter3d"
           }
          ],
          "scattercarpet": [
           {
            "marker": {
             "colorbar": {
              "outlinewidth": 0,
              "ticks": ""
             }
            },
            "type": "scattercarpet"
           }
          ],
          "scattergeo": [
           {
            "marker": {
             "colorbar": {
              "outlinewidth": 0,
              "ticks": ""
             }
            },
            "type": "scattergeo"
           }
          ],
          "scattergl": [
           {
            "marker": {
             "colorbar": {
              "outlinewidth": 0,
              "ticks": ""
             }
            },
            "type": "scattergl"
           }
          ],
          "scattermapbox": [
           {
            "marker": {
             "colorbar": {
              "outlinewidth": 0,
              "ticks": ""
             }
            },
            "type": "scattermapbox"
           }
          ],
          "scatterpolar": [
           {
            "marker": {
             "colorbar": {
              "outlinewidth": 0,
              "ticks": ""
             }
            },
            "type": "scatterpolar"
           }
          ],
          "scatterpolargl": [
           {
            "marker": {
             "colorbar": {
              "outlinewidth": 0,
              "ticks": ""
             }
            },
            "type": "scatterpolargl"
           }
          ],
          "scatterternary": [
           {
            "marker": {
             "colorbar": {
              "outlinewidth": 0,
              "ticks": ""
             }
            },
            "type": "scatterternary"
           }
          ],
          "surface": [
           {
            "colorbar": {
             "outlinewidth": 0,
             "ticks": ""
            },
            "colorscale": [
             [
              0,
              "#0d0887"
             ],
             [
              0.1111111111111111,
              "#46039f"
             ],
             [
              0.2222222222222222,
              "#7201a8"
             ],
             [
              0.3333333333333333,
              "#9c179e"
             ],
             [
              0.4444444444444444,
              "#bd3786"
             ],
             [
              0.5555555555555556,
              "#d8576b"
             ],
             [
              0.6666666666666666,
              "#ed7953"
             ],
             [
              0.7777777777777778,
              "#fb9f3a"
             ],
             [
              0.8888888888888888,
              "#fdca26"
             ],
             [
              1,
              "#f0f921"
             ]
            ],
            "type": "surface"
           }
          ],
          "table": [
           {
            "cells": {
             "fill": {
              "color": "#EBF0F8"
             },
             "line": {
              "color": "white"
             }
            },
            "header": {
             "fill": {
              "color": "#C8D4E3"
             },
             "line": {
              "color": "white"
             }
            },
            "type": "table"
           }
          ]
         },
         "layout": {
          "annotationdefaults": {
           "arrowcolor": "#2a3f5f",
           "arrowhead": 0,
           "arrowwidth": 1
          },
          "autotypenumbers": "strict",
          "coloraxis": {
           "colorbar": {
            "outlinewidth": 0,
            "ticks": ""
           }
          },
          "colorscale": {
           "diverging": [
            [
             0,
             "#8e0152"
            ],
            [
             0.1,
             "#c51b7d"
            ],
            [
             0.2,
             "#de77ae"
            ],
            [
             0.3,
             "#f1b6da"
            ],
            [
             0.4,
             "#fde0ef"
            ],
            [
             0.5,
             "#f7f7f7"
            ],
            [
             0.6,
             "#e6f5d0"
            ],
            [
             0.7,
             "#b8e186"
            ],
            [
             0.8,
             "#7fbc41"
            ],
            [
             0.9,
             "#4d9221"
            ],
            [
             1,
             "#276419"
            ]
           ],
           "sequential": [
            [
             0,
             "#0d0887"
            ],
            [
             0.1111111111111111,
             "#46039f"
            ],
            [
             0.2222222222222222,
             "#7201a8"
            ],
            [
             0.3333333333333333,
             "#9c179e"
            ],
            [
             0.4444444444444444,
             "#bd3786"
            ],
            [
             0.5555555555555556,
             "#d8576b"
            ],
            [
             0.6666666666666666,
             "#ed7953"
            ],
            [
             0.7777777777777778,
             "#fb9f3a"
            ],
            [
             0.8888888888888888,
             "#fdca26"
            ],
            [
             1,
             "#f0f921"
            ]
           ],
           "sequentialminus": [
            [
             0,
             "#0d0887"
            ],
            [
             0.1111111111111111,
             "#46039f"
            ],
            [
             0.2222222222222222,
             "#7201a8"
            ],
            [
             0.3333333333333333,
             "#9c179e"
            ],
            [
             0.4444444444444444,
             "#bd3786"
            ],
            [
             0.5555555555555556,
             "#d8576b"
            ],
            [
             0.6666666666666666,
             "#ed7953"
            ],
            [
             0.7777777777777778,
             "#fb9f3a"
            ],
            [
             0.8888888888888888,
             "#fdca26"
            ],
            [
             1,
             "#f0f921"
            ]
           ]
          },
          "colorway": [
           "#636efa",
           "#EF553B",
           "#00cc96",
           "#ab63fa",
           "#FFA15A",
           "#19d3f3",
           "#FF6692",
           "#B6E880",
           "#FF97FF",
           "#FECB52"
          ],
          "font": {
           "color": "#2a3f5f"
          },
          "geo": {
           "bgcolor": "white",
           "lakecolor": "white",
           "landcolor": "#E5ECF6",
           "showlakes": true,
           "showland": true,
           "subunitcolor": "white"
          },
          "hoverlabel": {
           "align": "left"
          },
          "hovermode": "closest",
          "mapbox": {
           "style": "light"
          },
          "paper_bgcolor": "white",
          "plot_bgcolor": "#E5ECF6",
          "polar": {
           "angularaxis": {
            "gridcolor": "white",
            "linecolor": "white",
            "ticks": ""
           },
           "bgcolor": "#E5ECF6",
           "radialaxis": {
            "gridcolor": "white",
            "linecolor": "white",
            "ticks": ""
           }
          },
          "scene": {
           "xaxis": {
            "backgroundcolor": "#E5ECF6",
            "gridcolor": "white",
            "gridwidth": 2,
            "linecolor": "white",
            "showbackground": true,
            "ticks": "",
            "zerolinecolor": "white"
           },
           "yaxis": {
            "backgroundcolor": "#E5ECF6",
            "gridcolor": "white",
            "gridwidth": 2,
            "linecolor": "white",
            "showbackground": true,
            "ticks": "",
            "zerolinecolor": "white"
           },
           "zaxis": {
            "backgroundcolor": "#E5ECF6",
            "gridcolor": "white",
            "gridwidth": 2,
            "linecolor": "white",
            "showbackground": true,
            "ticks": "",
            "zerolinecolor": "white"
           }
          },
          "shapedefaults": {
           "line": {
            "color": "#2a3f5f"
           }
          },
          "ternary": {
           "aaxis": {
            "gridcolor": "white",
            "linecolor": "white",
            "ticks": ""
           },
           "baxis": {
            "gridcolor": "white",
            "linecolor": "white",
            "ticks": ""
           },
           "bgcolor": "#E5ECF6",
           "caxis": {
            "gridcolor": "white",
            "linecolor": "white",
            "ticks": ""
           }
          },
          "title": {
           "x": 0.05
          },
          "xaxis": {
           "automargin": true,
           "gridcolor": "white",
           "linecolor": "white",
           "ticks": "",
           "title": {
            "standoff": 15
           },
           "zerolinecolor": "white",
           "zerolinewidth": 2
          },
          "yaxis": {
           "automargin": true,
           "gridcolor": "white",
           "linecolor": "white",
           "ticks": "",
           "title": {
            "standoff": 15
           },
           "zerolinecolor": "white",
           "zerolinewidth": 2
          }
         }
        },
        "xaxis": {
         "showgrid": false,
         "showline": false,
         "showticklabels": false,
         "zeroline": false
        },
        "yaxis": {
         "showgrid": false,
         "showline": false,
         "showticklabels": false,
         "zeroline": false
        }
       }
      },
      "text/html": [
       "<div>                            <div id=\"9c383318-a1eb-4ccd-b537-df8d29ef2032\" class=\"plotly-graph-div\" style=\"height:525px; width:100%;\"></div>            <script type=\"text/javascript\">                require([\"plotly\"], function(Plotly) {                    window.PLOTLYENV=window.PLOTLYENV || {};                                    if (document.getElementById(\"9c383318-a1eb-4ccd-b537-df8d29ef2032\")) {                    Plotly.newPlot(                        \"9c383318-a1eb-4ccd-b537-df8d29ef2032\",                        [{\"hoverinfo\":\"none\",\"line\":{\"color\":\"rgb(210,210,210)\",\"width\":1},\"mode\":\"lines\",\"x\":[20.921875,23.375,null,23.375,12.125,null,12.125,13.0,null,12.125,11.25,null,11.25,10.5,null,10.5,10.5,null,10.5,11.0,null,10.5,10.0,null,11.25,12.0,null,23.375,34.625,null,34.625,36.0,null,34.625,33.25,null,33.25,35.0,null,33.25,34.0,null,33.25,31.5,null,31.5,33.0,null,31.5,32.0,null,31.5,30.0,null,30.0,31.0,null,30.0,30.0,null,30.0,29.0,null,23.375,24.25,null,24.25,26.0,null,24.25,25.0,null,24.25,22.5,null,22.5,24.0,null,22.5,21.0,null,21.0,20.0,null,20.0,21.0,null,20.0,20.0,null,20.0,19.0,null,21.0,22.0,null,22.5,23.0,null,20.921875,18.46875,null,18.46875,23.375,null,23.375,23.375,null,23.375,8.5,null,8.5,8.5,null,8.5,9.0,null,8.5,8.0,null,23.375,38.25,null,38.25,39.0,null,38.25,37.5,null,37.5,38.0,null,37.5,37.0,null,18.46875,13.5625,null,13.5625,10.25,null,10.25,18.0,null,10.25,16.0,null,16.0,17.0,null,16.0,15.0,null,15.0,16.0,null,15.0,15.0,null,15.0,14.0,null,10.25,2.5,null,2.5,4.0,null,2.5,3.0,null,2.5,1.0,null,1.0,2.0,null,1.0,1.0,null,1.0,0.0,null,13.5625,16.875,null,16.875,27.5,null,27.5,27.5,null,27.5,28.0,null,27.5,27.0,null,16.875,6.25,null,6.25,7.0,null,6.25,5.5,null,5.5,6.0,null,5.5,5.0,null],\"y\":[0.0,-1.0,null,-1.0,-2.0,null,-2.0,-3.0,null,-2.0,-3.0,null,-3.0,-4.0,null,-4.0,-5.0,null,-5.0,-6.0,null,-5.0,-6.0,null,-3.0,-4.0,null,-1.0,-2.0,null,-2.0,-3.0,null,-2.0,-3.0,null,-3.0,-4.0,null,-3.0,-4.0,null,-3.0,-4.0,null,-4.0,-5.0,null,-4.0,-5.0,null,-4.0,-5.0,null,-5.0,-6.0,null,-5.0,-6.0,null,-5.0,-6.0,null,-1.0,-2.0,null,-2.0,-3.0,null,-2.0,-3.0,null,-2.0,-3.0,null,-3.0,-4.0,null,-3.0,-4.0,null,-4.0,-5.0,null,-5.0,-6.0,null,-5.0,-6.0,null,-5.0,-6.0,null,-4.0,-5.0,null,-3.0,-4.0,null,0.0,-1.0,null,-1.0,-2.0,null,-2.0,-3.0,null,-3.0,-4.0,null,-4.0,-5.0,null,-5.0,-6.0,null,-5.0,-6.0,null,-3.0,-4.0,null,-4.0,-5.0,null,-4.0,-5.0,null,-5.0,-6.0,null,-5.0,-6.0,null,-1.0,-2.0,null,-2.0,-3.0,null,-3.0,-4.0,null,-3.0,-4.0,null,-4.0,-5.0,null,-4.0,-5.0,null,-5.0,-6.0,null,-5.0,-6.0,null,-5.0,-6.0,null,-3.0,-4.0,null,-4.0,-5.0,null,-4.0,-5.0,null,-4.0,-5.0,null,-5.0,-6.0,null,-5.0,-6.0,null,-5.0,-6.0,null,-2.0,-3.0,null,-3.0,-4.0,null,-4.0,-5.0,null,-5.0,-6.0,null,-5.0,-6.0,null,-3.0,-4.0,null,-4.0,-5.0,null,-4.0,-5.0,null,-5.0,-6.0,null,-5.0,-6.0,null],\"type\":\"scatter\"},{\"hoverinfo\":\"text\",\"marker\":{\"color\":\"#6175c1\",\"line\":{\"color\":\"rgb(50,50,50)\",\"width\":1},\"size\":18,\"symbol\":\"circle-dot\"},\"mode\":\"markers\",\"name\":\"bla\",\"opacity\":0.8,\"text\":[\"{\\u003cbr\\u003e    \\\"blocks_state\\\": \\\"the red block is clear, the yellow block is\\u003cbr\\u003eclear, the hand is empty, the red block is on top of the blue block,\\u003cbr\\u003ethe blue block is on top of the orange block, the orange block is on\\u003cbr\\u003ethe table and the yellow block is on the table.\\\"\\u003cbr\\u003e}\",\"{\\u003cbr\\u003e    \\\"blocks_state\\\": \\\"the blue block is clear, the red block is in the\\u003cbr\\u003ehand, the yellow block is clear, the hand is holding the red block,\\u003cbr\\u003ethe blue block is on top of the orange block, the orange block is on\\u003cbr\\u003ethe table, and the yellow block is on the table.\\\",\\u003cbr\\u003e    \\\"Q\\\": \\\"-5.401427427927653\\\",\\u003cbr\\u003e    \\\"intuition\\\": \\\"-2.7529306\\\",\\u003cbr\\u003e    \\\"goal_reached\\\": \\\"(False, 0.0)\\\"\\u003cbr\\u003e}\",\"{\\u003cbr\\u003e    \\\"blocks_state\\\": \\\"the red block is clear, the yellow block is in\\u003cbr\\u003ethe hand, the hand is holding the yellow block, the blue block is on\\u003cbr\\u003etop of the orange block, the red block is on top of the blue block,\\u003cbr\\u003eand the orange block is on the table.\\\",\\u003cbr\\u003e    \\\"Q\\\": \\\"-4.737861905779157\\\",\\u003cbr\\u003e    \\\"intuition\\\": \\\"-1.9433594\\\",\\u003cbr\\u003e    \\\"goal_reached\\\": \\\"(False, 0.0)\\\"\\u003cbr\\u003e}\",\"{\\u003cbr\\u003e    \\\"blocks_state\\\": \\\"the yellow block is clear, the hand is empty, the\\u003cbr\\u003eblue block is on top of the orange block, the red block is on top of\\u003cbr\\u003ethe blue block, the yellow block is on top of the red block, and the\\u003cbr\\u003eorange block is on the table.\\\",\\u003cbr\\u003e    \\\"Q\\\": \\\"-3.7312068939208984\\\",\\u003cbr\\u003e    \\\"intuition\\\": \\\"-0.77282715\\\",\\u003cbr\\u003e    \\\"goal_reached\\\": \\\"(False, 0.0)\\\"\\u003cbr\\u003e}\",\"{\\u003cbr\\u003e    \\\"blocks_state\\\": \\\"the red block is clear, the yellow block is\\u003cbr\\u003eclear, the hand is empty, the blue block is on top of the orange\\u003cbr\\u003eblock, the red block is on top of the blue block, the orange block is\\u003cbr\\u003eon the table, and the yellow block is on the table.\\\",\\u003cbr\\u003e    \\\"Q\\\": \\\"-3.7924137115478516\\\",\\u003cbr\\u003e    \\\"intuition\\\": \\\"-1.8987131\\\",\\u003cbr\\u003e    \\\"goal_reached\\\": \\\"(False, 0.0)\\\"\\u003cbr\\u003e}\",\"{\\u003cbr\\u003e    \\\"blocks_state\\\": \\\"the red block is clear, the yellow block is in\\u003cbr\\u003ethe hand, the hand is holding the yellow block, the blue block is on\\u003cbr\\u003etop of the orange block, the red block is on top of the blue block,\\u003cbr\\u003eand the orange block is on the table.\\\",\\u003cbr\\u003e    \\\"Q\\\": \\\"-3.3447933197021484\\\",\\u003cbr\\u003e    \\\"intuition\\\": \\\"-2.3627996\\\",\\u003cbr\\u003e    \\\"goal_reached\\\": \\\"(False, 0.0)\\\"\\u003cbr\\u003e}\",\"{\\u003cbr\\u003e    \\\"blocks_state\\\": \\\"the yellow block is clear, the hand is empty, the\\u003cbr\\u003eblue block is on top of the orange block, the red block is on top of\\u003cbr\\u003ethe blue block, the yellow block is on top of the red block, and the\\u003cbr\\u003eorange block is on the table.\\\",\\u003cbr\\u003e    \\\"Q\\\": \\\"-3.0872855186462402\\\",\\u003cbr\\u003e    \\\"intuition\\\": \\\"-3.8117714\\\",\\u003cbr\\u003e    \\\"goal_reached\\\": \\\"(False, 0.0)\\\"\\u003cbr\\u003e}\",\"{\\u003cbr\\u003e    \\\"blocks_state\\\": \\\"the red block is clear, the yellow block is\\u003cbr\\u003eclear, the hand is empty, the blue block is on top of the orange\\u003cbr\\u003eblock, the red block is on top of the blue block, the orange block is\\u003cbr\\u003eon the table, and the yellow block is on the table.\\\",\\u003cbr\\u003e    \\\"Q\\\": \\\"-1.7014474868774414\\\",\\u003cbr\\u003e    \\\"intuition\\\": \\\"-1.4468393\\\",\\u003cbr\\u003e    \\\"goal_reached\\\": \\\"(False, 0.0)\\\"\\u003cbr\\u003e}\",\"{\\u003cbr\\u003e    \\\"blocks_state\\\": \\\"None\\\",\\u003cbr\\u003e    \\\"Q\\\": \\\"-1.4843764305114746\\\",\\u003cbr\\u003e    \\\"intuition\\\": \\\"-2.9687529\\\"\\u003cbr\\u003e}\",\"{\\u003cbr\\u003e    \\\"blocks_state\\\": \\\"the red block is clear, the yellow block is in\\u003cbr\\u003ethe hand, the hand is holding the yellow block, the blue block is on\\u003cbr\\u003etop of the orange block, the red block is on top of the blue block,\\u003cbr\\u003eand the orange block is on the table.\\\",\\u003cbr\\u003e    \\\"Q\\\": \\\"-0.9780278205871582\\\",\\u003cbr\\u003e    \\\"intuition\\\": \\\"-1.9560556\\\",\\u003cbr\\u003e    \\\"goal_reached\\\": \\\"(False, 0.0)\\\"\\u003cbr\\u003e}\",\"{\\u003cbr\\u003e    \\\"blocks_state\\\": \\\"None\\\",\\u003cbr\\u003e    \\\"Q\\\": \\\"-0.3597879409790039\\\",\\u003cbr\\u003e    \\\"intuition\\\": \\\"-0.7195759\\\"\\u003cbr\\u003e}\",\"{\\u003cbr\\u003e    \\\"blocks_state\\\": \\\"None\\\",\\u003cbr\\u003e    \\\"Q\\\": \\\"-0.9721155166625977\\\",\\u003cbr\\u003e    \\\"intuition\\\": \\\"-1.944231\\\"\\u003cbr\\u003e}\",\"{\\u003cbr\\u003e    \\\"blocks_state\\\": \\\"the red block is clear, the yellow block is\\u003cbr\\u003eclear, the hand is empty, the blue block is on top of the orange\\u003cbr\\u003eblock, the red block is on top of the blue block, the orange block is\\u003cbr\\u003eon the table, and the yellow block is on the table.\\\",\\u003cbr\\u003e    \\\"Q\\\": \\\"-5.50244665145874\\\",\\u003cbr\\u003e    \\\"intuition\\\": \\\"-5.966462\\\",\\u003cbr\\u003e    \\\"goal_reached\\\": \\\"(False, 0.0)\\\"\\u003cbr\\u003e}\",\"{\\u003cbr\\u003e    \\\"blocks_state\\\": \\\"the blue block is clear, the red block is clear,\\u003cbr\\u003ethe hand is empty, the blue block is on top of the orange block, the\\u003cbr\\u003ered block is on top of the yellow block, the orange block is on the\\u003cbr\\u003etable, and the yellow block is on the table.\\\",\\u003cbr\\u003e    \\\"Q\\\": \\\"-3.02009916305542\\\",\\u003cbr\\u003e    \\\"intuition\\\": \\\"-0.808259\\\",\\u003cbr\\u003e    \\\"goal_reached\\\": \\\"(False, 0.5)\\\"\\u003cbr\\u003e}\",\"{\\u003cbr\\u003e    \\\"blocks_state\\\": \\\"the blue block is clear, the red block is clear,\\u003cbr\\u003ethe yellow block is clear, the hand is empty, the blue block is on top\\u003cbr\\u003eof the orange block, the orange block is on the table, the red block\\u003cbr\\u003eis on the table, and the yellow block is on the table.\\\",\\u003cbr\\u003e    \\\"Q\\\": \\\"-3.552340507507324\\\",\\u003cbr\\u003e    \\\"intuition\\\": \\\"-1.3947763\\\",\\u003cbr\\u003e    \\\"goal_reached\\\": \\\"(False, 0.0)\\\"\\u003cbr\\u003e}\",\"{\\u003cbr\\u003e    \\\"blocks_state\\\": \\\"None\\\",\\u003cbr\\u003e    \\\"Q\\\": \\\"-1.3301706314086914\\\",\\u003cbr\\u003e    \\\"intuition\\\": \\\"-2.6603413\\\"\\u003cbr\\u003e}\",\"{\\u003cbr\\u003e    \\\"blocks_state\\\": \\\"the blue block is clear, the red block is in the\\u003cbr\\u003ehand, the yellow block is clear, the hand is holding the red block,\\u003cbr\\u003ethe blue block is on top of the orange block, the orange block is on\\u003cbr\\u003ethe table, and the yellow block is on the table.\\\",\\u003cbr\\u003e    \\\"Q\\\": \\\"-2.865969657897949\\\",\\u003cbr\\u003e    \\\"intuition\\\": \\\"-2.2874784\\\",\\u003cbr\\u003e    \\\"goal_reached\\\": \\\"(False, 0.0)\\\"\\u003cbr\\u003e}\",\"{\\u003cbr\\u003e    \\\"blocks_state\\\": \\\"None\\\",\\u003cbr\\u003e    \\\"Q\\\": \\\"-0.9808130264282227\\\",\\u003cbr\\u003e    \\\"intuition\\\": \\\"-1.961626\\\"\\u003cbr\\u003e}\",\"{\\u003cbr\\u003e    \\\"blocks_state\\\": \\\"None\\\",\\u003cbr\\u003e    \\\"Q\\\": \\\"-2.6453638076782227\\\",\\u003cbr\\u003e    \\\"intuition\\\": \\\"-5.2907276\\\"\\u003cbr\\u003e}\",\"{\\u003cbr\\u003e    \\\"blocks_state\\\": \\\"the blue block is clear, the red block is clear,\\u003cbr\\u003ethe yellow block is clear, the hand is empty, the blue block is on top\\u003cbr\\u003eof the orange block, the orange block is on the table, the red block\\u003cbr\\u003eis on the table, and the yellow block is on the table.\\\",\\u003cbr\\u003e    \\\"Q\\\": \\\"-1.7222304344177246\\\",\\u003cbr\\u003e    \\\"intuition\\\": \\\"-1.6856699\\\",\\u003cbr\\u003e    \\\"goal_reached\\\": \\\"(False, 0.0)\\\"\\u003cbr\\u003e}\",\"{\\u003cbr\\u003e    \\\"blocks_state\\\": \\\"None\\\",\\u003cbr\\u003e    \\\"Q\\\": \\\"-1.3153080940246582\\\",\\u003cbr\\u003e    \\\"intuition\\\": \\\"-2.6306162\\\"\\u003cbr\\u003e}\",\"{\\u003cbr\\u003e    \\\"blocks_state\\\": \\\"None\\\",\\u003cbr\\u003e    \\\"Q\\\": \\\"-1.4418954849243164\\\",\\u003cbr\\u003e    \\\"intuition\\\": \\\"-2.883791\\\"\\u003cbr\\u003e}\",\"{\\u003cbr\\u003e    \\\"blocks_state\\\": \\\"the blue block is clear, the red block is clear,\\u003cbr\\u003ethe yellow block is in the hand, the hand is holding the yellow block,\\u003cbr\\u003ethe blue block is on top of the orange block, the orange block is on\\u003cbr\\u003ethe table, and the red block is on the table.\\\",\\u003cbr\\u003e    \\\"Q\\\": \\\"-0.8793954849243164\\\",\\u003cbr\\u003e    \\\"intuition\\\": \\\"-1.758791\\\",\\u003cbr\\u003e    \\\"goal_reached\\\": \\\"(False, 0.0)\\\"\\u003cbr\\u003e}\",\"{\\u003cbr\\u003e    \\\"blocks_state\\\": \\\"None\\\",\\u003cbr\\u003e    \\\"Q\\\": \\\"-1.7976388931274414\\\",\\u003cbr\\u003e    \\\"intuition\\\": \\\"-3.5952778\\\"\\u003cbr\\u003e}\",\"{\\u003cbr\\u003e    \\\"blocks_state\\\": \\\"None\\\",\\u003cbr\\u003e    \\\"Q\\\": \\\"-0.3911447525024414\\\",\\u003cbr\\u003e    \\\"intuition\\\": \\\"-0.7822895\\\"\\u003cbr\\u003e}\",\"{\\u003cbr\\u003e    \\\"blocks_state\\\": \\\"None\\\",\\u003cbr\\u003e    \\\"Q\\\": \\\"-1.0779657363891602\\\",\\u003cbr\\u003e    \\\"intuition\\\": \\\"-2.1559315\\\"\\u003cbr\\u003e}\",\"{\\u003cbr\\u003e    \\\"blocks_state\\\": \\\"the blue block is clear, the red block is in the\\u003cbr\\u003ehand, the yellow block is clear, the hand is holding the red block,\\u003cbr\\u003ethe blue block is on top of the orange block, the orange block is on\\u003cbr\\u003ethe table, and the yellow block is on the table.\\\",\\u003cbr\\u003e    \\\"Q\\\": \\\"-2.96242094039917\\\",\\u003cbr\\u003e    \\\"intuition\\\": \\\"-2.9687529\\\",\\u003cbr\\u003e    \\\"goal_reached\\\": \\\"(False, 0.0)\\\"\\u003cbr\\u003e}\",\"{\\u003cbr\\u003e    \\\"blocks_state\\\": \\\"the red block is clear, the yellow block is in\\u003cbr\\u003ethe hand, the hand is holding the yellow block, the blue block is on\\u003cbr\\u003etop of the orange block, the red block is on top of the blue block,\\u003cbr\\u003eand the orange block is on the table.\\\",\\u003cbr\\u003e    \\\"Q\\\": \\\"-2.723693370819092\\\",\\u003cbr\\u003e    \\\"intuition\\\": \\\"-1.9560556\\\",\\u003cbr\\u003e    \\\"goal_reached\\\": \\\"(False, 0.0)\\\"\\u003cbr\\u003e}\",\"{\\u003cbr\\u003e    \\\"blocks_state\\\": \\\"the yellow block is clear, the hand is empty, the\\u003cbr\\u003eblue block is on top of the orange block, the red block is on top of\\u003cbr\\u003ethe blue block, the yellow block is on top of the red block, and the\\u003cbr\\u003eorange block is on the table.\\\",\\u003cbr\\u003e    \\\"Q\\\": \\\"-1.5411877632141113\\\",\\u003cbr\\u003e    \\\"intuition\\\": \\\"-0.7195759\\\",\\u003cbr\\u003e    \\\"goal_reached\\\": \\\"(False, 0.0)\\\"\\u003cbr\\u003e}\",\"{\\u003cbr\\u003e    \\\"blocks_state\\\": \\\"the red block is clear, the yellow block is\\u003cbr\\u003eclear, the hand is empty, the blue block is on top of the orange\\u003cbr\\u003eblock, the red block is on top of the blue block, the orange block is\\u003cbr\\u003eon the table, and the yellow block is on the table.\\\",\\u003cbr\\u003e    \\\"Q\\\": \\\"-1.9501433372497559\\\",\\u003cbr\\u003e    \\\"intuition\\\": \\\"-1.944231\\\",\\u003cbr\\u003e    \\\"goal_reached\\\": \\\"(False, 0.0)\\\"\\u003cbr\\u003e}\",\"{\\u003cbr\\u003e    \\\"blocks_state\\\": \\\"the red block is clear, the yellow block is in\\u003cbr\\u003ethe hand, the hand is holding the yellow block, the blue block is on\\u003cbr\\u003etop of the orange block, the red block is on top of the blue block,\\u003cbr\\u003eand the orange block is on the table.\\\",\\u003cbr\\u003e    \\\"Q\\\": \\\"-1.1813998222351074\\\",\\u003cbr\\u003e    \\\"intuition\\\": \\\"-2.3627996\\\",\\u003cbr\\u003e    \\\"goal_reached\\\": \\\"(False, 0.0)\\\"\\u003cbr\\u003e}\",\"{\\u003cbr\\u003e    \\\"blocks_state\\\": \\\"None\\\",\\u003cbr\\u003e    \\\"Q\\\": \\\"-1.9058856964111328\\\",\\u003cbr\\u003e    \\\"intuition\\\": \\\"-3.8117714\\\"\\u003cbr\\u003e}\",\"{\\u003cbr\\u003e    \\\"blocks_state\\\": \\\"None\\\",\\u003cbr\\u003e    \\\"Q\\\": \\\"-0.7234196662902832\\\",\\u003cbr\\u003e    \\\"intuition\\\": \\\"-1.4468393\\\"\\u003cbr\\u003e}\",\"{\\u003cbr\\u003e    \\\"blocks_state\\\": \\\"None\\\",\\u003cbr\\u003e    \\\"Q\\\": \\\"-1.3153080940246582\\\",\\u003cbr\\u003e    \\\"intuition\\\": \\\"-2.6306162\\\"\\u003cbr\\u003e}\",\"{\\u003cbr\\u003e    \\\"blocks_state\\\": \\\"None\\\",\\u003cbr\\u003e    \\\"Q\\\": \\\"-1.4418954849243164\\\",\\u003cbr\\u003e    \\\"intuition\\\": \\\"-2.883791\\\"\\u003cbr\\u003e}\",\"{\\u003cbr\\u003e    \\\"blocks_state\\\": \\\"the blue block is clear, the red block is clear,\\u003cbr\\u003ethe yellow block is in the hand, the hand is holding the yellow block,\\u003cbr\\u003ethe blue block is on top of the orange block, the orange block is on\\u003cbr\\u003ethe table, and the red block is on the table.\\\",\\u003cbr\\u003e    \\\"Q\\\": \\\"-2.854952335357666\\\",\\u003cbr\\u003e    \\\"intuition\\\": \\\"-1.758791\\\",\\u003cbr\\u003e    \\\"goal_reached\\\": \\\"(False, 0.0)\\\"\\u003cbr\\u003e}\",\"{\\u003cbr\\u003e    \\\"blocks_state\\\": \\\"None\\\",\\u003cbr\\u003e    \\\"Q\\\": \\\"-1.7976388931274414\\\",\\u003cbr\\u003e    \\\"intuition\\\": \\\"-3.5952778\\\"\\u003cbr\\u003e}\",\"{\\u003cbr\\u003e    \\\"blocks_state\\\": \\\"the blue block is clear, the yellow block is\\u003cbr\\u003eclear, the hand is empty, the blue block is on top of the orange\\u003cbr\\u003eblock, the yellow block is on top of the red block, the orange block\\u003cbr\\u003eis on the table, and the red block is on the table.\\\",\\u003cbr\\u003e    \\\"Q\\\": \\\"-1.9755568504333496\\\",\\u003cbr\\u003e    \\\"intuition\\\": \\\"-0.7822895\\\",\\u003cbr\\u003e    \\\"goal_reached\\\": \\\"(False, 0.0)\\\"\\u003cbr\\u003e}\",\"{\\u003cbr\\u003e    \\\"blocks_state\\\": \\\"None\\\",\\u003cbr\\u003e    \\\"Q\\\": \\\"-1.0779657363891602\\\",\\u003cbr\\u003e    \\\"intuition\\\": \\\"-2.1559315\\\"\\u003cbr\\u003e}\",\"{\\u003cbr\\u003e    \\\"blocks_state\\\": \\\"the blue block is in the hand, the orange block\\u003cbr\\u003eis clear, the yellow block is clear, the hand is holding the blue\\u003cbr\\u003eblock, the yellow block is on top of the red block, the orange block\\u003cbr\\u003eis on the table, and the red block is on the table.\\\",\\u003cbr\\u003e    \\\"Q\\\": \\\"-1.5844120979309082\\\",\\u003cbr\\u003e    \\\"intuition\\\": \\\"-3.1688242\\\",\\u003cbr\\u003e    \\\"goal_reached\\\": \\\"(False, 0.0)\\\"\\u003cbr\\u003e}\",\"{\\u003cbr\\u003e    \\\"blocks_state\\\": \\\"None\\\",\\u003cbr\\u003e    \\\"Q\\\": \\\"-1.6418466567993164\\\",\\u003cbr\\u003e    \\\"intuition\\\": \\\"-3.2836933\\\"\\u003cbr\\u003e}\",\"{\\u003cbr\\u003e    \\\"blocks_state\\\": \\\"None\\\",\\u003cbr\\u003e    \\\"Q\\\": \\\"-1.7889108657836914\\\",\\u003cbr\\u003e    \\\"intuition\\\": \\\"-3.5778217\\\"\\u003cbr\\u003e}\",\"{\\u003cbr\\u003e    \\\"blocks_state\\\": \\\"None\\\",\\u003cbr\\u003e    \\\"Q\\\": \\\"-0.5857858657836914\\\",\\u003cbr\\u003e    \\\"intuition\\\": \\\"-1.1715717\\\"\\u003cbr\\u003e}\",\"{\\u003cbr\\u003e    \\\"blocks_state\\\": \\\"None\\\",\\u003cbr\\u003e    \\\"Q\\\": \\\"-0.9370584487915039\\\",\\u003cbr\\u003e    \\\"intuition\\\": \\\"-1.8741169\\\"\\u003cbr\\u003e}\",\"{\\u003cbr\\u003e    \\\"blocks_state\\\": \\\"None\\\",\\u003cbr\\u003e    \\\"Q\\\": \\\"-2.851334571838379\\\",\\u003cbr\\u003e    \\\"intuition\\\": \\\"-5.702669\\\"\\u003cbr\\u003e}\",\"{\\u003cbr\\u003e    \\\"blocks_state\\\": \\\"the blue block is clear, the red block is clear,\\u003cbr\\u003ethe hand is empty, the blue block is on top of the orange block, the\\u003cbr\\u003ered block is on top of the yellow block, the orange block is on the\\u003cbr\\u003etable, and the yellow block is on the table.\\\",\\u003cbr\\u003e    \\\"Q\\\": \\\"-1.3042168617248535\\\",\\u003cbr\\u003e    \\\"intuition\\\": \\\"-0.8209553\\\",\\u003cbr\\u003e    \\\"goal_reached\\\": \\\"(False, 0.5)\\\"\\u003cbr\\u003e}\",\"{\\u003cbr\\u003e    \\\"blocks_state\\\": \\\"the blue block is clear, the red block is clear,\\u003cbr\\u003ethe yellow block is clear, the hand is empty, the blue block is on top\\u003cbr\\u003eof the orange block, the orange block is on the table, the red block\\u003cbr\\u003eis on the table, and the yellow block is on the table.\\\",\\u003cbr\\u003e    \\\"Q\\\": \\\"-1.651872158050537\\\",\\u003cbr\\u003e    \\\"intuition\\\": \\\"-1.5449533\\\",\\u003cbr\\u003e    \\\"goal_reached\\\": \\\"(False, 0.0)\\\"\\u003cbr\\u003e}\",\"{\\u003cbr\\u003e    \\\"blocks_state\\\": \\\"None\\\",\\u003cbr\\u003e    \\\"Q\\\": \\\"-1.3301706314086914\\\",\\u003cbr\\u003e    \\\"intuition\\\": \\\"-2.6603413\\\"\\u003cbr\\u003e}\",\"{\\u003cbr\\u003e    \\\"blocks_state\\\": \\\"the blue block is clear, the red block is in the\\u003cbr\\u003ehand, the yellow block is clear, the hand is holding the red block,\\u003cbr\\u003ethe blue block is on top of the orange block, the orange block is on\\u003cbr\\u003ethe table, and the yellow block is on the table.\\\",\\u003cbr\\u003e    \\\"Q\\\": \\\"-1.1437392234802246\\\",\\u003cbr\\u003e    \\\"intuition\\\": \\\"-2.2874784\\\",\\u003cbr\\u003e    \\\"goal_reached\\\": \\\"(False, 0.0)\\\"\\u003cbr\\u003e}\",\"{\\u003cbr\\u003e    \\\"blocks_state\\\": \\\"None\\\",\\u003cbr\\u003e    \\\"Q\\\": \\\"-0.9808130264282227\\\",\\u003cbr\\u003e    \\\"intuition\\\": \\\"-1.961626\\\"\\u003cbr\\u003e}\",\"{\\u003cbr\\u003e    \\\"blocks_state\\\": \\\"None\\\",\\u003cbr\\u003e    \\\"Q\\\": \\\"-2.6453638076782227\\\",\\u003cbr\\u003e    \\\"intuition\\\": \\\"-5.2907276\\\"\\u003cbr\\u003e}\",\"{\\u003cbr\\u003e    \\\"blocks_state\\\": \\\"None\\\",\\u003cbr\\u003e    \\\"Q\\\": \\\"-0.8428349494934082\\\",\\u003cbr\\u003e    \\\"intuition\\\": \\\"-1.6856699\\\"\\u003cbr\\u003e}\",\"{\\u003cbr\\u003e    \\\"blocks_state\\\": \\\"None\\\",\\u003cbr\\u003e    \\\"Q\\\": \\\"-1.4843764305114746\\\",\\u003cbr\\u003e    \\\"intuition\\\": \\\"-2.9687529\\\"\\u003cbr\\u003e}\",\"{\\u003cbr\\u003e    \\\"blocks_state\\\": \\\"the red block is clear, the yellow block is in\\u003cbr\\u003ethe hand, the hand is holding the yellow block, the blue block is on\\u003cbr\\u003etop of the orange block, the red block is on top of the blue block,\\u003cbr\\u003eand the orange block is on the table.\\\",\\u003cbr\\u003e    \\\"Q\\\": \\\"-2.5192155838012695\\\",\\u003cbr\\u003e    \\\"intuition\\\": \\\"-1.9560556\\\",\\u003cbr\\u003e    \\\"goal_reached\\\": \\\"(False, 0.0)\\\"\\u003cbr\\u003e}\",\"{\\u003cbr\\u003e    \\\"blocks_state\\\": \\\"the yellow block is clear, the hand is empty, the\\u003cbr\\u003eblue block is on top of the orange block, the red block is on top of\\u003cbr\\u003ethe blue block, the yellow block is on top of the red block, and the\\u003cbr\\u003eorange block is on the table.\\\",\\u003cbr\\u003e    \\\"Q\\\": \\\"-1.5411877632141113\\\",\\u003cbr\\u003e    \\\"intuition\\\": \\\"-0.7195759\\\",\\u003cbr\\u003e    \\\"goal_reached\\\": \\\"(False, 0.0)\\\"\\u003cbr\\u003e}\",\"{\\u003cbr\\u003e    \\\"blocks_state\\\": \\\"None\\\",\\u003cbr\\u003e    \\\"Q\\\": \\\"-0.9721155166625977\\\",\\u003cbr\\u003e    \\\"intuition\\\": \\\"-1.944231\\\"\\u003cbr\\u003e}\",\"{\\u003cbr\\u003e    \\\"blocks_state\\\": \\\"the red block is clear, the yellow block is in\\u003cbr\\u003ethe hand, the hand is holding the yellow block, the blue block is on\\u003cbr\\u003etop of the orange block, the red block is on top of the blue block,\\u003cbr\\u003eand the orange block is on the table.\\\",\\u003cbr\\u003e    \\\"Q\\\": \\\"-1.1813998222351074\\\",\\u003cbr\\u003e    \\\"intuition\\\": \\\"-2.3627996\\\",\\u003cbr\\u003e    \\\"goal_reached\\\": \\\"(False, 0.0)\\\"\\u003cbr\\u003e}\",\"{\\u003cbr\\u003e    \\\"blocks_state\\\": \\\"None\\\",\\u003cbr\\u003e    \\\"Q\\\": \\\"-1.9058856964111328\\\",\\u003cbr\\u003e    \\\"intuition\\\": \\\"-3.8117714\\\"\\u003cbr\\u003e}\",\"{\\u003cbr\\u003e    \\\"blocks_state\\\": \\\"None\\\",\\u003cbr\\u003e    \\\"Q\\\": \\\"-0.7234196662902832\\\",\\u003cbr\\u003e    \\\"intuition\\\": \\\"-1.4468393\\\"\\u003cbr\\u003e}\",\"{\\u003cbr\\u003e    \\\"blocks_state\\\": \\\"the red block is clear, the yellow block is in\\u003cbr\\u003ethe hand, the hand is holding the yellow block, the blue block is on\\u003cbr\\u003etop of the orange block, the red block is on top of the blue block,\\u003cbr\\u003eand the orange block is on the table.\\\",\\u003cbr\\u003e    \\\"Q\\\": \\\"-1.1813998222351074\\\",\\u003cbr\\u003e    \\\"intuition\\\": \\\"-2.3627996\\\",\\u003cbr\\u003e    \\\"goal_reached\\\": \\\"(False, 0.0)\\\"\\u003cbr\\u003e}\",\"{\\u003cbr\\u003e    \\\"blocks_state\\\": \\\"None\\\",\\u003cbr\\u003e    \\\"Q\\\": \\\"-1.9058856964111328\\\",\\u003cbr\\u003e    \\\"intuition\\\": \\\"-3.8117714\\\"\\u003cbr\\u003e}\",\"{\\u003cbr\\u003e    \\\"blocks_state\\\": \\\"None\\\",\\u003cbr\\u003e    \\\"Q\\\": \\\"-0.7234196662902832\\\",\\u003cbr\\u003e    \\\"intuition\\\": \\\"-1.4468393\\\"\\u003cbr\\u003e}\",\"{\\u003cbr\\u003e    \\\"blocks_state\\\": \\\"None\\\",\\u003cbr\\u003e    \\\"Q\\\": \\\"-1.4843764305114746\\\",\\u003cbr\\u003e    \\\"intuition\\\": \\\"-2.9687529\\\"\\u003cbr\\u003e}\",\"{\\u003cbr\\u003e    \\\"blocks_state\\\": \\\"the red block is clear, the yellow block is in\\u003cbr\\u003ethe hand, the hand is holding the yellow block, the blue block is on\\u003cbr\\u003etop of the orange block, the red block is on top of the blue block,\\u003cbr\\u003eand the orange block is on the table.\\\",\\u003cbr\\u003e    \\\"Q\\\": \\\"-0.9780278205871582\\\",\\u003cbr\\u003e    \\\"intuition\\\": \\\"-1.9560556\\\",\\u003cbr\\u003e    \\\"goal_reached\\\": \\\"(False, 0.0)\\\"\\u003cbr\\u003e}\",\"{\\u003cbr\\u003e    \\\"blocks_state\\\": \\\"None\\\",\\u003cbr\\u003e    \\\"Q\\\": \\\"-0.3597879409790039\\\",\\u003cbr\\u003e    \\\"intuition\\\": \\\"-0.7195759\\\"\\u003cbr\\u003e}\",\"{\\u003cbr\\u003e    \\\"blocks_state\\\": \\\"None\\\",\\u003cbr\\u003e    \\\"Q\\\": \\\"-0.9721155166625977\\\",\\u003cbr\\u003e    \\\"intuition\\\": \\\"-1.944231\\\"\\u003cbr\\u003e}\",\"{\\u003cbr\\u003e    \\\"blocks_state\\\": \\\"None\\\",\\u003cbr\\u003e    \\\"Q\\\": \\\"-1.3153080940246582\\\",\\u003cbr\\u003e    \\\"intuition\\\": \\\"-2.6306162\\\"\\u003cbr\\u003e}\",\"{\\u003cbr\\u003e    \\\"blocks_state\\\": \\\"None\\\",\\u003cbr\\u003e    \\\"Q\\\": \\\"-1.4418954849243164\\\",\\u003cbr\\u003e    \\\"intuition\\\": \\\"-2.883791\\\"\\u003cbr\\u003e}\",\"{\\u003cbr\\u003e    \\\"blocks_state\\\": \\\"the blue block is clear, the red block is clear,\\u003cbr\\u003ethe yellow block is in the hand, the hand is holding the yellow block,\\u003cbr\\u003ethe blue block is on top of the orange block, the orange block is on\\u003cbr\\u003ethe table, and the red block is on the table.\\\",\\u003cbr\\u003e    \\\"Q\\\": \\\"-0.8793954849243164\\\",\\u003cbr\\u003e    \\\"intuition\\\": \\\"-1.758791\\\",\\u003cbr\\u003e    \\\"goal_reached\\\": \\\"(False, 0.0)\\\"\\u003cbr\\u003e}\",\"{\\u003cbr\\u003e    \\\"blocks_state\\\": \\\"None\\\",\\u003cbr\\u003e    \\\"Q\\\": \\\"-1.7976388931274414\\\",\\u003cbr\\u003e    \\\"intuition\\\": \\\"-3.5952778\\\"\\u003cbr\\u003e}\",\"{\\u003cbr\\u003e    \\\"blocks_state\\\": \\\"None\\\",\\u003cbr\\u003e    \\\"Q\\\": \\\"-0.3911447525024414\\\",\\u003cbr\\u003e    \\\"intuition\\\": \\\"-0.7822895\\\"\\u003cbr\\u003e}\",\"{\\u003cbr\\u003e    \\\"blocks_state\\\": \\\"None\\\",\\u003cbr\\u003e    \\\"Q\\\": \\\"-1.0779657363891602\\\",\\u003cbr\\u003e    \\\"intuition\\\": \\\"-2.1559315\\\"\\u003cbr\\u003e}\"],\"x\":[20.921875,23.375,18.46875,23.375,13.5625,23.375,8.5,38.25,39.0,37.5,38.0,37.0,12.125,34.625,24.25,36.0,33.25,35.0,34.0,31.5,33.0,32.0,30.0,31.0,30.0,29.0,10.25,16.875,27.5,6.25,27.5,28.0,27.0,26.0,25.0,22.5,24.0,21.0,23.0,20.0,22.0,21.0,20.0,19.0,18.0,16.0,2.5,17.0,15.0,16.0,15.0,14.0,13.0,11.25,10.5,12.0,10.5,11.0,10.0,8.5,9.0,8.0,7.0,5.5,6.0,5.0,4.0,3.0,1.0,2.0,1.0,0.0],\"y\":[0.0,-1.0,-1.0,-2.0,-2.0,-3.0,-4.0,-4.0,-5.0,-5.0,-6.0,-6.0,-2.0,-2.0,-2.0,-3.0,-3.0,-4.0,-4.0,-4.0,-5.0,-5.0,-5.0,-6.0,-6.0,-6.0,-3.0,-3.0,-4.0,-4.0,-5.0,-6.0,-6.0,-3.0,-3.0,-3.0,-4.0,-4.0,-4.0,-5.0,-5.0,-6.0,-6.0,-6.0,-4.0,-4.0,-4.0,-5.0,-5.0,-6.0,-6.0,-6.0,-3.0,-3.0,-4.0,-4.0,-5.0,-6.0,-6.0,-5.0,-6.0,-6.0,-5.0,-5.0,-6.0,-6.0,-5.0,-5.0,-5.0,-6.0,-6.0,-6.0],\"type\":\"scatter\"}],                        {\"template\":{\"data\":{\"histogram2dcontour\":[{\"type\":\"histogram2dcontour\",\"colorbar\":{\"outlinewidth\":0,\"ticks\":\"\"},\"colorscale\":[[0.0,\"#0d0887\"],[0.1111111111111111,\"#46039f\"],[0.2222222222222222,\"#7201a8\"],[0.3333333333333333,\"#9c179e\"],[0.4444444444444444,\"#bd3786\"],[0.5555555555555556,\"#d8576b\"],[0.6666666666666666,\"#ed7953\"],[0.7777777777777778,\"#fb9f3a\"],[0.8888888888888888,\"#fdca26\"],[1.0,\"#f0f921\"]]}],\"choropleth\":[{\"type\":\"choropleth\",\"colorbar\":{\"outlinewidth\":0,\"ticks\":\"\"}}],\"histogram2d\":[{\"type\":\"histogram2d\",\"colorbar\":{\"outlinewidth\":0,\"ticks\":\"\"},\"colorscale\":[[0.0,\"#0d0887\"],[0.1111111111111111,\"#46039f\"],[0.2222222222222222,\"#7201a8\"],[0.3333333333333333,\"#9c179e\"],[0.4444444444444444,\"#bd3786\"],[0.5555555555555556,\"#d8576b\"],[0.6666666666666666,\"#ed7953\"],[0.7777777777777778,\"#fb9f3a\"],[0.8888888888888888,\"#fdca26\"],[1.0,\"#f0f921\"]]}],\"heatmap\":[{\"type\":\"heatmap\",\"colorbar\":{\"outlinewidth\":0,\"ticks\":\"\"},\"colorscale\":[[0.0,\"#0d0887\"],[0.1111111111111111,\"#46039f\"],[0.2222222222222222,\"#7201a8\"],[0.3333333333333333,\"#9c179e\"],[0.4444444444444444,\"#bd3786\"],[0.5555555555555556,\"#d8576b\"],[0.6666666666666666,\"#ed7953\"],[0.7777777777777778,\"#fb9f3a\"],[0.8888888888888888,\"#fdca26\"],[1.0,\"#f0f921\"]]}],\"heatmapgl\":[{\"type\":\"heatmapgl\",\"colorbar\":{\"outlinewidth\":0,\"ticks\":\"\"},\"colorscale\":[[0.0,\"#0d0887\"],[0.1111111111111111,\"#46039f\"],[0.2222222222222222,\"#7201a8\"],[0.3333333333333333,\"#9c179e\"],[0.4444444444444444,\"#bd3786\"],[0.5555555555555556,\"#d8576b\"],[0.6666666666666666,\"#ed7953\"],[0.7777777777777778,\"#fb9f3a\"],[0.8888888888888888,\"#fdca26\"],[1.0,\"#f0f921\"]]}],\"contourcarpet\":[{\"type\":\"contourcarpet\",\"colorbar\":{\"outlinewidth\":0,\"ticks\":\"\"}}],\"contour\":[{\"type\":\"contour\",\"colorbar\":{\"outlinewidth\":0,\"ticks\":\"\"},\"colorscale\":[[0.0,\"#0d0887\"],[0.1111111111111111,\"#46039f\"],[0.2222222222222222,\"#7201a8\"],[0.3333333333333333,\"#9c179e\"],[0.4444444444444444,\"#bd3786\"],[0.5555555555555556,\"#d8576b\"],[0.6666666666666666,\"#ed7953\"],[0.7777777777777778,\"#fb9f3a\"],[0.8888888888888888,\"#fdca26\"],[1.0,\"#f0f921\"]]}],\"surface\":[{\"type\":\"surface\",\"colorbar\":{\"outlinewidth\":0,\"ticks\":\"\"},\"colorscale\":[[0.0,\"#0d0887\"],[0.1111111111111111,\"#46039f\"],[0.2222222222222222,\"#7201a8\"],[0.3333333333333333,\"#9c179e\"],[0.4444444444444444,\"#bd3786\"],[0.5555555555555556,\"#d8576b\"],[0.6666666666666666,\"#ed7953\"],[0.7777777777777778,\"#fb9f3a\"],[0.8888888888888888,\"#fdca26\"],[1.0,\"#f0f921\"]]}],\"mesh3d\":[{\"type\":\"mesh3d\",\"colorbar\":{\"outlinewidth\":0,\"ticks\":\"\"}}],\"scatter\":[{\"fillpattern\":{\"fillmode\":\"overlay\",\"size\":10,\"solidity\":0.2},\"type\":\"scatter\"}],\"parcoords\":[{\"type\":\"parcoords\",\"line\":{\"colorbar\":{\"outlinewidth\":0,\"ticks\":\"\"}}}],\"scatterpolargl\":[{\"type\":\"scatterpolargl\",\"marker\":{\"colorbar\":{\"outlinewidth\":0,\"ticks\":\"\"}}}],\"bar\":[{\"error_x\":{\"color\":\"#2a3f5f\"},\"error_y\":{\"color\":\"#2a3f5f\"},\"marker\":{\"line\":{\"color\":\"#E5ECF6\",\"width\":0.5},\"pattern\":{\"fillmode\":\"overlay\",\"size\":10,\"solidity\":0.2}},\"type\":\"bar\"}],\"scattergeo\":[{\"type\":\"scattergeo\",\"marker\":{\"colorbar\":{\"outlinewidth\":0,\"ticks\":\"\"}}}],\"scatterpolar\":[{\"type\":\"scatterpolar\",\"marker\":{\"colorbar\":{\"outlinewidth\":0,\"ticks\":\"\"}}}],\"histogram\":[{\"marker\":{\"pattern\":{\"fillmode\":\"overlay\",\"size\":10,\"solidity\":0.2}},\"type\":\"histogram\"}],\"scattergl\":[{\"type\":\"scattergl\",\"marker\":{\"colorbar\":{\"outlinewidth\":0,\"ticks\":\"\"}}}],\"scatter3d\":[{\"type\":\"scatter3d\",\"line\":{\"colorbar\":{\"outlinewidth\":0,\"ticks\":\"\"}},\"marker\":{\"colorbar\":{\"outlinewidth\":0,\"ticks\":\"\"}}}],\"scattermapbox\":[{\"type\":\"scattermapbox\",\"marker\":{\"colorbar\":{\"outlinewidth\":0,\"ticks\":\"\"}}}],\"scatterternary\":[{\"type\":\"scatterternary\",\"marker\":{\"colorbar\":{\"outlinewidth\":0,\"ticks\":\"\"}}}],\"scattercarpet\":[{\"type\":\"scattercarpet\",\"marker\":{\"colorbar\":{\"outlinewidth\":0,\"ticks\":\"\"}}}],\"carpet\":[{\"aaxis\":{\"endlinecolor\":\"#2a3f5f\",\"gridcolor\":\"white\",\"linecolor\":\"white\",\"minorgridcolor\":\"white\",\"startlinecolor\":\"#2a3f5f\"},\"baxis\":{\"endlinecolor\":\"#2a3f5f\",\"gridcolor\":\"white\",\"linecolor\":\"white\",\"minorgridcolor\":\"white\",\"startlinecolor\":\"#2a3f5f\"},\"type\":\"carpet\"}],\"table\":[{\"cells\":{\"fill\":{\"color\":\"#EBF0F8\"},\"line\":{\"color\":\"white\"}},\"header\":{\"fill\":{\"color\":\"#C8D4E3\"},\"line\":{\"color\":\"white\"}},\"type\":\"table\"}],\"barpolar\":[{\"marker\":{\"line\":{\"color\":\"#E5ECF6\",\"width\":0.5},\"pattern\":{\"fillmode\":\"overlay\",\"size\":10,\"solidity\":0.2}},\"type\":\"barpolar\"}],\"pie\":[{\"automargin\":true,\"type\":\"pie\"}]},\"layout\":{\"autotypenumbers\":\"strict\",\"colorway\":[\"#636efa\",\"#EF553B\",\"#00cc96\",\"#ab63fa\",\"#FFA15A\",\"#19d3f3\",\"#FF6692\",\"#B6E880\",\"#FF97FF\",\"#FECB52\"],\"font\":{\"color\":\"#2a3f5f\"},\"hovermode\":\"closest\",\"hoverlabel\":{\"align\":\"left\"},\"paper_bgcolor\":\"white\",\"plot_bgcolor\":\"#E5ECF6\",\"polar\":{\"bgcolor\":\"#E5ECF6\",\"angularaxis\":{\"gridcolor\":\"white\",\"linecolor\":\"white\",\"ticks\":\"\"},\"radialaxis\":{\"gridcolor\":\"white\",\"linecolor\":\"white\",\"ticks\":\"\"}},\"ternary\":{\"bgcolor\":\"#E5ECF6\",\"aaxis\":{\"gridcolor\":\"white\",\"linecolor\":\"white\",\"ticks\":\"\"},\"baxis\":{\"gridcolor\":\"white\",\"linecolor\":\"white\",\"ticks\":\"\"},\"caxis\":{\"gridcolor\":\"white\",\"linecolor\":\"white\",\"ticks\":\"\"}},\"coloraxis\":{\"colorbar\":{\"outlinewidth\":0,\"ticks\":\"\"}},\"colorscale\":{\"sequential\":[[0.0,\"#0d0887\"],[0.1111111111111111,\"#46039f\"],[0.2222222222222222,\"#7201a8\"],[0.3333333333333333,\"#9c179e\"],[0.4444444444444444,\"#bd3786\"],[0.5555555555555556,\"#d8576b\"],[0.6666666666666666,\"#ed7953\"],[0.7777777777777778,\"#fb9f3a\"],[0.8888888888888888,\"#fdca26\"],[1.0,\"#f0f921\"]],\"sequentialminus\":[[0.0,\"#0d0887\"],[0.1111111111111111,\"#46039f\"],[0.2222222222222222,\"#7201a8\"],[0.3333333333333333,\"#9c179e\"],[0.4444444444444444,\"#bd3786\"],[0.5555555555555556,\"#d8576b\"],[0.6666666666666666,\"#ed7953\"],[0.7777777777777778,\"#fb9f3a\"],[0.8888888888888888,\"#fdca26\"],[1.0,\"#f0f921\"]],\"diverging\":[[0,\"#8e0152\"],[0.1,\"#c51b7d\"],[0.2,\"#de77ae\"],[0.3,\"#f1b6da\"],[0.4,\"#fde0ef\"],[0.5,\"#f7f7f7\"],[0.6,\"#e6f5d0\"],[0.7,\"#b8e186\"],[0.8,\"#7fbc41\"],[0.9,\"#4d9221\"],[1,\"#276419\"]]},\"xaxis\":{\"gridcolor\":\"white\",\"linecolor\":\"white\",\"ticks\":\"\",\"title\":{\"standoff\":15},\"zerolinecolor\":\"white\",\"automargin\":true,\"zerolinewidth\":2},\"yaxis\":{\"gridcolor\":\"white\",\"linecolor\":\"white\",\"ticks\":\"\",\"title\":{\"standoff\":15},\"zerolinecolor\":\"white\",\"automargin\":true,\"zerolinewidth\":2},\"scene\":{\"xaxis\":{\"backgroundcolor\":\"#E5ECF6\",\"gridcolor\":\"white\",\"linecolor\":\"white\",\"showbackground\":true,\"ticks\":\"\",\"zerolinecolor\":\"white\",\"gridwidth\":2},\"yaxis\":{\"backgroundcolor\":\"#E5ECF6\",\"gridcolor\":\"white\",\"linecolor\":\"white\",\"showbackground\":true,\"ticks\":\"\",\"zerolinecolor\":\"white\",\"gridwidth\":2},\"zaxis\":{\"backgroundcolor\":\"#E5ECF6\",\"gridcolor\":\"white\",\"linecolor\":\"white\",\"showbackground\":true,\"ticks\":\"\",\"zerolinecolor\":\"white\",\"gridwidth\":2}},\"shapedefaults\":{\"line\":{\"color\":\"#2a3f5f\"}},\"annotationdefaults\":{\"arrowcolor\":\"#2a3f5f\",\"arrowhead\":0,\"arrowwidth\":1},\"geo\":{\"bgcolor\":\"white\",\"landcolor\":\"#E5ECF6\",\"subunitcolor\":\"white\",\"showland\":true,\"showlakes\":true,\"lakecolor\":\"white\"},\"title\":{\"x\":0.05},\"mapbox\":{\"style\":\"light\"}}},\"font\":{\"size\":12},\"xaxis\":{\"showline\":false,\"zeroline\":false,\"showgrid\":false,\"showticklabels\":false},\"yaxis\":{\"showline\":false,\"zeroline\":false,\"showgrid\":false,\"showticklabels\":false},\"margin\":{\"l\":10,\"r\":10,\"b\":10,\"t\":10},\"annotations\":[{\"font\":{\"color\":\"rgb(250,250,250)\",\"size\":10},\"showarrow\":false,\"text\":\"0\",\"x\":20.921875,\"xref\":\"x\",\"y\":0.0,\"yref\":\"y\"},{\"font\":{\"color\":\"rgb(250,250,250)\",\"size\":10},\"showarrow\":false,\"text\":\"1\",\"x\":23.375,\"xref\":\"x\",\"y\":-1.0,\"yref\":\"y\"},{\"font\":{\"color\":\"rgb(250,250,250)\",\"size\":10},\"showarrow\":false,\"text\":\"2\",\"x\":18.46875,\"xref\":\"x\",\"y\":-1.0,\"yref\":\"y\"},{\"font\":{\"color\":\"rgb(250,250,250)\",\"size\":10},\"showarrow\":false,\"text\":\"3\",\"x\":23.375,\"xref\":\"x\",\"y\":-2.0,\"yref\":\"y\"},{\"font\":{\"color\":\"rgb(250,250,250)\",\"size\":10},\"showarrow\":false,\"text\":\"4\",\"x\":13.5625,\"xref\":\"x\",\"y\":-2.0,\"yref\":\"y\"},{\"font\":{\"color\":\"rgb(250,250,250)\",\"size\":10},\"showarrow\":false,\"text\":\"5\",\"x\":23.375,\"xref\":\"x\",\"y\":-3.0,\"yref\":\"y\"},{\"font\":{\"color\":\"rgb(250,250,250)\",\"size\":10},\"showarrow\":false,\"text\":\"6\",\"x\":8.5,\"xref\":\"x\",\"y\":-4.0,\"yref\":\"y\"},{\"font\":{\"color\":\"rgb(250,250,250)\",\"size\":10},\"showarrow\":false,\"text\":\"7\",\"x\":38.25,\"xref\":\"x\",\"y\":-4.0,\"yref\":\"y\"},{\"font\":{\"color\":\"rgb(250,250,250)\",\"size\":10},\"showarrow\":false,\"text\":\"8\",\"x\":39.0,\"xref\":\"x\",\"y\":-5.0,\"yref\":\"y\"},{\"font\":{\"color\":\"rgb(250,250,250)\",\"size\":10},\"showarrow\":false,\"text\":\"9\",\"x\":37.5,\"xref\":\"x\",\"y\":-5.0,\"yref\":\"y\"},{\"font\":{\"color\":\"rgb(250,250,250)\",\"size\":10},\"showarrow\":false,\"text\":\"10\",\"x\":38.0,\"xref\":\"x\",\"y\":-6.0,\"yref\":\"y\"},{\"font\":{\"color\":\"rgb(250,250,250)\",\"size\":10},\"showarrow\":false,\"text\":\"11\",\"x\":37.0,\"xref\":\"x\",\"y\":-6.0,\"yref\":\"y\"},{\"font\":{\"color\":\"rgb(250,250,250)\",\"size\":10},\"showarrow\":false,\"text\":\"12\",\"x\":12.125,\"xref\":\"x\",\"y\":-2.0,\"yref\":\"y\"},{\"font\":{\"color\":\"rgb(250,250,250)\",\"size\":10},\"showarrow\":false,\"text\":\"13\",\"x\":34.625,\"xref\":\"x\",\"y\":-2.0,\"yref\":\"y\"},{\"font\":{\"color\":\"rgb(250,250,250)\",\"size\":10},\"showarrow\":false,\"text\":\"14\",\"x\":24.25,\"xref\":\"x\",\"y\":-2.0,\"yref\":\"y\"},{\"font\":{\"color\":\"rgb(250,250,250)\",\"size\":10},\"showarrow\":false,\"text\":\"15\",\"x\":36.0,\"xref\":\"x\",\"y\":-3.0,\"yref\":\"y\"},{\"font\":{\"color\":\"rgb(250,250,250)\",\"size\":10},\"showarrow\":false,\"text\":\"16\",\"x\":33.25,\"xref\":\"x\",\"y\":-3.0,\"yref\":\"y\"},{\"font\":{\"color\":\"rgb(250,250,250)\",\"size\":10},\"showarrow\":false,\"text\":\"17\",\"x\":35.0,\"xref\":\"x\",\"y\":-4.0,\"yref\":\"y\"},{\"font\":{\"color\":\"rgb(250,250,250)\",\"size\":10},\"showarrow\":false,\"text\":\"18\",\"x\":34.0,\"xref\":\"x\",\"y\":-4.0,\"yref\":\"y\"},{\"font\":{\"color\":\"rgb(250,250,250)\",\"size\":10},\"showarrow\":false,\"text\":\"19\",\"x\":31.5,\"xref\":\"x\",\"y\":-4.0,\"yref\":\"y\"},{\"font\":{\"color\":\"rgb(250,250,250)\",\"size\":10},\"showarrow\":false,\"text\":\"20\",\"x\":33.0,\"xref\":\"x\",\"y\":-5.0,\"yref\":\"y\"},{\"font\":{\"color\":\"rgb(250,250,250)\",\"size\":10},\"showarrow\":false,\"text\":\"21\",\"x\":32.0,\"xref\":\"x\",\"y\":-5.0,\"yref\":\"y\"},{\"font\":{\"color\":\"rgb(250,250,250)\",\"size\":10},\"showarrow\":false,\"text\":\"22\",\"x\":30.0,\"xref\":\"x\",\"y\":-5.0,\"yref\":\"y\"},{\"font\":{\"color\":\"rgb(250,250,250)\",\"size\":10},\"showarrow\":false,\"text\":\"23\",\"x\":31.0,\"xref\":\"x\",\"y\":-6.0,\"yref\":\"y\"},{\"font\":{\"color\":\"rgb(250,250,250)\",\"size\":10},\"showarrow\":false,\"text\":\"24\",\"x\":30.0,\"xref\":\"x\",\"y\":-6.0,\"yref\":\"y\"},{\"font\":{\"color\":\"rgb(250,250,250)\",\"size\":10},\"showarrow\":false,\"text\":\"25\",\"x\":29.0,\"xref\":\"x\",\"y\":-6.0,\"yref\":\"y\"},{\"font\":{\"color\":\"rgb(250,250,250)\",\"size\":10},\"showarrow\":false,\"text\":\"26\",\"x\":10.25,\"xref\":\"x\",\"y\":-3.0,\"yref\":\"y\"},{\"font\":{\"color\":\"rgb(250,250,250)\",\"size\":10},\"showarrow\":false,\"text\":\"27\",\"x\":16.875,\"xref\":\"x\",\"y\":-3.0,\"yref\":\"y\"},{\"font\":{\"color\":\"rgb(250,250,250)\",\"size\":10},\"showarrow\":false,\"text\":\"28\",\"x\":27.5,\"xref\":\"x\",\"y\":-4.0,\"yref\":\"y\"},{\"font\":{\"color\":\"rgb(250,250,250)\",\"size\":10},\"showarrow\":false,\"text\":\"29\",\"x\":6.25,\"xref\":\"x\",\"y\":-4.0,\"yref\":\"y\"},{\"font\":{\"color\":\"rgb(250,250,250)\",\"size\":10},\"showarrow\":false,\"text\":\"30\",\"x\":27.5,\"xref\":\"x\",\"y\":-5.0,\"yref\":\"y\"},{\"font\":{\"color\":\"rgb(250,250,250)\",\"size\":10},\"showarrow\":false,\"text\":\"31\",\"x\":28.0,\"xref\":\"x\",\"y\":-6.0,\"yref\":\"y\"},{\"font\":{\"color\":\"rgb(250,250,250)\",\"size\":10},\"showarrow\":false,\"text\":\"32\",\"x\":27.0,\"xref\":\"x\",\"y\":-6.0,\"yref\":\"y\"},{\"font\":{\"color\":\"rgb(250,250,250)\",\"size\":10},\"showarrow\":false,\"text\":\"33\",\"x\":26.0,\"xref\":\"x\",\"y\":-3.0,\"yref\":\"y\"},{\"font\":{\"color\":\"rgb(250,250,250)\",\"size\":10},\"showarrow\":false,\"text\":\"34\",\"x\":25.0,\"xref\":\"x\",\"y\":-3.0,\"yref\":\"y\"},{\"font\":{\"color\":\"rgb(250,250,250)\",\"size\":10},\"showarrow\":false,\"text\":\"35\",\"x\":22.5,\"xref\":\"x\",\"y\":-3.0,\"yref\":\"y\"},{\"font\":{\"color\":\"rgb(250,250,250)\",\"size\":10},\"showarrow\":false,\"text\":\"36\",\"x\":24.0,\"xref\":\"x\",\"y\":-4.0,\"yref\":\"y\"},{\"font\":{\"color\":\"rgb(250,250,250)\",\"size\":10},\"showarrow\":false,\"text\":\"37\",\"x\":21.0,\"xref\":\"x\",\"y\":-4.0,\"yref\":\"y\"},{\"font\":{\"color\":\"rgb(250,250,250)\",\"size\":10},\"showarrow\":false,\"text\":\"38\",\"x\":23.0,\"xref\":\"x\",\"y\":-4.0,\"yref\":\"y\"},{\"font\":{\"color\":\"rgb(250,250,250)\",\"size\":10},\"showarrow\":false,\"text\":\"39\",\"x\":20.0,\"xref\":\"x\",\"y\":-5.0,\"yref\":\"y\"},{\"font\":{\"color\":\"rgb(250,250,250)\",\"size\":10},\"showarrow\":false,\"text\":\"40\",\"x\":22.0,\"xref\":\"x\",\"y\":-5.0,\"yref\":\"y\"},{\"font\":{\"color\":\"rgb(250,250,250)\",\"size\":10},\"showarrow\":false,\"text\":\"41\",\"x\":21.0,\"xref\":\"x\",\"y\":-6.0,\"yref\":\"y\"},{\"font\":{\"color\":\"rgb(250,250,250)\",\"size\":10},\"showarrow\":false,\"text\":\"42\",\"x\":20.0,\"xref\":\"x\",\"y\":-6.0,\"yref\":\"y\"},{\"font\":{\"color\":\"rgb(250,250,250)\",\"size\":10},\"showarrow\":false,\"text\":\"43\",\"x\":19.0,\"xref\":\"x\",\"y\":-6.0,\"yref\":\"y\"},{\"font\":{\"color\":\"rgb(250,250,250)\",\"size\":10},\"showarrow\":false,\"text\":\"44\",\"x\":18.0,\"xref\":\"x\",\"y\":-4.0,\"yref\":\"y\"},{\"font\":{\"color\":\"rgb(250,250,250)\",\"size\":10},\"showarrow\":false,\"text\":\"45\",\"x\":16.0,\"xref\":\"x\",\"y\":-4.0,\"yref\":\"y\"},{\"font\":{\"color\":\"rgb(250,250,250)\",\"size\":10},\"showarrow\":false,\"text\":\"46\",\"x\":2.5,\"xref\":\"x\",\"y\":-4.0,\"yref\":\"y\"},{\"font\":{\"color\":\"rgb(250,250,250)\",\"size\":10},\"showarrow\":false,\"text\":\"47\",\"x\":17.0,\"xref\":\"x\",\"y\":-5.0,\"yref\":\"y\"},{\"font\":{\"color\":\"rgb(250,250,250)\",\"size\":10},\"showarrow\":false,\"text\":\"48\",\"x\":15.0,\"xref\":\"x\",\"y\":-5.0,\"yref\":\"y\"},{\"font\":{\"color\":\"rgb(250,250,250)\",\"size\":10},\"showarrow\":false,\"text\":\"49\",\"x\":16.0,\"xref\":\"x\",\"y\":-6.0,\"yref\":\"y\"},{\"font\":{\"color\":\"rgb(250,250,250)\",\"size\":10},\"showarrow\":false,\"text\":\"50\",\"x\":15.0,\"xref\":\"x\",\"y\":-6.0,\"yref\":\"y\"},{\"font\":{\"color\":\"rgb(250,250,250)\",\"size\":10},\"showarrow\":false,\"text\":\"51\",\"x\":14.0,\"xref\":\"x\",\"y\":-6.0,\"yref\":\"y\"},{\"font\":{\"color\":\"rgb(250,250,250)\",\"size\":10},\"showarrow\":false,\"text\":\"52\",\"x\":13.0,\"xref\":\"x\",\"y\":-3.0,\"yref\":\"y\"},{\"font\":{\"color\":\"rgb(250,250,250)\",\"size\":10},\"showarrow\":false,\"text\":\"53\",\"x\":11.25,\"xref\":\"x\",\"y\":-3.0,\"yref\":\"y\"},{\"font\":{\"color\":\"rgb(250,250,250)\",\"size\":10},\"showarrow\":false,\"text\":\"54\",\"x\":10.5,\"xref\":\"x\",\"y\":-4.0,\"yref\":\"y\"},{\"font\":{\"color\":\"rgb(250,250,250)\",\"size\":10},\"showarrow\":false,\"text\":\"55\",\"x\":12.0,\"xref\":\"x\",\"y\":-4.0,\"yref\":\"y\"},{\"font\":{\"color\":\"rgb(250,250,250)\",\"size\":10},\"showarrow\":false,\"text\":\"56\",\"x\":10.5,\"xref\":\"x\",\"y\":-5.0,\"yref\":\"y\"},{\"font\":{\"color\":\"rgb(250,250,250)\",\"size\":10},\"showarrow\":false,\"text\":\"57\",\"x\":11.0,\"xref\":\"x\",\"y\":-6.0,\"yref\":\"y\"},{\"font\":{\"color\":\"rgb(250,250,250)\",\"size\":10},\"showarrow\":false,\"text\":\"58\",\"x\":10.0,\"xref\":\"x\",\"y\":-6.0,\"yref\":\"y\"},{\"font\":{\"color\":\"rgb(250,250,250)\",\"size\":10},\"showarrow\":false,\"text\":\"59\",\"x\":8.5,\"xref\":\"x\",\"y\":-5.0,\"yref\":\"y\"},{\"font\":{\"color\":\"rgb(250,250,250)\",\"size\":10},\"showarrow\":false,\"text\":\"60\",\"x\":9.0,\"xref\":\"x\",\"y\":-6.0,\"yref\":\"y\"},{\"font\":{\"color\":\"rgb(250,250,250)\",\"size\":10},\"showarrow\":false,\"text\":\"61\",\"x\":8.0,\"xref\":\"x\",\"y\":-6.0,\"yref\":\"y\"},{\"font\":{\"color\":\"rgb(250,250,250)\",\"size\":10},\"showarrow\":false,\"text\":\"62\",\"x\":7.0,\"xref\":\"x\",\"y\":-5.0,\"yref\":\"y\"},{\"font\":{\"color\":\"rgb(250,250,250)\",\"size\":10},\"showarrow\":false,\"text\":\"63\",\"x\":5.5,\"xref\":\"x\",\"y\":-5.0,\"yref\":\"y\"},{\"font\":{\"color\":\"rgb(250,250,250)\",\"size\":10},\"showarrow\":false,\"text\":\"64\",\"x\":6.0,\"xref\":\"x\",\"y\":-6.0,\"yref\":\"y\"},{\"font\":{\"color\":\"rgb(250,250,250)\",\"size\":10},\"showarrow\":false,\"text\":\"65\",\"x\":5.0,\"xref\":\"x\",\"y\":-6.0,\"yref\":\"y\"},{\"font\":{\"color\":\"rgb(250,250,250)\",\"size\":10},\"showarrow\":false,\"text\":\"66\",\"x\":4.0,\"xref\":\"x\",\"y\":-5.0,\"yref\":\"y\"},{\"font\":{\"color\":\"rgb(250,250,250)\",\"size\":10},\"showarrow\":false,\"text\":\"67\",\"x\":3.0,\"xref\":\"x\",\"y\":-5.0,\"yref\":\"y\"},{\"font\":{\"color\":\"rgb(250,250,250)\",\"size\":10},\"showarrow\":false,\"text\":\"68\",\"x\":1.0,\"xref\":\"x\",\"y\":-5.0,\"yref\":\"y\"},{\"font\":{\"color\":\"rgb(250,250,250)\",\"size\":10},\"showarrow\":false,\"text\":\"69\",\"x\":2.0,\"xref\":\"x\",\"y\":-6.0,\"yref\":\"y\"},{\"font\":{\"color\":\"rgb(250,250,250)\",\"size\":10},\"showarrow\":false,\"text\":\"70\",\"x\":1.0,\"xref\":\"x\",\"y\":-6.0,\"yref\":\"y\"},{\"font\":{\"color\":\"rgb(250,250,250)\",\"size\":10},\"showarrow\":false,\"text\":\"71\",\"x\":0.0,\"xref\":\"x\",\"y\":-6.0,\"yref\":\"y\"}],\"showlegend\":false,\"hovermode\":\"closest\",\"plot_bgcolor\":\"rgb(248,248,248)\"},                        {\"responsive\": true}                    ).then(function(){\n",
       "                            \n",
       "var gd = document.getElementById('9c383318-a1eb-4ccd-b537-df8d29ef2032');\n",
       "var x = new MutationObserver(function (mutations, observer) {{\n",
       "        var display = window.getComputedStyle(gd).display;\n",
       "        if (!display || display === 'none') {{\n",
       "            console.log([gd, 'removed!']);\n",
       "            Plotly.purge(gd);\n",
       "            observer.disconnect();\n",
       "        }}\n",
       "}});\n",
       "\n",
       "// Listen for the removal of the full notebook cells\n",
       "var notebookContainer = gd.closest('#notebook-container');\n",
       "if (notebookContainer) {{\n",
       "    x.observe(notebookContainer, {childList: true});\n",
       "}}\n",
       "\n",
       "// Listen for the clearing of the current output cell\n",
       "var outputEl = gd.closest('.output');\n",
       "if (outputEl) {{\n",
       "    x.observe(outputEl, {childList: true});\n",
       "}}\n",
       "\n",
       "                        })                };                });            </script>        </div>"
      ]
     },
     "metadata": {},
     "output_type": "display_data"
    }
   ],
   "source": [
    "nodes, edges = log.get_tree(-1).visualize()"
   ]
  },
  {
   "cell_type": "code",
   "execution_count": null,
   "metadata": {},
   "outputs": [],
   "source": []
  }
 ],
 "metadata": {
  "kernelspec": {
   "display_name": "rap",
   "language": "python",
   "name": "python3"
  },
  "language_info": {
   "codemirror_mode": {
    "name": "ipython",
    "version": 3
   },
   "file_extension": ".py",
   "mimetype": "text/x-python",
   "name": "python",
   "nbconvert_exporter": "python",
   "pygments_lexer": "ipython3",
   "version": "3.10.11"
  },
  "orig_nbformat": 4
 },
 "nbformat": 4,
 "nbformat_minor": 2
}
