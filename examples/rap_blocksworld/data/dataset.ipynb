{
 "cells": [
  {
   "cell_type": "code",
   "execution_count": 2,
   "metadata": {},
   "outputs": [],
   "source": [
    "import os, json"
   ]
  },
  {
   "cell_type": "code",
   "execution_count": 3,
   "metadata": {},
   "outputs": [],
   "source": [
    "from tqdm import *\n",
    "import time"
   ]
  },
  {
   "cell_type": "code",
   "execution_count": 4,
   "metadata": {},
   "outputs": [],
   "source": [
    "import sys\n",
    "sys.path.append('/data/shibo/LLM-search/LLMs-Planning/llm_planning_analysis')"
   ]
  },
  {
   "cell_type": "code",
   "execution_count": 5,
   "metadata": {},
   "outputs": [],
   "source": [
    "from Executor import Executor"
   ]
  },
  {
   "cell_type": "code",
   "execution_count": 6,
   "metadata": {},
   "outputs": [],
   "source": [
    "data_path = \"/data/shibo/LLM-search/LLMs-Planning/llm_planning_analysis/instances/blocksworld/generated_basic\""
   ]
  },
  {
   "cell_type": "code",
   "execution_count": 7,
   "metadata": {},
   "outputs": [],
   "source": [
    "import sys\n",
    "sys.path.append(\"gpt-plan-benchmark/gpt_plan_test\")\n",
    "from Executor import Executor\n",
    "# from reasoners.benchmark.bw_utils import *\n",
    "from utils import *\n",
    "from pathlib import Path\n",
    "from tarski.io import PDDLReader"
   ]
  },
  {
   "cell_type": "code",
   "execution_count": 8,
   "metadata": {},
   "outputs": [],
   "source": [
    "def get_problem(instance, domain):\n",
    "    reader = PDDLReader(raise_on_error=True)\n",
    "    reader.parse_domain(domain)\n",
    "    return reader.parse_instance(instance)\n",
    "def get_executor(instance, domain):\n",
    "    plan_executor = Executor(domain, instance)\n",
    "    return plan_executor\n",
    "def compute_plan(domain, instance, timeout=30):\n",
    "    fast_downward_path = os.getenv(\"FAST_DOWNWARD\")\n",
    "    # Remove > /dev/null to see the output of fast-downward\n",
    "    assert os.path.exists(f\"{fast_downward_path}/fast-downward.py\")\n",
    "    '''\n",
    "    cmd = f\"{fast_downward_path}/fast-downward.py --log-level debug --translate {domain} {instance} > /dev/null 2>&1\"\n",
    "    os.system(cmd)\n",
    "    time.sleep(0.5)\n",
    "    cmd = f\"{fast_downward_path}/fast-downward.py --log-level debug output.sas --search-options --search  \\\"astar(lmcut())\\\" > /dev/null 2>&1\" \n",
    "    os.system(cmd)\n",
    "    time.sleep(0.5)\n",
    "    '''\n",
    "    if os.path.exists(\"sas_plan\"):\n",
    "        try:\n",
    "            os.remove(\"sas_plan\")\n",
    "        except Exception as e:\n",
    "            print(e)\n",
    "\n",
    "    while not os.path.exists(\"sas_plan\"):\n",
    "        cmd = f\"timeout {timeout}s {fast_downward_path}/fast-downward.py --log-level debug {domain} {instance} --search \\\"astar(lmcut())\\\"  > /dev/null 2>&1\"\n",
    "        # print(cmd)\n",
    "        os.system(cmd)\n",
    "        time.sleep(2)\n",
    "        \n",
    "    \n",
    "    if not os.path.exists(\"sas_plan\"):\n",
    "        print(\"Plan failed\")\n",
    "        return \"\"\n",
    "    \n",
    "    return Path(\"sas_plan\").read_text()"
   ]
  },
  {
   "cell_type": "code",
   "execution_count": 9,
   "metadata": {},
   "outputs": [],
   "source": [
    "config_file = \"/data/shibo/LLM-search/examples/rap_blocksworld/data/bw_config.yaml\""
   ]
  },
  {
   "cell_type": "code",
   "execution_count": 10,
   "metadata": {},
   "outputs": [],
   "source": [
    "import yaml\n",
    "def read_config(config_file):\n",
    "    with open(config_file, 'r') as file:\n",
    "        data = yaml.safe_load(file)\n",
    "    return data"
   ]
  },
  {
   "cell_type": "code",
   "execution_count": 11,
   "metadata": {},
   "outputs": [],
   "source": [
    "domain_pddl = \"/data/shibo/LLM-search/examples/rap_blocksworld/data/generated_domain.pddl\""
   ]
  },
  {
   "cell_type": "code",
   "execution_count": 12,
   "metadata": {},
   "outputs": [],
   "source": [
    "data = read_config(config_file)"
   ]
  },
  {
   "cell_type": "code",
   "execution_count": 13,
   "metadata": {},
   "outputs": [],
   "source": [
    "import re\n",
    "# re.findall(\"\\(.*?\\)\", \"(cc d), (ds)\")"
   ]
  },
  {
   "cell_type": "code",
   "execution_count": 14,
   "metadata": {},
   "outputs": [
    {
     "name": "stderr",
     "output_type": "stream",
     "text": [
      "  0%|          | 0/501 [00:02<?, ?it/s]\n"
     ]
    }
   ],
   "source": [
    "from tqdm import *\n",
    "my_data = []\n",
    "for i in tqdm(os.listdir(data_path)):\n",
    "    if i.endswith(\".pddl\"):\n",
    "        data_file = os.path.join(data_path, i)\n",
    "        # print(i)\n",
    "    else:\n",
    "        print(\"Not pddl file\", i)\n",
    "        continue\n",
    "    cur_instance = data_file\n",
    "    problem = get_problem(cur_instance, domain_pddl)\n",
    "    gt_plan = compute_plan(domain_pddl, cur_instance)\n",
    "    gt_plan_text = get_plan_as_text(data)\n",
    "    break\n",
    "    my_data.append((cur_instance, gt_plan_text, len(re.findall(\"\\(.*?\\)\", gt_plan_text))))"
   ]
  },
  {
   "cell_type": "code",
   "execution_count": 18,
   "metadata": {},
   "outputs": [],
   "source": [
    "val_path = os.getenv(\"VAL\")\n",
    "cmd = f\"{val_path}/validate -v {domain_pddl} {cur_instance} sas_plan\"\n",
    "response = os.popen(cmd).read()"
   ]
  },
  {
   "cell_type": "code",
   "execution_count": 20,
   "metadata": {},
   "outputs": [
    {
     "name": "stdout",
     "output_type": "stream",
     "text": [
      "Checking plan: sas_plan\n",
      "Plan to validate:\n",
      "\n",
      "Plan size: 10\n",
      "1:\n",
      "(unstack a c)\n",
      " \n",
      "2:\n",
      "(put-down a)\n",
      " \n",
      "3:\n",
      "(unstack c d)\n",
      " \n",
      "4:\n",
      "(stack c a)\n",
      " \n",
      "5:\n",
      "(unstack d b)\n",
      " \n",
      "6:\n",
      "(put-down d)\n",
      " \n",
      "7:\n",
      "(unstack c a)\n",
      " \n",
      "8:\n",
      "(stack c d)\n",
      " \n",
      "9:\n",
      "(pick-up b)\n",
      " \n",
      "10:\n",
      "(stack b c)\n",
      " \n",
      "\n",
      "Plan Validation details\n",
      "-----------------------\n",
      "\n",
      "Checking next happening (time 1)\n",
      "Deleting (on a c)\n",
      "Deleting (clear a)\n",
      "Deleting (handempty)\n",
      "Adding (holding a)\n",
      "Adding (clear c)\n",
      "\n",
      "Checking next happening (time 2)\n",
      "Deleting (holding a)\n",
      "Adding (clear a)\n",
      "Adding (handempty)\n",
      "Adding (ontable a)\n",
      "\n",
      "Checking next happening (time 3)\n",
      "Deleting (on c d)\n",
      "Deleting (clear c)\n",
      "Deleting (handempty)\n",
      "Adding (holding c)\n",
      "Adding (clear d)\n",
      "\n",
      "Checking next happening (time 4)\n",
      "Deleting (clear a)\n",
      "Deleting (holding c)\n",
      "Adding (handempty)\n",
      "Adding (clear c)\n",
      "Adding (on c a)\n",
      "\n",
      "Checking next happening (time 5)\n",
      "Deleting (on d b)\n",
      "Deleting (clear d)\n",
      "Deleting (handempty)\n",
      "Adding (holding d)\n",
      "Adding (clear b)\n",
      "\n",
      "Checking next happening (time 6)\n",
      "Deleting (holding d)\n",
      "Adding (clear d)\n",
      "Adding (handempty)\n",
      "Adding (ontable d)\n",
      "\n",
      "Checking next happening (time 7)\n",
      "Deleting (on c a)\n",
      "Deleting (clear c)\n",
      "Deleting (handempty)\n",
      "Adding (holding c)\n",
      "Adding (clear a)\n",
      "\n",
      "Checking next happening (time 8)\n",
      "Deleting (clear d)\n",
      "Deleting (holding c)\n",
      "Adding (handempty)\n",
      "Adding (clear c)\n",
      "Adding (on c d)\n",
      "\n",
      "Checking next happening (time 9)\n",
      "Deleting (clear b)\n",
      "Deleting (ontable b)\n",
      "Deleting (handempty)\n",
      "Adding (holding b)\n",
      "\n",
      "Checking next happening (time 10)\n",
      "Deleting (clear c)\n",
      "Deleting (holding b)\n",
      "Adding (handempty)\n",
      "Adding (clear b)\n",
      "Adding (on b c)\n",
      "Plan executed successfully - checking goal\n",
      "Plan valid\n",
      "Final value: 10 \n",
      "\n",
      "Successful plans:\n",
      "Value: 10\n",
      " sas_plan 10 \n",
      "\n",
      "\n"
     ]
    }
   ],
   "source": [
    "print(response)"
   ]
  },
  {
   "cell_type": "code",
   "execution_count": 15,
   "metadata": {},
   "outputs": [
    {
     "data": {
      "text/plain": [
       "'/data/shibo/LLM-search/examples/rap_blocksworld/data/generated_domain.pddl'"
      ]
     },
     "execution_count": 15,
     "metadata": {},
     "output_type": "execute_result"
    }
   ],
   "source": [
    "domain_pddl"
   ]
  },
  {
   "cell_type": "code",
   "execution_count": 19,
   "metadata": {},
   "outputs": [
    {
     "name": "stdout",
     "output_type": "stream",
     "text": [
      "/data/shibo/LLM-search/LLMs-Planning/llm_planning_analysis/instances/blocksworld/generated_basic/instance-131.pddl\n"
     ]
    }
   ],
   "source": [
    "print(cur_instance)"
   ]
  },
  {
   "cell_type": "code",
   "execution_count": 17,
   "metadata": {},
   "outputs": [
    {
     "data": {
      "text/plain": [
       "'(unstack a c)\\n(put-down a)\\n(unstack c d)\\n(stack c a)\\n(unstack d b)\\n(put-down d)\\n(unstack c a)\\n(stack c d)\\n(pick-up b)\\n(stack b c)\\n'"
      ]
     },
     "execution_count": 17,
     "metadata": {},
     "output_type": "execute_result"
    }
   ],
   "source": [
    "gt_plan_text"
   ]
  },
  {
   "cell_type": "code",
   "execution_count": null,
   "metadata": {},
   "outputs": [],
   "source": []
  },
  {
   "cell_type": "code",
   "execution_count": 22,
   "metadata": {},
   "outputs": [],
   "source": [
    "data_path_sup = \"/data/shibo/LLM-search/LLMs-Planning/llm_planning_analysis/instances/blocksworld/generated_basic_3\""
   ]
  },
  {
   "cell_type": "code",
   "execution_count": 23,
   "metadata": {},
   "outputs": [
    {
     "name": "stderr",
     "output_type": "stream",
     "text": [
      "100%|██████████| 101/101 [03:35<00:00,  2.13s/it]\n"
     ]
    }
   ],
   "source": [
    "from tqdm import *\n",
    "my_data_sup = []\n",
    "for i in tqdm(os.listdir(data_path_sup)):\n",
    "    if i.endswith(\".pddl\"):\n",
    "        data_file = os.path.join(data_path_sup, i)\n",
    "        # print(i)\n",
    "    else:\n",
    "        print(\"Not pddl file\", i)\n",
    "        continue\n",
    "    cur_instance = data_file\n",
    "    problem = get_problem(cur_instance, domain_pddl)\n",
    "    gt_plan = compute_plan(domain_pddl, cur_instance)\n",
    "    gt_plan_text = get_plan_as_text(data)\n",
    "    my_data_sup.append((cur_instance, gt_plan_text, len(re.findall(\"\\(.*?\\)\", gt_plan_text))))"
   ]
  },
  {
   "cell_type": "code",
   "execution_count": 25,
   "metadata": {},
   "outputs": [
    {
     "data": {
      "text/plain": [
       "501"
      ]
     },
     "execution_count": 25,
     "metadata": {},
     "output_type": "execute_result"
    }
   ],
   "source": [
    "len(my_data)"
   ]
  },
  {
   "cell_type": "code",
   "execution_count": 26,
   "metadata": {},
   "outputs": [
    {
     "data": {
      "text/plain": [
       "101"
      ]
     },
     "execution_count": 26,
     "metadata": {},
     "output_type": "execute_result"
    }
   ],
   "source": [
    "len(my_data_sup)"
   ]
  },
  {
   "cell_type": "code",
   "execution_count": 27,
   "metadata": {},
   "outputs": [],
   "source": [
    "import json"
   ]
  },
  {
   "cell_type": "code",
   "execution_count": 28,
   "metadata": {},
   "outputs": [],
   "source": [
    "json.dump(my_data, open(\"bw_basic.json\", \"w\"))\n",
    "json.dump(my_data_sup, open(\"bw_basic_sup.json\", \"w\"))"
   ]
  },
  {
   "cell_type": "code",
   "execution_count": 30,
   "metadata": {},
   "outputs": [],
   "source": [
    "json.dump(my_data + my_data_sup, open(\"full\", \"w\"))"
   ]
  },
  {
   "cell_type": "code",
   "execution_count": 31,
   "metadata": {},
   "outputs": [],
   "source": [
    "under_8 = [d for d in my_data + my_data_sup if d[-1] <= 8]"
   ]
  },
  {
   "cell_type": "code",
   "execution_count": 35,
   "metadata": {},
   "outputs": [],
   "source": [
    "under_6 = [d for d in my_data + my_data_sup if d[-1] <= 6]"
   ]
  },
  {
   "cell_type": "code",
   "execution_count": 36,
   "metadata": {},
   "outputs": [
    {
     "name": "stdout",
     "output_type": "stream",
     "text": [
      "441\n",
      "288\n"
     ]
    }
   ],
   "source": [
    "print(len(under_8))\n",
    "print(len(under_6))"
   ]
  },
  {
   "cell_type": "code",
   "execution_count": 37,
   "metadata": {},
   "outputs": [],
   "source": [
    "json.dump(under_8, open(\"under_8.json\", \"w\"))\n",
    "json.dump(under_6, open(\"under_6.json\", \"w\"))"
   ]
  },
  {
   "cell_type": "code",
   "execution_count": null,
   "metadata": {},
   "outputs": [],
   "source": [
    "# Reproduce Haotian's 100% results\n",
    "# CUDA_VISIBLE_DEVICES=2,3 python examples/rap_blocksworld/inference.py --data_path 'examples/rap_blocksworld/data/step_4.json' --depth_limit 4 --model_dir $LLAMA2_CKPTS --lora_dir None --batch_size 1 --output_trace_in_each_iter --mem_map [16,22]\n",
    "\n",
    "# CUDA_VISIBLE_DEVICES=4,5 python examples/rap_blocksworld/inference.py --data_path 'examples/rap_blocksworld/data/under_6.json' --depth_limit 6 --model_dir $LLAMA2_CKPTS --lora_dir None --batch_size 1 --output_trace_in_each_iter --mem_map [16,22] --n_iters 20\n",
    "\n"
   ]
  },
  {
   "cell_type": "code",
   "execution_count": 1,
   "metadata": {},
   "outputs": [],
   "source": [
    "import json"
   ]
  },
  {
   "cell_type": "code",
   "execution_count": 3,
   "metadata": {},
   "outputs": [],
   "source": [
    "all_data = json.load(open(\"/data/shibo/LLM-search/examples/rap_blocksworld/data/full.json\", \"r\"))"
   ]
  },
  {
   "cell_type": "code",
   "execution_count": 7,
   "metadata": {},
   "outputs": [
    {
     "name": "stdout",
     "output_type": "stream",
     "text": [
      "47\n",
      "86\n",
      "155\n",
      "153\n",
      "113\n",
      "46\n",
      "1\n",
      "1\n"
     ]
    }
   ],
   "source": [
    "for i in range(2, 30, 2):\n",
    "    step_data = [d for d in all_data if d[-1] == i]\n",
    "    if len(step_data) == 0:\n",
    "        continue\n",
    "    json.dump(step_data, open(f\"/data/shibo/LLM-search/examples/rap_blocksworld/data/new_data/step_{i}.json\", \"w\"))\n",
    "    print(len(step_data))"
   ]
  },
  {
   "cell_type": "code",
   "execution_count": null,
   "metadata": {},
   "outputs": [],
   "source": []
  }
 ],
 "metadata": {
  "kernelspec": {
   "display_name": "llama",
   "language": "python",
   "name": "python3"
  },
  "language_info": {
   "codemirror_mode": {
    "name": "ipython",
    "version": 3
   },
   "file_extension": ".py",
   "mimetype": "text/x-python",
   "name": "python",
   "nbconvert_exporter": "python",
   "pygments_lexer": "ipython3",
   "version": "3.10.6"
  },
  "orig_nbformat": 4
 },
 "nbformat": 4,
 "nbformat_minor": 2
}
