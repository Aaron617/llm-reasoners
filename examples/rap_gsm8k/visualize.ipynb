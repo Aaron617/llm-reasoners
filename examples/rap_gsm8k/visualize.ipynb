{
 "cells": [
  {
   "cell_type": "code",
   "execution_count": 1,
   "metadata": {
    "ExecuteTime": {
     "end_time": "2023-07-26T17:40:28.577480Z",
     "start_time": "2023-07-26T17:40:28.524400Z"
    }
   },
   "outputs": [],
   "source": [
    "import pickle"
   ]
  },
  {
   "cell_type": "code",
   "execution_count": 2,
   "metadata": {
    "ExecuteTime": {
     "end_time": "2023-07-26T17:40:29.773085Z",
     "start_time": "2023-07-26T17:40:28.531132Z"
    }
   },
   "outputs": [],
   "source": [
    "# add path\n",
    "import sys\n",
    "sys.path.append('..')\n",
    "import os\n",
    "# print(os.cwd())"
   ]
  },
  {
   "cell_type": "code",
   "execution_count": 3,
   "metadata": {},
   "outputs": [
    {
     "name": "stderr",
     "output_type": "stream",
     "text": [
      "/data/haotian/anaconda3/envs/RAP/lib/python3.10/site-packages/tqdm/auto.py:21: TqdmWarning: IProgress not found. Please update jupyter and ipywidgets. See https://ipywidgets.readthedocs.io/en/stable/user_install.html\n",
      "  from .autonotebook import tqdm as notebook_tqdm\n"
     ]
    }
   ],
   "source": [
    "from reasoners.visualization import visualize"
   ]
  },
  {
   "cell_type": "code",
   "execution_count": 4,
   "metadata": {
    "ExecuteTime": {
     "end_time": "2023-07-26T17:44:32.732062Z",
     "start_time": "2023-07-26T17:44:32.477654Z"
    }
   },
   "outputs": [],
   "source": [
    "from reasoners.visualization.tree_snapshot import NodeData\n",
    "from reasoners.algorithm.mcts import MCTSNode"
   ]
  },
  {
   "cell_type": "code",
   "execution_count": 5,
   "metadata": {},
   "outputs": [],
   "source": [
    "mcts_result = pickle.load(open('/data/haotian/RAP_tune/llm-reasoners/logs/gsm8k_MCTS/08312023-041634/algo_output/5.pkl', 'rb'))"
   ]
  },
  {
   "cell_type": "code",
   "execution_count": 6,
   "metadata": {},
   "outputs": [
    {
     "data": {
      "text/plain": [
       "[SubResult(sub_question='How many cups of feed does Wendi give her chickens in the morning and afternoon?', sub_answer='Wendi gives her flock of chickens 15 cups of feed in the morning and 25 cups of feed in the afternoon. The answer is 15 + 25 = 40 cups.', confidence=1.0),\n",
       " SubResult(sub_question=\"Now we can answer the question: How many cups of feed does she need to give her chickens in the final meal of the day if the size of Wendi's flock is 20 chickens?\", sub_answer='Wendi has 20 chickens in her flock. Each chicken needs 3 cups of feed per meal. So in the final meal of the day, she needs to give her chickens 20 * 3 = 60 cups of feed. The answer is 60.', confidence=1.0)]"
      ]
     },
     "execution_count": 6,
     "metadata": {},
     "output_type": "execute_result"
    }
   ],
   "source": [
    "mcts_result.terminal_state"
   ]
  },
  {
   "cell_type": "code",
   "execution_count": 7,
   "metadata": {},
   "outputs": [],
   "source": [
    "def gsm_node_data_factory(x: MCTSNode):\n",
    "    if not x.state:\n",
    "        return {}\n",
    "    return {\"question\": x.state[-1].sub_question, \"answer\": x.state[-1].sub_answer}\n",
    "def gsm_edge_data_factory(n: MCTSNode):\n",
    "    return {\"Q\": n.Q, \"action\": n.action}\n"
   ]
  },
  {
   "cell_type": "code",
   "execution_count": 8,
   "metadata": {},
   "outputs": [
    {
     "name": "stdout",
     "output_type": "stream",
     "text": [
      "Visualizer URL: https://www.llm-reasoners.net/visualizer/6b2083e0-4ff2-4e62-926b-eccd153efbbb?accessKey=5731ba57\n"
     ]
    }
   ],
   "source": [
    "visualize(mcts_result, node_data_factory=gsm_node_data_factory, edge_data_factory=gsm_edge_data_factory)"
   ]
  }
 ],
 "metadata": {
  "kernelspec": {
   "display_name": "rap",
   "language": "python",
   "name": "python3"
  },
  "language_info": {
   "codemirror_mode": {
    "name": "ipython",
    "version": 3
   },
   "file_extension": ".py",
   "mimetype": "text/x-python",
   "name": "python",
   "nbconvert_exporter": "python",
   "pygments_lexer": "ipython3",
   "version": "3.10.12"
  },
  "orig_nbformat": 4
 },
 "nbformat": 4,
 "nbformat_minor": 2
}
