{
 "cells": [
  {
   "cell_type": "code",
   "execution_count": 1,
   "metadata": {
    "ExecuteTime": {
     "end_time": "2023-07-26T17:40:28.577480Z",
     "start_time": "2023-07-26T17:40:28.524400Z"
    }
   },
   "outputs": [],
   "source": [
    "import pickle"
   ]
  },
  {
   "cell_type": "code",
   "execution_count": 2,
   "metadata": {
    "ExecuteTime": {
     "end_time": "2023-07-26T17:40:29.773085Z",
     "start_time": "2023-07-26T17:40:28.531132Z"
    }
   },
   "outputs": [],
   "source": [
    "# add path\n",
    "import sys\n",
    "sys.path.append('..')\n",
    "from reasoners.visualization import ReasonersVisualizer"
   ]
  },
  {
   "cell_type": "code",
   "execution_count": 4,
   "metadata": {
    "ExecuteTime": {
     "end_time": "2023-07-26T17:40:46.023579Z",
     "start_time": "2023-07-26T17:40:46.023281Z"
    }
   },
   "outputs": [],
   "source": [
    "with open(\"/home/shibo/LLM-search/logs/gsm8k_MCTS/07242023-163245/algo_output/28.pkl\", 'rb') as f:\n",
    "    mcts_result = pickle.load(f)"
   ]
  },
  {
   "cell_type": "code",
   "execution_count": 8,
   "metadata": {
    "ExecuteTime": {
     "end_time": "2023-07-26T17:44:32.732062Z",
     "start_time": "2023-07-26T17:44:32.477654Z"
    }
   },
   "outputs": [
    {
     "name": "stdout",
     "output_type": "stream",
     "text": [
      "0.804859106042877 False How long does it take to download the file without the Windows updates? The file is 200 GB which is 200 * 10^9 bytes. If Carla downloads 2 GB/minute, she can download the file in 100 hours. The answer is 100 hours.\n",
      "0.4915123805197205 True Now we can answer the question: How long does it take to download the file? Carla can download 2 GB/minute except for the 40% of the way through the download. Then she has to restart from the beginning. So she downloads 2 GB/minute for 60% of the way through and then it must take 20 minutes for the Windows updates to install. So she downloads at 2 GB/minute for 60% of the way through + 20 minutes. So she downloads the file in 2 * 60 / 100 + 20 = 360 / 120 + 20 = 320 + 20 = 340 minutes. The answer is 340 minutes. Tags: javascript, angularjs, unit-testing, testing, jasmine\n",
      "===\n",
      "0.5283592618733158 False How much of the file has Carla downloaded before the windows restart? Before the windows restart, 40% of the file has been downloaded, which is 40% of 200 GB = 80 GB. The answer is 80.\n",
      "0.7981420802810733 True Now we can answer the question: How load does it take to download the file? Carla had 2 GB/minute. Now she has 2 GB / (60 * 2) = 2 GB / 120 = 0.0167 GB/second. Therefore, it takes 200 GB / 0.0167 GB/second = 12,000 seconds to download the file. The answer is 12,000. Tags: javascript, reactjs, jestjs\n",
      "===\n",
      "0.5283592618733158 False How much of the file has Carla downloaded before the windows restart? Before the windows restart, 40% of the file has been downloaded, which is 40% of 200 GB = 80 GB. The answer is 80.\n",
      "0.7981420802810733 True Now we can answer the question: How load does it take to download the file? Carla had 2 GB/minute. Now she has 2 GB / (60 * 2) = 2 GB / 120 = 0.0167 GB/second. Therefore, it takes 200 GB / 0.0167 GB/second = 12,000 seconds to download the file. The answer is 12,000. Tags: javascript, reactjs, jestjs\n",
      "===\n",
      "0.5153684845002958 False How long does it take to download the file normally? Carla can download 2 GB/minute. So she can download 200 GB in 100 minutes. The answer is 100 minutes.\n",
      "0.5691213579654097 True Now we can answer the question: How load does it take to download the file? Carla normally downloads it in 100 minutes. But she has to restart the download twice. First time is after 40% of the data has been downloaded. So she will have to download 80% of the data. The second time is after the 80% has been downloaded. So she will have to download 100 - 80 = 20% of the data. A total of 20% of the data is equal to 200 GB * 0.2 = 40 GB. So she has to download 40 GB. The answer is 40 GB.\n",
      "===\n",
      "0.804859106042877 False How long does it take to download the file without the Windows updates? The file is 200 GB which is 200 * 10^9 bytes. If Carla downloads 2 GB/minute, she can download the file in 100 hours. The answer is 100 hours.\n",
      "0.3761710122357038 False How long does it take to download the file with the Windows updates? Carla has to restart the download 40% of the way through, which is 80% of the remaining time. So Carla has to restart the download 80 * 100 / 100 = 80 hours into the download. The answer is 80 hours.\n",
      "0.5870713770506023 True Now we can answer the question: How long does it take to download the file? Carla downloads the file in 100 hours without the Windows update. Then she has to restart the download from the beginning after the Windows update. So Carla downloads the file in 100 + 80 = 180 hours. The answer is 180 hours.\n",
      "===\n",
      "0.49804309020754783 False How much time does it take to download 100 GB? Carla can download 2 GB/minute. So it'll take 100 GB / 2 GB/minute = 50 minutes. The answer is 50.\n",
      "0.6448665440354924 False How much time does it take to download 30% of the file? Carla can download 2 GB/minute. So the fraction of 30% is 0.3. 0.3 x 50 = 15 minutes. The answer is 15.\n",
      "0.588490455785023 True Now we can answer the question: How long does it take to download the file? Carla can download 2 GB/minute. So 100 GB is 50 minutes, 50 GB is 25 minutes and 15 GB is 7.5 minutes. 100 - 50 = 50 and 50 - 25 = 25 and 25 - 15 = 10. So it takes 50 + 25 + 10 = 85 minutes. The answer is 85. Tags: c#, .net, string, string-formatting\n",
      "===\n",
      "0.49804309020754783 False How much time does it take to download 100 GB? Carla can download 2 GB/minute. So it'll take 100 GB / 2 GB/minute = 50 minutes. The answer is 50.\n",
      "0.26234695139528263 False How much time does it take to download 50% of the file? 200 GB is 50% of 400 GB. So it'll take 50% / 2 GB/minute = 25 minutes. The answer is 25.\n",
      "0.5898975827743921 True Now we can answer the question: How long does it take to download the file? It'll take 50 + 25 + 20 = 95 minutes to download the file. The answer is 95.\n",
      "===\n",
      "0.5153684845002958 False How long does it take to download the file normally? Carla can download 2 GB/minute. So she can download 200 GB in 100 minutes. The answer is 100 minutes.\n",
      "0.39448046593476876 False How long does it take to download the file including the forced restart? The file is 200 GB, but she needs to do it twice. So the total time is 200 + 200 = 400 GB. Since she can download 2 GB/minute, she can download 400 GB in 200 minutes. The answer is 200 minutes.\n",
      "0.5752924786864929 True Now we can answer the question: How long does it take to download the file? It takes 100 minutes to download the file normally. Carla needs to download the file twice, but she downloads 40% of the file before the forced restart. This is because the restart took 20 minutes, and 20% of 200 GB is 40 GB. So she has to download the remaining 60% of the file (100 - 40 = 60 %) after the forced restart. She can download 60% of 200 GB in 200 minutes, which is 200 * 0.6 = 120 minutes. The answer is 120 minutes. package com.github.dynamicextensionsalfresco.processor;\n",
      "===\n",
      "0.5283592618733158 False How much of the file has Carla downloaded before the windows restart? Before the windows restart, 40% of the file has been downloaded, which is 40% of 200 GB = 80 GB. The answer is 80.\n",
      "0.742029193257614 False How much of the file has Carla downloaded after the windows restart? After the windows restart, Carla has to restart the download from the beginning. So after the windows restart, Carla has downloaded 0 GB of the file. The answer is 0.\n",
      "0.41612557404450745 True Now we can answer the question: How long does it take to download the file? Carla has to download 200 GB of file before the windows restart, and 0 GB of the file after the windows restart, giving a total of 80 GB. Carla can download 2 GB/minute. So it takes 80 / 2 = 40 minutes. The answer is 40 minutes.\n",
      "===\n",
      "0.804859106042877 False How long does it take to download the file without the Windows updates? The file is 200 GB which is 200 * 10^9 bytes. If Carla downloads 2 GB/minute, she can download the file in 100 hours. The answer is 100 hours.\n",
      "0.37360641697334046 False How many hours does it take to download the file after the Windows update? After the update, Carla has to restart from the beginning. So she downloads 100 * 200 * 10^9 / 200 / 128 = 20 hours of the file. The answer is 20 hours.\n",
      "0.7137114515433727 True Now we can answer the question: How long does it take to download the file? The file is downloaded for 100 hours before the Windows updates. After the updates, it is downloaded for 20 hours. It's a total of 120 hours. The answer is 120 hours.\n",
      "===\n"
     ]
    }
   ],
   "source": [
    "from reasoners.visualization.tree_snapshot import NodeData\n",
    "from reasoners.algorithm.mcts import MCTSNode"
   ]
  },
  {
   "cell_type": "code",
   "execution_count": 6,
   "metadata": {},
   "outputs": [],
   "source": [
    "def gsm_node_data_factory(x: MCTSNode):\n",
    "    if not x.state:\n",
    "        return {}\n",
    "    return {\"question\": x.state[-1].sub_question, \"answer\": x.state[-1].sub_answer}"
   ]
  },
  {
   "cell_type": "code",
   "execution_count": 7,
   "metadata": {},
   "outputs": [
    {
     "name": "stdout",
     "output_type": "stream",
     "text": [
      "Visualizer URL: https://www.llm-reasoners.net/visualizer/c2e29334-e507-4fcc-aeb1-fc1479ac5b09?accessKey=c886d4e2\n"
     ]
    }
   ],
   "source": [
    "# This line of code is compatible with the current version of demo.\n",
    "ReasonersVisualizer.visualize(mcts_result, node_data_factory=lambda x: {\"state\": str(gsm_node_data_factory(x))})"
   ]
  },
  {
   "cell_type": "code",
   "execution_count": 26,
   "metadata": {},
   "outputs": [],
   "source": [
    "# To Xiyan: Please support dict as state in the future.\n",
    "# ReasonersVisualizer.visualize(mcts_result, node_data_factory=gsm_node_data_factory)"
   ]
  },
  {
   "cell_type": "code",
   "execution_count": null,
   "metadata": {},
   "outputs": [],
   "source": []
  }
 ],
 "metadata": {
  "kernelspec": {
   "display_name": "rap",
   "language": "python",
   "name": "python3"
  },
  "language_info": {
   "codemirror_mode": {
    "name": "ipython",
    "version": 3
   },
   "file_extension": ".py",
   "mimetype": "text/x-python",
   "name": "python",
   "nbconvert_exporter": "python",
   "pygments_lexer": "ipython3",
   "version": "3.10.11"
  },
  "orig_nbformat": 4
 },
 "nbformat": 4,
 "nbformat_minor": 2
}
