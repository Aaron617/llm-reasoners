{
 "cells": [
  {
   "cell_type": "code",
   "execution_count": 1,
   "metadata": {},
   "outputs": [],
   "source": [
    "import os\n",
    "import json\n"
   ]
  },
  {
   "cell_type": "code",
   "execution_count": 6,
   "metadata": {},
   "outputs": [],
   "source": [
    "for _ in ['step_2.json', 'step_4.json', 'step_6.json']:\n",
    "    data = json.load(open(_))\n",
    "    # print(len(data))\n",
    "    for example in data:\n",
    "        # print(example[0])\n",
    "        example[0] = example[0].replace('/instances/generated_basic/', '/instances/blocksworld/generated_basic/')\n",
    "    json.dump(obj=data, fp=open(f\"../new_data/{_}\", 'w', encoding='utf'))\n",
    "    \n"
   ]
  },
  {
   "cell_type": "code",
   "execution_count": 10,
   "metadata": {},
   "outputs": [
    {
     "name": "stdout",
     "output_type": "stream",
     "text": [
      "split_v1_step_6_data.json 152\n",
      "split_v1_step_12_data.json 46\n",
      "split_v1_step_4_data.json 84\n",
      "split_v1_step_2_data.json 45\n",
      "split_v1_step_10_data.json 112\n",
      "split_v1_step_8_data.json 151\n"
     ]
    }
   ],
   "source": [
    "d = \"./split_v1/\"\n",
    "for _ in os.listdir(d):\n",
    "    print(_, len(json.load(open(f'{d}/{_}'))))\n"
   ]
  },
  {
   "cell_type": "code",
   "execution_count": 11,
   "metadata": {},
   "outputs": [],
   "source": [
    "result_path = \"../../../results/step_4_result.json\"\n",
    "result = json.load(open(result_path))"
   ]
  },
  {
   "cell_type": "code",
   "execution_count": 14,
   "metadata": {},
   "outputs": [
    {
     "name": "stdout",
     "output_type": "stream",
     "text": [
      "pre ['the blue block is clear, the red block is in the hand, the hand is holding the red block, the blue block is on top of the yellow block, the yellow block is on top of the orange block and the orange block is on the table', 'the blue block is clear, the red block is clear, the hand is empty, the blue block is on top of the yellow block, the red block is on top of the yellow block, the yellow block is on top of the orange block and the orange block is on the table', 'the blue block is in the hand, the red block is clear, the yellow block is clear, the hand is holding the blue block, the red block is on top of the yellow block, the yellow block is on top of the orange block and the orange block is on the table', 'the blue block is clear, the yellow block is clear, the hand is empty, the blue block is on top of the red block, the red block is on top of the yellow block, the yellow block is on top of the orange block and the orange block is on the table']\n",
      "gold ['the blue block is clear, the red block is in the hand, the hand is holding the red block, the blue block is on top of the yellow block, the yellow block is on top of the orange block and the orange block is on the table', 'the blue block is clear, the red block is clear, the hand is empty, the blue block is on top of the yellow block, the yellow block is on top of the orange block, the orange block is on the table and the red block is on the table', 'the blue block is in the hand, the red block is clear, the yellow block is clear, the hand is holding the blue block, the yellow block is on top of the orange block, the orange block is on the table and the red block is on the table', 'the blue block is clear, the yellow block is clear, the hand is empty, the blue block is on top of the red block, the yellow block is on top of the orange block, the orange block is on the table and the red block is on the table']\n"
     ]
    }
   ],
   "source": [
    "pred_states, gold_states = result['predicted_states'], result['gold_states']\n",
    "for a, b in zip(pred_states, gold_states):\n",
    "    for _, __ in zip(a, b):\n",
    "        if _ != __:\n",
    "            print(_)\n",
    "            print(_-)"
   ]
  },
  {
   "cell_type": "code",
   "execution_count": null,
   "metadata": {},
   "outputs": [],
   "source": []
  }
 ],
 "metadata": {
  "kernelspec": {
   "display_name": "reasoners",
   "language": "python",
   "name": "python3"
  },
  "language_info": {
   "codemirror_mode": {
    "name": "ipython",
    "version": 3
   },
   "file_extension": ".py",
   "mimetype": "text/x-python",
   "name": "python",
   "nbconvert_exporter": "python",
   "pygments_lexer": "ipython3",
   "version": "3.10.13"
  }
 },
 "nbformat": 4,
 "nbformat_minor": 2
}
