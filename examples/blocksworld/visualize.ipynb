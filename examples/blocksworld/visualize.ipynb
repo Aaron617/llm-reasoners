{
 "cells": [
  {
   "cell_type": "code",
   "execution_count": 1,
   "metadata": {
    "ExecuteTime": {
     "start_time": "2023-07-22T15:11:40.925476Z",
     "end_time": "2023-07-22T15:11:40.929950Z"
    }
   },
   "outputs": [],
   "source": [
    "import pickle"
   ]
  },
  {
   "cell_type": "code",
   "execution_count": 2,
   "metadata": {
    "ExecuteTime": {
     "start_time": "2023-07-22T15:11:40.933414Z",
     "end_time": "2023-07-22T15:11:40.935258Z"
    }
   },
   "outputs": [],
   "source": [
    "# add path\n",
    "import sys\n",
    "sys.path.append('..')"
   ]
  },
  {
   "cell_type": "code",
   "execution_count": 3,
   "outputs": [],
   "source": [
    "from rap.visualization import ReasonersVisualizer"
   ],
   "metadata": {
    "collapsed": false,
    "ExecuteTime": {
     "start_time": "2023-07-22T15:11:40.937221Z",
     "end_time": "2023-07-22T15:11:41.137000Z"
    }
   }
  },
  {
   "cell_type": "code",
   "execution_count": 4,
   "metadata": {
    "ExecuteTime": {
     "start_time": "2023-07-22T15:11:41.138585Z",
     "end_time": "2023-07-22T15:11:44.345695Z"
    }
   },
   "outputs": [
    {
     "name": "stdout",
     "output_type": "stream",
     "text": [
      "Visualizer URL: https://www.llm-reasoners.net/visualizer/43db8666-f645-4978-b487-25001fa55838?accessKey=08c91710\n"
     ]
    }
   ],
   "source": [
    "\n",
    "with open(\"example_1.pkl\", 'rb') as f:\n",
    "    obj = pickle.load(f)\n",
    "\n",
    "    ReasonersVisualizer.visualize(obj)"
   ]
  },
  {
   "cell_type": "code",
   "execution_count": 4,
   "outputs": [],
   "source": [],
   "metadata": {
    "collapsed": false,
    "ExecuteTime": {
     "start_time": "2023-07-22T15:11:44.347406Z",
     "end_time": "2023-07-22T15:11:44.349271Z"
    }
   }
  }
 ],
 "metadata": {
  "kernelspec": {
   "display_name": "rap",
   "language": "python",
   "name": "python3"
  },
  "language_info": {
   "codemirror_mode": {
    "name": "ipython",
    "version": 3
   },
   "file_extension": ".py",
   "mimetype": "text/x-python",
   "name": "python",
   "nbconvert_exporter": "python",
   "pygments_lexer": "ipython3",
   "version": "3.10.11"
  },
  "orig_nbformat": 4
 },
 "nbformat": 4,
 "nbformat_minor": 2
}
