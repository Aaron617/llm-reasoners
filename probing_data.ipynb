{
 "cells": [
  {
   "cell_type": "code",
   "execution_count": 2,
   "metadata": {},
   "outputs": [
    {
     "name": "stderr",
     "output_type": "stream",
     "text": [
      "/Users/humengkang/Downloads/ENTER/envs/reasoners/lib/python3.10/site-packages/tqdm/auto.py:21: TqdmWarning: IProgress not found. Please update jupyter and ipywidgets. See https://ipywidgets.readthedocs.io/en/stable/user_install.html\n",
      "  from .autonotebook import tqdm as notebook_tqdm\n"
     ]
    }
   ],
   "source": [
    "import json\n",
    "import os\n",
    "import reasoners.benchmark.bw_utils as bw_utils"
   ]
  },
  {
   "cell_type": "code",
   "execution_count": 3,
   "metadata": {},
   "outputs": [],
   "source": [
    "data = json.load(open(\"./examples/blocksworld/new_data/full_data_processed/step_2.json\"))"
   ]
  },
  {
   "cell_type": "code",
   "execution_count": 4,
   "metadata": {},
   "outputs": [],
   "source": [
    "ROOT_DIR = \"./examples/blocksworld/\"\n",
    "prompt_path: str = f'{ROOT_DIR}/prompts/prompt.json'\n",
    "config_file: str = f\"{ROOT_DIR}/new_data/bw_config.yaml\"\n",
    "domain_file: str = f\"{ROOT_DIR}/data/generated_domain.pddl\"\n",
    "data_list = data['raw_data']\n",
    "full_dataset = bw_utils.load_blocksworld(config_file, domain_file, data_list=data_list)  # [{\"goal\": str, \"init\": str}]"
   ]
  },
  {
   "cell_type": "code",
   "execution_count": 5,
   "metadata": {},
   "outputs": [
    {
     "name": "stdout",
     "output_type": "stream",
     "text": [
      "init the red block is clear, the yellow block is clear, the hand is empty, the orange block is on top of the blue block, the yellow block is on top of the orange block, the blue block is on the table and the red block is on the table\n",
      "goal the orange block is on top of the blue block and the yellow block is on top of the red block\n",
      "plan \n",
      "unstack the yellow block from on top of the orange block\n",
      "stack the yellow block on top of the red block\n",
      "[PLAN END]\n",
      "\n",
      "question \n",
      "[STATEMENT]\n",
      "As initial conditions I have that, the red block is clear, the yellow block is clear, the hand is empty, the orange block is on top of the blue block, the yellow block is on top of the orange block, the blue block is on the table and the red block is on the table.\n",
      "My goal is to have that the orange block is on top of the blue block and the yellow block is on top of the red block.\n",
      "\n",
      "My plan is as follows:\n",
      "\n",
      "[PLAN]\n",
      "\n",
      "instance_file LLMs-Planning/llm_planning_analysis/instances/blocksworld/generated_basic/instance-192.pddl\n"
     ]
    }
   ],
   "source": [
    "_ = full_dataset[0]\n",
    "for k, v in _.items():\n",
    "    print(k, v)"
   ]
  },
  {
   "cell_type": "code",
   "execution_count": 6,
   "metadata": {},
   "outputs": [
    {
     "name": "stdout",
     "output_type": "stream",
     "text": [
      "the red block is clear, the yellow block is clear, the hand is empty, the orange block is on top of the blue block, the yellow block is on top of the orange block, the blue block is on the table and the red block is on the table.\n"
     ]
    }
   ],
   "source": [
    "print(bw_utils.custom_extract_init_state(_))"
   ]
  },
  {
   "cell_type": "code",
   "execution_count": null,
   "metadata": {},
   "outputs": [],
   "source": []
  }
 ],
 "metadata": {
  "kernelspec": {
   "display_name": "reasoners",
   "language": "python",
   "name": "python3"
  },
  "language_info": {
   "codemirror_mode": {
    "name": "ipython",
    "version": 3
   },
   "file_extension": ".py",
   "mimetype": "text/x-python",
   "name": "python",
   "nbconvert_exporter": "python",
   "pygments_lexer": "ipython3",
   "version": "3.10.13"
  }
 },
 "nbformat": 4,
 "nbformat_minor": 2
}
